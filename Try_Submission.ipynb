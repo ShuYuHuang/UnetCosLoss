{
 "cells": [
  {
   "cell_type": "code",
   "execution_count": 1,
   "id": "789f13e6",
   "metadata": {},
   "outputs": [],
   "source": [
    "import pandas as pd\n",
    "import numpy as np"
   ]
  },
  {
   "cell_type": "code",
   "execution_count": 22,
   "id": "446e9b1a",
   "metadata": {},
   "outputs": [],
   "source": [
    "pred=np.load(\"prediction.npz\")\n",
    "pred=next(iter(pred.values()))"
   ]
  },
  {
   "cell_type": "code",
   "execution_count": 67,
   "id": "c2a6b401",
   "metadata": {},
   "outputs": [],
   "source": [
    "\n",
    "def mask2rle(img):\n",
    "    \"\"\"\n",
    "    img: numpy array, 1 - mask, 0 - background\n",
    "    Returns run length as string formatted\n",
    "    \"\"\"\n",
    "    pixels = img.flatten()\n",
    "    pixels = np.concatenate([[0], pixels, [0]])\n",
    "    runs = np.where(pixels[1:] != pixels[:-1])[0] + 1\n",
    "    runs[1::2] -= runs[::2]\n",
    "    return ' '.join(str(x) for x in runs)\n",
    "# output=[*map(mask2rle,(pred.argmax(1)==2).astype(\"int8\"))]\n",
    "output=[*map(mask2rle,(pred[:,2]>0.55).astype(\"int8\"))]"
   ]
  },
  {
   "cell_type": "code",
   "execution_count": 68,
   "id": "a3ff9690",
   "metadata": {},
   "outputs": [],
   "source": [
    "df=pd.read_csv(\"sample_submission.csv\")\n",
    "df[\"rle\"]=output\n",
    "df.to_csv(\"submission.csv\",index=False)"
   ]
  },
  {
   "cell_type": "code",
   "execution_count": null,
   "id": "cd84f6d0",
   "metadata": {},
   "outputs": [],
   "source": []
  }
 ],
 "metadata": {
  "kernelspec": {
   "display_name": "Python 3 (ipykernel)",
   "language": "python",
   "name": "python3"
  },
  "language_info": {
   "codemirror_mode": {
    "name": "ipython",
    "version": 3
   },
   "file_extension": ".py",
   "mimetype": "text/x-python",
   "name": "python",
   "nbconvert_exporter": "python",
   "pygments_lexer": "ipython3",
   "version": "3.7.10"
  }
 },
 "nbformat": 4,
 "nbformat_minor": 5
}
