{
 "cells": [
  {
   "cell_type": "code",
   "execution_count": 1,
   "id": "c144b2aa",
   "metadata": {},
   "outputs": [],
   "source": [
    "import pandas as pd\n",
    "import numpy as np"
   ]
  },
  {
   "cell_type": "code",
   "execution_count": 22,
   "id": "8d96350d",
   "metadata": {},
   "outputs": [],
   "source": [
    "pred=np.load(\"prediction.npz\")\n",
    "pred=next(iter(pred.values()))"
   ]
  },
  {
   "cell_type": "code",
   "execution_count": 67,
   "id": "7c59dece",
   "metadata": {},
   "outputs": [],
   "source": [
    "\n",
    "def mask2rle(img):\n",
    "    \"\"\"\n",
    "    img: numpy array, 1 - mask, 0 - background\n",
    "    Returns run length as string formatted\n",
    "    \"\"\"\n",
    "    pixels = img.flatten()\n",
    "    pixels = np.concatenate([[0], pixels, [0]])\n",
    "    runs = np.where(pixels[1:] != pixels[:-1])[0] + 1\n",
    "    runs[1::2] -= runs[::2]\n",
    "    return ' '.join(str(x) for x in runs)\n",
    "# output=[*map(mask2rle,(pred.argmax(1)==2).astype(\"int8\"))]\n",
    "output=[*map(mask2rle,(pred[:,2]>0.55).astype(\"int8\"))]"
   ]
  },
  {
   "cell_type": "code",
   "execution_count": 68,
   "id": "7d62bd60",
   "metadata": {},
   "outputs": [],
   "source": [
    "df=pd.read_csv(\"sample_submission.csv\")"
   ]
  },
  {
   "cell_type": "code",
   "execution_count": 69,
   "id": "e4d23d7e",
   "metadata": {},
   "outputs": [],
   "source": [
    "df[\"rle\"]=output"
   ]
  },
  {
   "cell_type": "code",
   "execution_count": 70,
   "id": "9d7c5664",
   "metadata": {},
   "outputs": [],
   "source": [
    "df.to_csv(\"submission.csv\",index=False)"
   ]
  },
  {
   "cell_type": "code",
   "execution_count": null,
   "id": "d1b990c6",
   "metadata": {},
   "outputs": [],
   "source": []
  }
 ],
 "metadata": {
  "kernelspec": {
   "display_name": "Python 3 (ipykernel)",
   "language": "python",
   "name": "python3"
  },
  "language_info": {
   "codemirror_mode": {
    "name": "ipython",
    "version": 3
   },
   "file_extension": ".py",
   "mimetype": "text/x-python",
   "name": "python",
   "nbconvert_exporter": "python",
   "pygments_lexer": "ipython3",
   "version": "3.7.10"
  }
 },
 "nbformat": 4,
 "nbformat_minor": 5
}
