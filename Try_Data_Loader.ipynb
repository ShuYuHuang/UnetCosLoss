{
 "cells": [
  {
   "cell_type": "code",
   "execution_count": 6,
   "id": "999f3f07",
   "metadata": {},
   "outputs": [],
   "source": [
    "from os.path import join"
   ]
  },
  {
   "cell_type": "code",
   "execution_count": 7,
   "id": "d661e526",
   "metadata": {},
   "outputs": [],
   "source": [
    "DATA_ROOT=\"../datas/2_Domain_Adaptation_dataset/\"\n",
    "\n",
    "MRI_root_dir=join(DATA_ROOT,\"MRI\",\"MRI_Label\")\n",
    "MRI_anno_file=join(DATA_ROOT,\"MRI\",\"annotations/MRI_Label/annotations.json\")\n",
    "\n",
    "CT_root_dir=join(DATA_ROOT,\"CT\")\n",
    "CT_anno_file=join(DATA_ROOT,\"CT\",\"annotations/annotations.json\")"
   ]
  },
  {
   "cell_type": "code",
   "execution_count": 67,
   "id": "45649b49",
   "metadata": {},
   "outputs": [],
   "source": [
    "import cv2\n",
    "import numpy as np\n",
    "from pydicom import dcmread\n",
    "import torch\n",
    "import torch.utils.data as tud\n",
    "from pycocotools.coco import COCO\n",
    "### Utils\n",
    "def load_dcm(fname):\n",
    "    ds=dcmread(fname).pixel_array\n",
    "    # 調整格式以配合albumentation套件需求\n",
    "    return ds.astype('uint8')\n",
    "def load_msk(fname):\n",
    "    msk = cv2.imread(fname)[...,0]\n",
    "    # 調整格式以配合albumentation套件需求\n",
    "    return msk.astype('uint8')\n",
    "### Dataset\n",
    "class CTMRI_MultiClassDataset(tud.Dataset):\n",
    "    def __init__(self,anno_file,\n",
    "                 root_dir,transform=None):\n",
    "        \n",
    "        self.root_dir=root_dir\n",
    "        self.transform=transform\n",
    "        self.coco_obj=COCO(anno_file)\n",
    "        self.img_obj=self.coco_obj.imgs\n",
    "        self.n_cats=len(self.coco_obj.cats)\n",
    "        self.cat_ids=list(self.coco_obj.cats.keys())\n",
    "    def __len__(self) -> int:\n",
    "        return len(self.img_obj)\n",
    "    def __getitem__(self,id):\n",
    "        img_obj=self.img_obj[id]\n",
    "        # Read dcm to image\n",
    "        image = load_dcm(join(self.root_dir,img_obj['file_name']))\n",
    "        # read mask\n",
    "        mask = load_msk(join(self.root_dir,img_obj['mask_file']))\n",
    "        # Albumentation\n",
    "        if self.transform:\n",
    "            transformed = self.transform(image=image, mask=mask)\n",
    "            image,mask = transformed['image'],transformed['mask']\n",
    "        # Image preparation    \n",
    "        image = image[np.newaxis,...].repeat(3,axis=0)\n",
    "        # Mask preparation\n",
    "        mapping=np.vectorize(lambda x: ([0]+self.cat_ids).index(x))\n",
    "        mask=mapping(mask)\n",
    "        return image,mask"
   ]
  },
  {
   "cell_type": "code",
   "execution_count": 80,
   "id": "5fa42147",
   "metadata": {},
   "outputs": [
    {
     "name": "stdout",
     "output_type": "stream",
     "text": [
      "loading annotations into memory...\n",
      "Done (t=0.00s)\n",
      "creating index...\n",
      "index created!\n"
     ]
    }
   ],
   "source": [
    "import albumentations as A\n",
    "WIDTH, HEIGHT=256,256\n",
    "target_transform = A.Compose([\n",
    "#   A.Normalize(p=1, mean=(0.485), std=(0.229)),\n",
    "  A.ToFloat(always_apply=True),\n",
    "  A.Resize(WIDTH, HEIGHT),\n",
    "])\n",
    "ds=CTMRI_MultiClassDataset(MRI_anno_file,MRI_root_dir,transform=target_transform)"
   ]
  },
  {
   "cell_type": "code",
   "execution_count": 88,
   "id": "510efeb2",
   "metadata": {},
   "outputs": [],
   "source": []
  },
  {
   "cell_type": "code",
   "execution_count": 82,
   "id": "e5104508",
   "metadata": {},
   "outputs": [
    {
     "data": {
      "text/plain": [
       "{0, 1, 2, 3, 4, 5}"
      ]
     },
     "execution_count": 82,
     "metadata": {},
     "output_type": "execute_result"
    }
   ],
   "source": [
    "from utils.plotting import show_image_annot\n",
    "x,y=next(iter(tud.DataLoader(ds,batch_size=4,shuffle=True)))\n",
    "show_image_annot(x.numpy().transpose(0,2,3,1),y.numpy())"
   ]
  },
  {
   "cell_type": "code",
   "execution_count": 86,
   "id": "1cd1d227",
   "metadata": {},
   "outputs": [
    {
     "name": "stdout",
     "output_type": "stream",
     "text": [
      "BATCHSIZE= 4\n",
      "(4, 256, 256, 3) \n",
      " (4, 256, 256)\n"
     ]
    },
    {
     "data": {
      "image/png": "[encoded data removed]",
      "text/plain": [
       "<Figure size 360x144 with 8 Axes>"
      ]
     },
     "metadata": {
      "needs_background": "light"
     },
     "output_type": "display_data"
    }
   ],
   "source": []
  },
  {
   "cell_type": "code",
   "execution_count": null,
   "id": "944d4af5",
   "metadata": {},
   "outputs": [],
   "source": []
  }
 ],
 "metadata": {
  "kernelspec": {
   "display_name": "Python 3 (ipykernel)",
   "language": "python",
   "name": "python3"
  },
  "language_info": {
   "codemirror_mode": {
    "name": "ipython",
    "version": 3
   },
   "file_extension": ".py",
   "mimetype": "text/x-python",
   "name": "python",
   "nbconvert_exporter": "python",
   "pygments_lexer": "ipython3",
   "version": "3.7.10"
  }
 },
 "nbformat": 4,
 "nbformat_minor": 5
}
