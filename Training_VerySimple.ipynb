{
 "cells": [
  {
   "cell_type": "code",
   "execution_count": 1,
   "id": "4ac8fd12",
   "metadata": {},
   "outputs": [],
   "source": [
    "!pip install -q -r requirements.txt"
   ]
  },
  {
   "cell_type": "code",
   "execution_count": 2,
   "id": "060d3a3d",
   "metadata": {},
   "outputs": [
    {
     "name": "stdout",
     "output_type": "stream",
     "text": [
      "Found existing installation: opencv-python-headless 4.5.5.64\n",
      "Uninstalling opencv-python-headless-4.5.5.64:\n",
      "  Successfully uninstalled opencv-python-headless-4.5.5.64\n",
      "Collecting opencv-python-headless==4.1.2.30\n",
      "  Using cached opencv_python_headless-4.1.2.30-cp37-cp37m-manylinux1_x86_64.whl (21.8 MB)\n",
      "Requirement already satisfied: numpy>=1.14.5 in /opt/conda/lib/python3.7/site-packages (from opencv-python-headless==4.1.2.30) (1.21.2)\n",
      "Installing collected packages: opencv-python-headless\n",
      "Successfully installed opencv-python-headless-4.1.2.30\n"
     ]
    }
   ],
   "source": [
    "!pip uninstall -y opencv-python-headless\n",
    "!pip install opencv-python-headless==4.1.2.30"
   ]
  },
  {
   "cell_type": "markdown",
   "id": "09aadc33",
   "metadata": {},
   "source": [
    "## Data Loading"
   ]
  },
  {
   "cell_type": "code",
   "execution_count": 3,
   "id": "15bf6493",
   "metadata": {},
   "outputs": [],
   "source": [
    "from os.path import join\n",
    "import numpy as np \n",
    "import torch\n",
    "import warnings\n",
    "warnings.filterwarnings('ignore')"
   ]
  },
  {
   "cell_type": "code",
   "execution_count": 4,
   "id": "c1df43c3",
   "metadata": {},
   "outputs": [],
   "source": [
    "DATA_ROOT=\"./data/\"\n",
    "\n",
    "MRI_root_dir=join(DATA_ROOT,\"MRI\",\"MRI_Label\")\n",
    "MRI_anno_file=join(DATA_ROOT,\"MRI\",\"annotations/MRI_Label/annotations.json\")\n",
    "MRI_nonLabel_root_dir=join(DATA_ROOT,\"MRI\",\"MRI_nonLabel\")\n",
    "MRI_nonLabel_anno_file=join(DATA_ROOT,\"MRI\",\"annotations/MRI_nonLabel/annotations.json\")"
   ]
  },
  {
   "cell_type": "code",
   "execution_count": 5,
   "id": "89e3c49b",
   "metadata": {},
   "outputs": [],
   "source": [
    "import albumentations as A\n",
    "WIDTH, HEIGHT=256,256\n",
    "\n",
    "class DivMax(A.ImageOnlyTransform):\n",
    "    def __init__(self, always_apply=True, p=1.0):\n",
    "        super().__init__(always_apply, p)\n",
    "    def apply(self, img, **params):\n",
    "#         img=img/np.max(img)\n",
    "#         img[img<0.25]=0\n",
    "        img[img>5000]=0\n",
    "        return img\n",
    "    \n",
    "transform = A.Compose([\n",
    "  A.ToFloat(always_apply=True),\n",
    "  DivMax(always_apply=True),\n",
    "  A.Resize(WIDTH, HEIGHT),\n",
    "#   A.HorizontalFlip(p=0.5),\n",
    "#   A.RandomBrightnessContrast(brightness_limit=[-0.05, 0.05], p=0.2),\n",
    "  A.Rotate((-30, 30), interpolation=0), \n",
    "#   A.RandomContrast(limit=0.2, p=1),   \n",
    "])\n",
    "\n",
    "test_transform = A.Compose([           \n",
    "  A.ToFloat(always_apply=True),\n",
    "  DivMax(always_apply=True),\n",
    "  A.Resize(WIDTH, HEIGHT),\n",
    "])"
   ]
  },
  {
   "cell_type": "code",
   "execution_count": 6,
   "id": "534ced3d",
   "metadata": {},
   "outputs": [
    {
     "name": "stdout",
     "output_type": "stream",
     "text": [
      "loading annotations into memory...\n",
      "Done (t=0.22s)\n",
      "creating index...\n",
      "index created!\n",
      "loading annotations into memory...\n",
      "Done (t=0.00s)\n",
      "creating index...\n",
      "index created!\n"
     ]
    }
   ],
   "source": [
    "from dataloaders.ctmri_multiclass import CTMRI_MultiClassDataset,CTMRI_InferenceDataset,CTMRI_SSLDataset\n",
    "\n",
    "ds_kwargs=dict(\n",
    "    transform=transform,\n",
    "    test_transform=test_transform,\n",
    "    test_split=0.2\n",
    "    )\n",
    "MRI_ds=CTMRI_MultiClassDataset(MRI_anno_file,MRI_root_dir,**ds_kwargs)\n",
    "MRI_nonLabel_ds=CTMRI_SSLDataset(MRI_nonLabel_anno_file,MRI_nonLabel_root_dir,transform=transform,test_transform=test_transform)"
   ]
  },
  {
   "cell_type": "code",
   "execution_count": 7,
   "id": "b1d68ef4",
   "metadata": {},
   "outputs": [],
   "source": [
    "import torch.utils.data as tud\n",
    "ldr_kwargs=dict(\n",
    "    batch_size=8,\n",
    "    shuffle=True,\n",
    "    pin_memory=False,\n",
    "    num_workers=2,\n",
    "    drop_last=True\n",
    ")\n",
    "MRI_loader=tud.DataLoader(MRI_ds,**ldr_kwargs)\n",
    "MRI_nonLabel_loader=tud.DataLoader(MRI_nonLabel_ds,**ldr_kwargs)"
   ]
  },
  {
   "cell_type": "code",
   "execution_count": 8,
   "id": "16ca78fa",
   "metadata": {},
   "outputs": [
    {
     "name": "stdout",
     "output_type": "stream",
     "text": [
      "BATCHSIZE= 3\n",
      "(3, 256, 256, 3) \n",
      " (3, 256, 256)\n"
     ]
    },
    {
     "data": {
      "image/png": "[encoded data removed]",
      "text/plain": [
       "<Figure size 216x144 with 6 Axes>"
      ]
     },
     "metadata": {
      "needs_background": "light"
     },
     "output_type": "display_data"
    }
   ],
   "source": [
    "from utils.plotting import show_image_annot\n",
    "MRI_ds.training=True\n",
    "x,y=next(iter(MRI_loader))\n",
    "show_image_annot(x.numpy().transpose(0,2,3,1),y.numpy(),showPics=3, vmax=2)"
   ]
  },
  {
   "cell_type": "code",
   "execution_count": 9,
   "id": "2144ae93",
   "metadata": {},
   "outputs": [
    {
     "data": {
      "text/plain": [
       "{0, 1, 2}"
      ]
     },
     "execution_count": 9,
     "metadata": {},
     "output_type": "execute_result"
    }
   ],
   "source": [
    "set(y.flatten().numpy())"
   ]
  },
  {
   "cell_type": "code",
   "execution_count": 10,
   "id": "e0ac4a15",
   "metadata": {},
   "outputs": [],
   "source": [
    "# from models.unet import UNet\n",
    "from models.resunet import ResUnet\n",
    "from models.head import MetricLayer\n",
    "from models.models import SegModel\n",
    "\n",
    "backbone=ResUnet(num_classes=3,channel=3,\n",
    "                filters=[64, 128, 256, 512]).cuda()\n",
    "latent_dims=64\n",
    "head=MetricLayer(n_in_features=latent_dims,n_out_features=3).cuda()\n",
    "model_mri=SegModel(backbone,head,(WIDTH, HEIGHT)).cuda()"
   ]
  },
  {
   "cell_type": "code",
   "execution_count": 11,
   "id": "66d073cc",
   "metadata": {},
   "outputs": [],
   "source": [
    "from losses.marginal import AddMarginLoss\n",
    "criterion_mri = AddMarginLoss(ways=3,\n",
    "                             s=10 ,m=1.4,gamma=2,alpha=0.25)\n",
    "# optimizer_ct = torch.optim.SGD(model_ct.parameters(),lr=1e-3,momentum=0.9,weight_decay=0.0005)\n",
    "optimizer_mri = torch.optim.Adam(model_mri.parameters(),lr=1e-3)"
   ]
  },
  {
   "cell_type": "code",
   "execution_count": 12,
   "id": "4113655e",
   "metadata": {},
   "outputs": [],
   "source": [
    "def calc_acc(pred, y):\n",
    "    correct=(pred.argmax(1)==y).flatten()\n",
    "    return torch.sum(correct)/len(correct)\n",
    "def one_batch(i_iter,log,sample_batched,model,criterion,optimizer):\n",
    "    # Prep input\n",
    "    x,y=[_.cuda() for _ in sample_batched]\n",
    "    pred=model(x)\n",
    "    loss = criterion(pred, y)\n",
    "    if model.training:\n",
    "        #Update\n",
    "        loss.backward()\n",
    "        optimizer.step()\n",
    "        optimizer.zero_grad()\n",
    "    with torch.no_grad():\n",
    "        acc=calc_acc(pred, y).item()\n",
    "        if i_iter==0:\n",
    "            log['acc'] = acc\n",
    "        else:\n",
    "            log['acc'] = (acc+log['acc']*i_iter)/(i_iter + 1)\n",
    "    # Record\n",
    "    loss_rec = loss.item()\n",
    "    log['loss'] = (loss_rec+log['loss']*i_iter)/(i_iter + 1)\n",
    "    return pred,loss\n"
   ]
  },
  {
   "cell_type": "code",
   "execution_count": 13,
   "id": "42053aa6",
   "metadata": {},
   "outputs": [],
   "source": [
    "from tqdm import tqdm"
   ]
  },
  {
   "cell_type": "code",
   "execution_count": 14,
   "id": "7e42c514",
   "metadata": {},
   "outputs": [
    {
     "name": "stderr",
     "output_type": "stream",
     "text": [
      "0it [00:00, ?it/s]/pytorch/aten/src/ATen/native/cuda/ScatterGatherKernel.cu:115: operator(): block: [380,0,0], thread: [0,0,0] Assertion `idx_dim >= 0 && idx_dim < index_size && \"index out of bounds\"` failed.\n",
      "/pytorch/aten/src/ATen/native/cuda/ScatterGatherKernel.cu:115: operator(): block: [380,0,0], thread: [1,0,0] Assertion `idx_dim >= 0 && idx_dim < index_size && \"index out of bounds\"` failed.\n",
      "/pytorch/aten/src/ATen/native/cuda/ScatterGatherKernel.cu:115: operator(): block: [380,0,0], thread: [2,0,0] Assertion `idx_dim >= 0 && idx_dim < index_size && \"index out of bounds\"` failed.\n",
      "/pytorch/aten/src/ATen/native/cuda/ScatterGatherKernel.cu:115: operator(): block: [380,0,0], thread: [3,0,0] Assertion `idx_dim >= 0 && idx_dim < index_size && \"index out of bounds\"` failed.\n",
      "/pytorch/aten/src/ATen/native/cuda/ScatterGatherKernel.cu:115: operator(): block: [380,0,0], thread: [4,0,0] Assertion `idx_dim >= 0 && idx_dim < index_size && \"index out of bounds\"` failed.\n",
      "/pytorch/aten/src/ATen/native/cuda/ScatterGatherKernel.cu:115: operator(): block: [380,0,0], thread: [5,0,0] Assertion `idx_dim >= 0 && idx_dim < index_size && \"index out of bounds\"` failed.\n",
      "/pytorch/aten/src/ATen/native/cuda/ScatterGatherKernel.cu:115: operator(): block: [380,0,0], thread: [6,0,0] Assertion `idx_dim >= 0 && idx_dim < index_size && \"index out of bounds\"` failed.\n",
      "/pytorch/aten/src/ATen/native/cuda/ScatterGatherKernel.cu:115: operator(): block: [380,0,0], thread: [7,0,0] Assertion `idx_dim >= 0 && idx_dim < index_size && \"index out of bounds\"` failed.\n",
      "/pytorch/aten/src/ATen/native/cuda/ScatterGatherKernel.cu:115: operator(): block: [380,0,0], thread: [8,0,0] Assertion `idx_dim >= 0 && idx_dim < index_size && \"index out of bounds\"` failed.\n",
      "/pytorch/aten/src/ATen/native/cuda/ScatterGatherKernel.cu:115: operator(): block: [380,0,0], thread: [9,0,0] Assertion `idx_dim >= 0 && idx_dim < index_size && \"index out of bounds\"` failed.\n",
      "/pytorch/aten/src/ATen/native/cuda/ScatterGatherKernel.cu:115: operator(): block: [380,0,0], thread: [10,0,0] Assertion `idx_dim >= 0 && idx_dim < index_size && \"index out of bounds\"` failed.\n",
      "/pytorch/aten/src/ATen/native/cuda/ScatterGatherKernel.cu:115: operator(): block: [380,0,0], thread: [11,0,0] Assertion `idx_dim >= 0 && idx_dim < index_size && \"index out of bounds\"` failed.\n",
      "/pytorch/aten/src/ATen/native/cuda/ScatterGatherKernel.cu:115: operator(): block: [380,0,0], thread: [12,0,0] Assertion `idx_dim >= 0 && idx_dim < index_size && \"index out of bounds\"` failed.\n",
      "/pytorch/aten/src/ATen/native/cuda/ScatterGatherKernel.cu:115: operator(): block: [380,0,0], thread: [13,0,0] Assertion `idx_dim >= 0 && idx_dim < index_size && \"index out of bounds\"` failed.\n",
      "/pytorch/aten/src/ATen/native/cuda/ScatterGatherKernel.cu:115: operator(): block: [380,0,0], thread: [14,0,0] Assertion `idx_dim >= 0 && idx_dim < index_size && \"index out of bounds\"` failed.\n",
      "/pytorch/aten/src/ATen/native/cuda/ScatterGatherKernel.cu:115: operator(): block: [380,0,0], thread: [15,0,0] Assertion `idx_dim >= 0 && idx_dim < index_size && \"index out of bounds\"` failed.\n",
      "/pytorch/aten/src/ATen/native/cuda/ScatterGatherKernel.cu:115: operator(): block: [380,0,0], thread: [16,0,0] Assertion `idx_dim >= 0 && idx_dim < index_size && \"index out of bounds\"` failed.\n",
      "/pytorch/aten/src/ATen/native/cuda/ScatterGatherKernel.cu:115: operator(): block: [380,0,0], thread: [17,0,0] Assertion `idx_dim >= 0 && idx_dim < index_size && \"index out of bounds\"` failed.\n",
      "/pytorch/aten/src/ATen/native/cuda/ScatterGatherKernel.cu:115: operator(): block: [380,0,0], thread: [18,0,0] Assertion `idx_dim >= 0 && idx_dim < index_size && \"index out of bounds\"` failed.\n",
      "/pytorch/aten/src/ATen/native/cuda/ScatterGatherKernel.cu:115: operator(): block: [604,0,0], thread: [0,0,0] Assertion `idx_dim >= 0 && idx_dim < index_size && \"index out of bounds\"` failed.\n",
      "/pytorch/aten/src/ATen/native/cuda/ScatterGatherKernel.cu:115: operator(): block: [604,0,0], thread: [1,0,0] Assertion `idx_dim >= 0 && idx_dim < index_size && \"index out of bounds\"` failed.\n",
      "/pytorch/aten/src/ATen/native/cuda/ScatterGatherKernel.cu:115: operator(): block: [604,0,0], thread: [2,0,0] Assertion `idx_dim >= 0 && idx_dim < index_size && \"index out of bounds\"` failed.\n",
      "/pytorch/aten/src/ATen/native/cuda/ScatterGatherKernel.cu:115: operator(): block: [604,0,0], thread: [3,0,0] Assertion `idx_dim >= 0 && idx_dim < index_size && \"index out of bounds\"` failed.\n",
      "/pytorch/aten/src/ATen/native/cuda/ScatterGatherKernel.cu:115: operator(): block: [604,0,0], thread: [4,0,0] Assertion `idx_dim >= 0 && idx_dim < index_size && \"index out of bounds\"` failed.\n",
      "/pytorch/aten/src/ATen/native/cuda/ScatterGatherKernel.cu:115: operator(): block: [604,0,0], thread: [5,0,0] Assertion `idx_dim >= 0 && idx_dim < index_size && \"index out of bounds\"` failed.\n",
      "/pytorch/aten/src/ATen/native/cuda/ScatterGatherKernel.cu:115: operator(): block: [604,0,0], thread: [6,0,0] Assertion `idx_dim >= 0 && idx_dim < index_size && \"index out of bounds\"` failed.\n",
      "/pytorch/aten/src/ATen/native/cuda/ScatterGatherKernel.cu:115: operator(): block: [604,0,0], thread: [7,0,0] Assertion `idx_dim >= 0 && idx_dim < index_size && \"index out of bounds\"` failed.\n",
      "/pytorch/aten/src/ATen/native/cuda/ScatterGatherKernel.cu:115: operator(): block: [604,0,0], thread: [8,0,0] Assertion `idx_dim >= 0 && idx_dim < index_size && \"index out of bounds\"` failed.\n",
      "/pytorch/aten/src/ATen/native/cuda/ScatterGatherKernel.cu:115: operator(): block: [604,0,0], thread: [9,0,0] Assertion `idx_dim >= 0 && idx_dim < index_size && \"index out of bounds\"` failed.\n",
      "/pytorch/aten/src/ATen/native/cuda/ScatterGatherKernel.cu:115: operator(): block: [604,0,0], thread: [10,0,0] Assertion `idx_dim >= 0 && idx_dim < index_size && \"index out of bounds\"` failed.\n",
      "/pytorch/aten/src/ATen/native/cuda/ScatterGatherKernel.cu:115: operator(): block: [604,0,0], thread: [11,0,0] Assertion `idx_dim >= 0 && idx_dim < index_size && \"index out of bounds\"` failed.\n",
      "/pytorch/aten/src/ATen/native/cuda/ScatterGatherKernel.cu:115: operator(): block: [604,0,0], thread: [12,0,0] Assertion `idx_dim >= 0 && idx_dim < index_size && \"index out of bounds\"` failed.\n",
      "/pytorch/aten/src/ATen/native/cuda/ScatterGatherKernel.cu:115: operator(): block: [604,0,0], thread: [13,0,0] Assertion `idx_dim >= 0 && idx_dim < index_size && \"index out of bounds\"` failed.\n",
      "/pytorch/aten/src/ATen/native/cuda/ScatterGatherKernel.cu:115: operator(): block: [604,0,0], thread: [14,0,0] Assertion `idx_dim >= 0 && idx_dim < index_size && \"index out of bounds\"` failed.\n",
      "/pytorch/aten/src/ATen/native/cuda/ScatterGatherKernel.cu:115: operator(): block: [604,0,0], thread: [15,0,0] Assertion `idx_dim >= 0 && idx_dim < index_size && \"index out of bounds\"` failed.\n",
      "/pytorch/aten/src/ATen/native/cuda/ScatterGatherKernel.cu:115: operator(): block: [604,0,0], thread: [16,0,0] Assertion `idx_dim >= 0 && idx_dim < index_size && \"index out of bounds\"` failed.\n",
      "/pytorch/aten/src/ATen/native/cuda/ScatterGatherKernel.cu:115: operator(): block: [604,0,0], thread: [17,0,0] Assertion `idx_dim >= 0 && idx_dim < index_size && \"index out of bounds\"` failed.\n",
      "/pytorch/aten/src/ATen/native/cuda/ScatterGatherKernel.cu:115: operator(): block: [604,0,0], thread: [18,0,0] Assertion `idx_dim >= 0 && idx_dim < index_size && \"index out of bounds\"` failed.\n",
      "/pytorch/aten/src/ATen/native/cuda/ScatterGatherKernel.cu:115: operator(): block: [604,0,0], thread: [19,0,0] Assertion `idx_dim >= 0 && idx_dim < index_size && \"index out of bounds\"` failed.\n",
      "/pytorch/aten/src/ATen/native/cuda/ScatterGatherKernel.cu:115: operator(): block: [156,0,0], thread: [0,0,0] Assertion `idx_dim >= 0 && idx_dim < index_size && \"index out of bounds\"` failed.\n",
      "/pytorch/aten/src/ATen/native/cuda/ScatterGatherKernel.cu:115: operator(): block: [156,0,0], thread: [1,0,0] Assertion `idx_dim >= 0 && idx_dim < index_size && \"index out of bounds\"` failed.\n",
      "/pytorch/aten/src/ATen/native/cuda/ScatterGatherKernel.cu:115: operator(): block: [156,0,0], thread: [2,0,0] Assertion `idx_dim >= 0 && idx_dim < index_size && \"index out of bounds\"` failed.\n",
      "/pytorch/aten/src/ATen/native/cuda/ScatterGatherKernel.cu:115: operator(): block: [156,0,0], thread: [3,0,0] Assertion `idx_dim >= 0 && idx_dim < index_size && \"index out of bounds\"` failed.\n",
      "/pytorch/aten/src/ATen/native/cuda/ScatterGatherKernel.cu:115: operator(): block: [156,0,0], thread: [4,0,0] Assertion `idx_dim >= 0 && idx_dim < index_size && \"index out of bounds\"` failed.\n",
      "/pytorch/aten/src/ATen/native/cuda/ScatterGatherKernel.cu:115: operator(): block: [156,0,0], thread: [5,0,0] Assertion `idx_dim >= 0 && idx_dim < index_size && \"index out of bounds\"` failed.\n",
      "/pytorch/aten/src/ATen/native/cuda/ScatterGatherKernel.cu:115: operator(): block: [156,0,0], thread: [6,0,0] Assertion `idx_dim >= 0 && idx_dim < index_size && \"index out of bounds\"` failed.\n",
      "/pytorch/aten/src/ATen/native/cuda/ScatterGatherKernel.cu:115: operator(): block: [156,0,0], thread: [7,0,0] Assertion `idx_dim >= 0 && idx_dim < index_size && \"index out of bounds\"` failed.\n",
      "/pytorch/aten/src/ATen/native/cuda/ScatterGatherKernel.cu:115: operator(): block: [156,0,0], thread: [8,0,0] Assertion `idx_dim >= 0 && idx_dim < index_size && \"index out of bounds\"` failed.\n",
      "/pytorch/aten/src/ATen/native/cuda/ScatterGatherKernel.cu:115: operator(): block: [156,0,0], thread: [9,0,0] Assertion `idx_dim >= 0 && idx_dim < index_size && \"index out of bounds\"` failed.\n",
      "/pytorch/aten/src/ATen/native/cuda/ScatterGatherKernel.cu:115: operator(): block: [156,0,0], thread: [10,0,0] Assertion `idx_dim >= 0 && idx_dim < index_size && \"index out of bounds\"` failed.\n",
      "/pytorch/aten/src/ATen/native/cuda/ScatterGatherKernel.cu:115: operator(): block: [156,0,0], thread: [11,0,0] Assertion `idx_dim >= 0 && idx_dim < index_size && \"index out of bounds\"` failed.\n",
      "/pytorch/aten/src/ATen/native/cuda/ScatterGatherKernel.cu:115: operator(): block: [156,0,0], thread: [12,0,0] Assertion `idx_dim >= 0 && idx_dim < index_size && \"index out of bounds\"` failed.\n",
      "/pytorch/aten/src/ATen/native/cuda/ScatterGatherKernel.cu:115: operator(): block: [156,0,0], thread: [13,0,0] Assertion `idx_dim >= 0 && idx_dim < index_size && \"index out of bounds\"` failed.\n",
      "/pytorch/aten/src/ATen/native/cuda/ScatterGatherKernel.cu:115: operator(): block: [156,0,0], thread: [14,0,0] Assertion `idx_dim >= 0 && idx_dim < index_size && \"index out of bounds\"` failed.\n",
      "/pytorch/aten/src/ATen/native/cuda/ScatterGatherKernel.cu:115: operator(): block: [156,0,0], thread: [15,0,0] Assertion `idx_dim >= 0 && idx_dim < index_size && \"index out of bounds\"` failed.\n",
      "/pytorch/aten/src/ATen/native/cuda/ScatterGatherKernel.cu:115: operator(): block: [156,0,0], thread: [16,0,0] Assertion `idx_dim >= 0 && idx_dim < index_size && \"index out of bounds\"` failed.\n",
      "/pytorch/aten/src/ATen/native/cuda/ScatterGatherKernel.cu:115: operator(): block: [156,0,0], thread: [17,0,0] Assertion `idx_dim >= 0 && idx_dim < index_size && \"index out of bounds\"` failed.\n",
      "/pytorch/aten/src/ATen/native/cuda/ScatterGatherKernel.cu:115: operator(): block: [156,0,0], thread: [18,0,0] Assertion `idx_dim >= 0 && idx_dim < index_size && \"index out of bounds\"` failed.\n",
      "/pytorch/aten/src/ATen/native/cuda/ScatterGatherKernel.cu:115: operator(): block: [156,0,0], thread: [19,0,0] Assertion `idx_dim >= 0 && idx_dim < index_size && \"index out of bounds\"` failed.\n",
      "/pytorch/aten/src/ATen/native/cuda/ScatterGatherKernel.cu:115: operator(): block: [156,0,0], thread: [20,0,0] Assertion `idx_dim >= 0 && idx_dim < index_size && \"index out of bounds\"` failed.\n",
      "/pytorch/aten/src/ATen/native/cuda/ScatterGatherKernel.cu:115: operator(): block: [156,0,0], thread: [21,0,0] Assertion `idx_dim >= 0 && idx_dim < index_size && \"index out of bounds\"` failed.\n",
      "/pytorch/aten/src/ATen/native/cuda/ScatterGatherKernel.cu:115: operator(): block: [156,0,0], thread: [22,0,0] Assertion `idx_dim >= 0 && idx_dim < index_size && \"index out of bounds\"` failed.\n",
      "/pytorch/aten/src/ATen/native/cuda/ScatterGatherKernel.cu:115: operator(): block: [156,0,0], thread: [23,0,0] Assertion `idx_dim >= 0 && idx_dim < index_size && \"index out of bounds\"` failed.\n",
      "/pytorch/aten/src/ATen/native/cuda/ScatterGatherKernel.cu:115: operator(): block: [156,0,0], thread: [24,0,0] Assertion `idx_dim >= 0 && idx_dim < index_size && \"index out of bounds\"` failed.\n",
      "/pytorch/aten/src/ATen/native/cuda/ScatterGatherKernel.cu:115: operator(): block: [156,0,0], thread: [25,0,0] Assertion `idx_dim >= 0 && idx_dim < index_size && \"index out of bounds\"` failed.\n",
      "/pytorch/aten/src/ATen/native/cuda/ScatterGatherKernel.cu:115: operator(): block: [156,0,0], thread: [26,0,0] Assertion `idx_dim >= 0 && idx_dim < index_size && \"index out of bounds\"` failed.\n",
      "/pytorch/aten/src/ATen/native/cuda/ScatterGatherKernel.cu:115: operator(): block: [156,0,0], thread: [27,0,0] Assertion `idx_dim >= 0 && idx_dim < index_size && \"index out of bounds\"` failed.\n",
      "/pytorch/aten/src/ATen/native/cuda/ScatterGatherKernel.cu:115: operator(): block: [156,0,0], thread: [28,0,0] Assertion `idx_dim >= 0 && idx_dim < index_size && \"index out of bounds\"` failed.\n",
      "/pytorch/aten/src/ATen/native/cuda/ScatterGatherKernel.cu:115: operator(): block: [156,0,0], thread: [29,0,0] Assertion `idx_dim >= 0 && idx_dim < index_size && \"index out of bounds\"` failed.\n",
      "/pytorch/aten/src/ATen/native/cuda/ScatterGatherKernel.cu:115: operator(): block: [156,0,0], thread: [30,0,0] Assertion `idx_dim >= 0 && idx_dim < index_size && \"index out of bounds\"` failed.\n",
      "/pytorch/aten/src/ATen/native/cuda/ScatterGatherKernel.cu:115: operator(): block: [156,0,0], thread: [31,0,0] Assertion `idx_dim >= 0 && idx_dim < index_size && \"index out of bounds\"` failed.\n",
      "/pytorch/aten/src/ATen/native/cuda/ScatterGatherKernel.cu:115: operator(): block: [660,0,0], thread: [0,0,0] Assertion `idx_dim >= 0 && idx_dim < index_size && \"index out of bounds\"` failed.\n",
      "/pytorch/aten/src/ATen/native/cuda/ScatterGatherKernel.cu:115: operator(): block: [660,0,0], thread: [1,0,0] Assertion `idx_dim >= 0 && idx_dim < index_size && \"index out of bounds\"` failed.\n",
      "/pytorch/aten/src/ATen/native/cuda/ScatterGatherKernel.cu:115: operator(): block: [660,0,0], thread: [2,0,0] Assertion `idx_dim >= 0 && idx_dim < index_size && \"index out of bounds\"` failed.\n",
      "/pytorch/aten/src/ATen/native/cuda/ScatterGatherKernel.cu:115: operator(): block: [660,0,0], thread: [3,0,0] Assertion `idx_dim >= 0 && idx_dim < index_size && \"index out of bounds\"` failed.\n",
      "/pytorch/aten/src/ATen/native/cuda/ScatterGatherKernel.cu:115: operator(): block: [660,0,0], thread: [4,0,0] Assertion `idx_dim >= 0 && idx_dim < index_size && \"index out of bounds\"` failed.\n",
      "/pytorch/aten/src/ATen/native/cuda/ScatterGatherKernel.cu:115: operator(): block: [660,0,0], thread: [5,0,0] Assertion `idx_dim >= 0 && idx_dim < index_size && \"index out of bounds\"` failed.\n",
      "/pytorch/aten/src/ATen/native/cuda/ScatterGatherKernel.cu:115: operator(): block: [660,0,0], thread: [6,0,0] Assertion `idx_dim >= 0 && idx_dim < index_size && \"index out of bounds\"` failed.\n",
      "/pytorch/aten/src/ATen/native/cuda/ScatterGatherKernel.cu:115: operator(): block: [660,0,0], thread: [7,0,0] Assertion `idx_dim >= 0 && idx_dim < index_size && \"index out of bounds\"` failed.\n",
      "/pytorch/aten/src/ATen/native/cuda/ScatterGatherKernel.cu:115: operator(): block: [660,0,0], thread: [8,0,0] Assertion `idx_dim >= 0 && idx_dim < index_size && \"index out of bounds\"` failed.\n",
      "/pytorch/aten/src/ATen/native/cuda/ScatterGatherKernel.cu:115: operator(): block: [660,0,0], thread: [9,0,0] Assertion `idx_dim >= 0 && idx_dim < index_size && \"index out of bounds\"` failed.\n",
      "/pytorch/aten/src/ATen/native/cuda/ScatterGatherKernel.cu:115: operator(): block: [660,0,0], thread: [10,0,0] Assertion `idx_dim >= 0 && idx_dim < index_size && \"index out of bounds\"` failed.\n",
      "/pytorch/aten/src/ATen/native/cuda/ScatterGatherKernel.cu:115: operator(): block: [660,0,0], thread: [11,0,0] Assertion `idx_dim >= 0 && idx_dim < index_size && \"index out of bounds\"` failed.\n",
      "/pytorch/aten/src/ATen/native/cuda/ScatterGatherKernel.cu:115: operator(): block: [660,0,0], thread: [12,0,0] Assertion `idx_dim >= 0 && idx_dim < index_size && \"index out of bounds\"` failed.\n",
      "/pytorch/aten/src/ATen/native/cuda/ScatterGatherKernel.cu:115: operator(): block: [660,0,0], thread: [13,0,0] Assertion `idx_dim >= 0 && idx_dim < index_size && \"index out of bounds\"` failed.\n",
      "/pytorch/aten/src/ATen/native/cuda/ScatterGatherKernel.cu:115: operator(): block: [660,0,0], thread: [14,0,0] Assertion `idx_dim >= 0 && idx_dim < index_size && \"index out of bounds\"` failed.\n",
      "/pytorch/aten/src/ATen/native/cuda/ScatterGatherKernel.cu:115: operator(): block: [660,0,0], thread: [15,0,0] Assertion `idx_dim >= 0 && idx_dim < index_size && \"index out of bounds\"` failed.\n",
      "/pytorch/aten/src/ATen/native/cuda/ScatterGatherKernel.cu:115: operator(): block: [660,0,0], thread: [16,0,0] Assertion `idx_dim >= 0 && idx_dim < index_size && \"index out of bounds\"` failed.\n",
      "/pytorch/aten/src/ATen/native/cuda/ScatterGatherKernel.cu:115: operator(): block: [660,0,0], thread: [17,0,0] Assertion `idx_dim >= 0 && idx_dim < index_size && \"index out of bounds\"` failed.\n",
      "/pytorch/aten/src/ATen/native/cuda/ScatterGatherKernel.cu:115: operator(): block: [660,0,0], thread: [18,0,0] Assertion `idx_dim >= 0 && idx_dim < index_size && \"index out of bounds\"` failed.\n",
      "/pytorch/aten/src/ATen/native/cuda/ScatterGatherKernel.cu:115: operator(): block: [660,0,0], thread: [19,0,0] Assertion `idx_dim >= 0 && idx_dim < index_size && \"index out of bounds\"` failed.\n",
      "/pytorch/aten/src/ATen/native/cuda/ScatterGatherKernel.cu:115: operator(): block: [660,0,0], thread: [20,0,0] Assertion `idx_dim >= 0 && idx_dim < index_size && \"index out of bounds\"` failed.\n",
      "/pytorch/aten/src/ATen/native/cuda/ScatterGatherKernel.cu:115: operator(): block: [660,0,0], thread: [21,0,0] Assertion `idx_dim >= 0 && idx_dim < index_size && \"index out of bounds\"` failed.\n",
      "/pytorch/aten/src/ATen/native/cuda/ScatterGatherKernel.cu:115: operator(): block: [660,0,0], thread: [22,0,0] Assertion `idx_dim >= 0 && idx_dim < index_size && \"index out of bounds\"` failed.\n",
      "/pytorch/aten/src/ATen/native/cuda/ScatterGatherKernel.cu:115: operator(): block: [660,0,0], thread: [23,0,0] Assertion `idx_dim >= 0 && idx_dim < index_size && \"index out of bounds\"` failed.\n",
      "/pytorch/aten/src/ATen/native/cuda/ScatterGatherKernel.cu:115: operator(): block: [660,0,0], thread: [24,0,0] Assertion `idx_dim >= 0 && idx_dim < index_size && \"index out of bounds\"` failed.\n",
      "/pytorch/aten/src/ATen/native/cuda/ScatterGatherKernel.cu:115: operator(): block: [660,0,0], thread: [25,0,0] Assertion `idx_dim >= 0 && idx_dim < index_size && \"index out of bounds\"` failed.\n",
      "/pytorch/aten/src/ATen/native/cuda/ScatterGatherKernel.cu:115: operator(): block: [660,0,0], thread: [26,0,0] Assertion `idx_dim >= 0 && idx_dim < index_size && \"index out of bounds\"` failed.\n",
      "/pytorch/aten/src/ATen/native/cuda/ScatterGatherKernel.cu:115: operator(): block: [660,0,0], thread: [27,0,0] Assertion `idx_dim >= 0 && idx_dim < index_size && \"index out of bounds\"` failed.\n",
      "/pytorch/aten/src/ATen/native/cuda/ScatterGatherKernel.cu:115: operator(): block: [660,0,0], thread: [28,0,0] Assertion `idx_dim >= 0 && idx_dim < index_size && \"index out of bounds\"` failed.\n",
      "/pytorch/aten/src/ATen/native/cuda/ScatterGatherKernel.cu:115: operator(): block: [660,0,0], thread: [29,0,0] Assertion `idx_dim >= 0 && idx_dim < index_size && \"index out of bounds\"` failed.\n",
      "/pytorch/aten/src/ATen/native/cuda/ScatterGatherKernel.cu:115: operator(): block: [660,0,0], thread: [30,0,0] Assertion `idx_dim >= 0 && idx_dim < index_size && \"index out of bounds\"` failed.\n",
      "/pytorch/aten/src/ATen/native/cuda/ScatterGatherKernel.cu:115: operator(): block: [660,0,0], thread: [31,0,0] Assertion `idx_dim >= 0 && idx_dim < index_size && \"index out of bounds\"` failed.\n",
      "/pytorch/aten/src/ATen/native/cuda/ScatterGatherKernel.cu:115: operator(): block: [884,0,0], thread: [12,0,0] Assertion `idx_dim >= 0 && idx_dim < index_size && \"index out of bounds\"` failed.\n",
      "/pytorch/aten/src/ATen/native/cuda/ScatterGatherKernel.cu:115: operator(): block: [884,0,0], thread: [13,0,0] Assertion `idx_dim >= 0 && idx_dim < index_size && \"index out of bounds\"` failed.\n",
      "/pytorch/aten/src/ATen/native/cuda/ScatterGatherKernel.cu:115: operator(): block: [884,0,0], thread: [14,0,0] Assertion `idx_dim >= 0 && idx_dim < index_size && \"index out of bounds\"` failed.\n",
      "/pytorch/aten/src/ATen/native/cuda/ScatterGatherKernel.cu:115: operator(): block: [884,0,0], thread: [15,0,0] Assertion `idx_dim >= 0 && idx_dim < index_size && \"index out of bounds\"` failed.\n",
      "/pytorch/aten/src/ATen/native/cuda/ScatterGatherKernel.cu:115: operator(): block: [884,0,0], thread: [16,0,0] Assertion `idx_dim >= 0 && idx_dim < index_size && \"index out of bounds\"` failed.\n",
      "/pytorch/aten/src/ATen/native/cuda/ScatterGatherKernel.cu:115: operator(): block: [884,0,0], thread: [17,0,0] Assertion `idx_dim >= 0 && idx_dim < index_size && \"index out of bounds\"` failed.\n",
      "/pytorch/aten/src/ATen/native/cuda/ScatterGatherKernel.cu:115: operator(): block: [884,0,0], thread: [18,0,0] Assertion `idx_dim >= 0 && idx_dim < index_size && \"index out of bounds\"` failed.\n",
      "/pytorch/aten/src/ATen/native/cuda/ScatterGatherKernel.cu:115: operator(): block: [884,0,0], thread: [19,0,0] Assertion `idx_dim >= 0 && idx_dim < index_size && \"index out of bounds\"` failed.\n",
      "/pytorch/aten/src/ATen/native/cuda/ScatterGatherKernel.cu:115: operator(): block: [884,0,0], thread: [20,0,0] Assertion `idx_dim >= 0 && idx_dim < index_size && \"index out of bounds\"` failed.\n",
      "/pytorch/aten/src/ATen/native/cuda/ScatterGatherKernel.cu:115: operator(): block: [884,0,0], thread: [21,0,0] Assertion `idx_dim >= 0 && idx_dim < index_size && \"index out of bounds\"` failed.\n",
      "/pytorch/aten/src/ATen/native/cuda/ScatterGatherKernel.cu:115: operator(): block: [884,0,0], thread: [22,0,0] Assertion `idx_dim >= 0 && idx_dim < index_size && \"index out of bounds\"` failed.\n",
      "/pytorch/aten/src/ATen/native/cuda/ScatterGatherKernel.cu:115: operator(): block: [884,0,0], thread: [23,0,0] Assertion `idx_dim >= 0 && idx_dim < index_size && \"index out of bounds\"` failed.\n",
      "/pytorch/aten/src/ATen/native/cuda/ScatterGatherKernel.cu:115: operator(): block: [884,0,0], thread: [24,0,0] Assertion `idx_dim >= 0 && idx_dim < index_size && \"index out of bounds\"` failed.\n",
      "/pytorch/aten/src/ATen/native/cuda/ScatterGatherKernel.cu:115: operator(): block: [884,0,0], thread: [25,0,0] Assertion `idx_dim >= 0 && idx_dim < index_size && \"index out of bounds\"` failed.\n",
      "/pytorch/aten/src/ATen/native/cuda/ScatterGatherKernel.cu:115: operator(): block: [884,0,0], thread: [26,0,0] Assertion `idx_dim >= 0 && idx_dim < index_size && \"index out of bounds\"` failed.\n",
      "/pytorch/aten/src/ATen/native/cuda/ScatterGatherKernel.cu:115: operator(): block: [884,0,0], thread: [27,0,0] Assertion `idx_dim >= 0 && idx_dim < index_size && \"index out of bounds\"` failed.\n",
      "/pytorch/aten/src/ATen/native/cuda/ScatterGatherKernel.cu:115: operator(): block: [884,0,0], thread: [28,0,0] Assertion `idx_dim >= 0 && idx_dim < index_size && \"index out of bounds\"` failed.\n",
      "/pytorch/aten/src/ATen/native/cuda/ScatterGatherKernel.cu:115: operator(): block: [884,0,0], thread: [29,0,0] Assertion `idx_dim >= 0 && idx_dim < index_size && \"index out of bounds\"` failed.\n",
      "/pytorch/aten/src/ATen/native/cuda/ScatterGatherKernel.cu:115: operator(): block: [884,0,0], thread: [30,0,0] Assertion `idx_dim >= 0 && idx_dim < index_size && \"index out of bounds\"` failed.\n",
      "/pytorch/aten/src/ATen/native/cuda/ScatterGatherKernel.cu:115: operator(): block: [884,0,0], thread: [31,0,0] Assertion `idx_dim >= 0 && idx_dim < index_size && \"index out of bounds\"` failed.\n",
      "0it [00:00, ?it/s]\n"
     ]
    },
    {
     "ename": "RuntimeError",
     "evalue": "cuDNN error: CUDNN_STATUS_NOT_INITIALIZED",
     "output_type": "error",
     "traceback": [
      "\u001b[0;31m---------------------------------------------------------------------------\u001b[0m",
      "\u001b[0;31mRuntimeError\u001b[0m                              Traceback (most recent call last)",
      "\u001b[0;32m/tmp/ipykernel_207/1943937572.py\u001b[0m in \u001b[0;36m<module>\u001b[0;34m\u001b[0m\n\u001b[1;32m     11\u001b[0m         \u001b[0msession\u001b[0m\u001b[0;34m=\u001b[0m\u001b[0mtqdm\u001b[0m\u001b[0;34m(\u001b[0m\u001b[0menumerate\u001b[0m\u001b[0;34m(\u001b[0m\u001b[0mMRI_loader\u001b[0m\u001b[0;34m)\u001b[0m\u001b[0;34m)\u001b[0m\u001b[0;34m\u001b[0m\u001b[0;34m\u001b[0m\u001b[0m\n\u001b[1;32m     12\u001b[0m         \u001b[0;32mfor\u001b[0m \u001b[0mi_iter\u001b[0m\u001b[0;34m,\u001b[0m \u001b[0msample_batched\u001b[0m \u001b[0;32min\u001b[0m \u001b[0msession\u001b[0m\u001b[0;34m:\u001b[0m\u001b[0;34m\u001b[0m\u001b[0;34m\u001b[0m\u001b[0m\n\u001b[0;32m---> 13\u001b[0;31m             \u001b[0mpred\u001b[0m\u001b[0;34m,\u001b[0m\u001b[0mloss\u001b[0m\u001b[0;34m=\u001b[0m\u001b[0mone_batch\u001b[0m\u001b[0;34m(\u001b[0m\u001b[0mi_iter\u001b[0m\u001b[0;34m,\u001b[0m\u001b[0mlog\u001b[0m\u001b[0;34m,\u001b[0m\u001b[0msample_batched\u001b[0m\u001b[0;34m,\u001b[0m\u001b[0mmodel_mri\u001b[0m\u001b[0;34m,\u001b[0m\u001b[0mcriterion_mri\u001b[0m\u001b[0;34m,\u001b[0m\u001b[0moptimizer_mri\u001b[0m\u001b[0;34m)\u001b[0m\u001b[0;34m\u001b[0m\u001b[0;34m\u001b[0m\u001b[0m\n\u001b[0m\u001b[1;32m     14\u001b[0m             \u001b[0;31m# print loss and take snapshots\u001b[0m\u001b[0;34m\u001b[0m\u001b[0;34m\u001b[0m\u001b[0;34m\u001b[0m\u001b[0m\n\u001b[1;32m     15\u001b[0m             \u001b[0;32mif\u001b[0m \u001b[0;34m(\u001b[0m\u001b[0mi_iter\u001b[0m \u001b[0;34m+\u001b[0m \u001b[0;36m1\u001b[0m\u001b[0;34m)\u001b[0m \u001b[0;34m%\u001b[0m \u001b[0;36m5\u001b[0m \u001b[0;34m==\u001b[0m \u001b[0;36m0\u001b[0m\u001b[0;34m:\u001b[0m\u001b[0;34m\u001b[0m\u001b[0;34m\u001b[0m\u001b[0m\n",
      "\u001b[0;32m/tmp/ipykernel_207/2164437589.py\u001b[0m in \u001b[0;36mone_batch\u001b[0;34m(i_iter, log, sample_batched, model, criterion, optimizer)\u001b[0m\n\u001b[1;32m      9\u001b[0m     \u001b[0;32mif\u001b[0m \u001b[0mmodel\u001b[0m\u001b[0;34m.\u001b[0m\u001b[0mtraining\u001b[0m\u001b[0;34m:\u001b[0m\u001b[0;34m\u001b[0m\u001b[0;34m\u001b[0m\u001b[0m\n\u001b[1;32m     10\u001b[0m         \u001b[0;31m#Update\u001b[0m\u001b[0;34m\u001b[0m\u001b[0;34m\u001b[0m\u001b[0;34m\u001b[0m\u001b[0m\n\u001b[0;32m---> 11\u001b[0;31m         \u001b[0mloss\u001b[0m\u001b[0;34m.\u001b[0m\u001b[0mbackward\u001b[0m\u001b[0;34m(\u001b[0m\u001b[0;34m)\u001b[0m\u001b[0;34m\u001b[0m\u001b[0;34m\u001b[0m\u001b[0m\n\u001b[0m\u001b[1;32m     12\u001b[0m         \u001b[0moptimizer\u001b[0m\u001b[0;34m.\u001b[0m\u001b[0mstep\u001b[0m\u001b[0;34m(\u001b[0m\u001b[0;34m)\u001b[0m\u001b[0;34m\u001b[0m\u001b[0;34m\u001b[0m\u001b[0m\n\u001b[1;32m     13\u001b[0m         \u001b[0moptimizer\u001b[0m\u001b[0;34m.\u001b[0m\u001b[0mzero_grad\u001b[0m\u001b[0;34m(\u001b[0m\u001b[0;34m)\u001b[0m\u001b[0;34m\u001b[0m\u001b[0;34m\u001b[0m\u001b[0m\n",
      "\u001b[0;32m/opt/conda/lib/python3.7/site-packages/torch/_tensor.py\u001b[0m in \u001b[0;36mbackward\u001b[0;34m(self, gradient, retain_graph, create_graph, inputs)\u001b[0m\n\u001b[1;32m    253\u001b[0m                 \u001b[0mcreate_graph\u001b[0m\u001b[0;34m=\u001b[0m\u001b[0mcreate_graph\u001b[0m\u001b[0;34m,\u001b[0m\u001b[0;34m\u001b[0m\u001b[0;34m\u001b[0m\u001b[0m\n\u001b[1;32m    254\u001b[0m                 inputs=inputs)\n\u001b[0;32m--> 255\u001b[0;31m         \u001b[0mtorch\u001b[0m\u001b[0;34m.\u001b[0m\u001b[0mautograd\u001b[0m\u001b[0;34m.\u001b[0m\u001b[0mbackward\u001b[0m\u001b[0;34m(\u001b[0m\u001b[0mself\u001b[0m\u001b[0;34m,\u001b[0m \u001b[0mgradient\u001b[0m\u001b[0;34m,\u001b[0m \u001b[0mretain_graph\u001b[0m\u001b[0;34m,\u001b[0m \u001b[0mcreate_graph\u001b[0m\u001b[0;34m,\u001b[0m \u001b[0minputs\u001b[0m\u001b[0;34m=\u001b[0m\u001b[0minputs\u001b[0m\u001b[0;34m)\u001b[0m\u001b[0;34m\u001b[0m\u001b[0;34m\u001b[0m\u001b[0m\n\u001b[0m\u001b[1;32m    256\u001b[0m \u001b[0;34m\u001b[0m\u001b[0m\n\u001b[1;32m    257\u001b[0m     \u001b[0;32mdef\u001b[0m \u001b[0mregister_hook\u001b[0m\u001b[0;34m(\u001b[0m\u001b[0mself\u001b[0m\u001b[0;34m,\u001b[0m \u001b[0mhook\u001b[0m\u001b[0;34m)\u001b[0m\u001b[0;34m:\u001b[0m\u001b[0;34m\u001b[0m\u001b[0;34m\u001b[0m\u001b[0m\n",
      "\u001b[0;32m/opt/conda/lib/python3.7/site-packages/torch/autograd/__init__.py\u001b[0m in \u001b[0;36mbackward\u001b[0;34m(tensors, grad_tensors, retain_graph, create_graph, grad_variables, inputs)\u001b[0m\n\u001b[1;32m    147\u001b[0m     Variable._execution_engine.run_backward(\n\u001b[1;32m    148\u001b[0m         \u001b[0mtensors\u001b[0m\u001b[0;34m,\u001b[0m \u001b[0mgrad_tensors_\u001b[0m\u001b[0;34m,\u001b[0m \u001b[0mretain_graph\u001b[0m\u001b[0;34m,\u001b[0m \u001b[0mcreate_graph\u001b[0m\u001b[0;34m,\u001b[0m \u001b[0minputs\u001b[0m\u001b[0;34m,\u001b[0m\u001b[0;34m\u001b[0m\u001b[0;34m\u001b[0m\u001b[0m\n\u001b[0;32m--> 149\u001b[0;31m         allow_unreachable=True, accumulate_grad=True)  # allow_unreachable flag\n\u001b[0m\u001b[1;32m    150\u001b[0m \u001b[0;34m\u001b[0m\u001b[0m\n\u001b[1;32m    151\u001b[0m \u001b[0;34m\u001b[0m\u001b[0m\n",
      "\u001b[0;31mRuntimeError\u001b[0m: cuDNN error: CUDNN_STATUS_NOT_INITIALIZED"
     ]
    }
   ],
   "source": [
    "EPOCH=300\n",
    "model_mri.train()\n",
    "best_loss=np.inf\n",
    "PAITIENCE=25\n",
    "count=0\n",
    "try:\n",
    "    for e in range(EPOCH):\n",
    "        log= {'epoch':e,'step':0,'loss': 0, 'acc': 0}\n",
    "        model_mri.train()\n",
    "        MRI_ds.training=True\n",
    "        session=tqdm(enumerate(MRI_loader))\n",
    "        for i_iter, sample_batched in session:\n",
    "            pred,loss=one_batch(i_iter,log,sample_batched,model_mri,criterion_mri,optimizer_mri)\n",
    "            # print loss and take snapshots\n",
    "            if (i_iter + 1) % 5 == 0:\n",
    "                log['step']=i_iter+1\n",
    "                session.set_postfix(log)\n",
    "        # validate\n",
    "        if (e + 1) % 2 == 0:\n",
    "            log = {'epoch':e,'step':'val','loss': 0, 'acc': 0}\n",
    "            model_mri.eval()\n",
    "            MRI_ds.training=False\n",
    "            session=tqdm(enumerate(MRI_loader))\n",
    "            with torch.no_grad():\n",
    "                for i_iter,sample_batched in session:\n",
    "                    pred,loss=one_batch(i_iter,log,sample_batched,model_mri,criterion_mri,optimizer_mri)\n",
    "                    if (i_iter + 1) % 5 == 0:\n",
    "                        session.set_postfix(log)\n",
    "            # early stop        \n",
    "            if log[\"loss\"]<best_loss:\n",
    "                best_loss=log[\"loss\"]\n",
    "                torch.save(model_mri.state_dict(), 'snapshots/unet_arc_mri_best.pth')\n",
    "            elif count<=PAITIENCE: count+=1\n",
    "            else:\n",
    "                count=0\n",
    "                best_loss=np.inf\n",
    "                break \n",
    "            \n",
    "except KeyboardInterrupt:\n",
    "    print(\"\\nHuman Interrupted\")\n",
    "torch.save(model_mri.state_dict(), 'snapshots/unet_arc_mri_latest.pth')"
   ]
  },
  {
   "cell_type": "code",
   "execution_count": null,
   "id": "ceba9e23",
   "metadata": {},
   "outputs": [],
   "source": []
  }
 ],
 "metadata": {
  "kernelspec": {
   "display_name": "Python 3 (ipykernel)",
   "language": "python",
   "name": "python3"
  },
  "language_info": {
   "codemirror_mode": {
    "name": "ipython",
    "version": 3
   },
   "file_extension": ".py",
   "mimetype": "text/x-python",
   "name": "python",
   "nbconvert_exporter": "python",
   "pygments_lexer": "ipython3",
   "version": "3.7.10"
  }
 },
 "nbformat": 4,
 "nbformat_minor": 5
}
