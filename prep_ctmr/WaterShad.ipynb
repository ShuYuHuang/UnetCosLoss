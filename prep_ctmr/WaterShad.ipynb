{
 "cells": [
  {
   "cell_type": "code",
   "execution_count": 1,
   "id": "0f70f2b1",
   "metadata": {},
   "outputs": [],
   "source": [
    "%matplotlib inline\n",
    "\n",
    "import numpy as np # linear algebra\n",
    "import pandas as pd # data processing, CSV file I/O (e.g. pd.read_csv)\n",
    "from pydicom import dcmread\n",
    "import os\n",
    "import scipy.ndimage as ndimage\n",
    "import matplotlib.pyplot as plt\n",
    "\n",
    "\n",
    "from mpl_toolkits.mplot3d.art3d import Poly3DCollection\n",
    "\n",
    "import re\n",
    "from glob import glob\n",
    "from wad import Dict"
   ]
  },
  {
   "cell_type": "code",
   "execution_count": 2,
   "id": "c85f7c77",
   "metadata": {},
   "outputs": [],
   "source": [
    "DATA_ROOT=\"../data/\"\n",
    "def filt(tgt,str_list):\n",
    "    return sorted([*filter(lambda x: tgt in x, str_list)])\n",
    "\n",
    "src_dcm=glob(DATA_ROOT+f\"train/**/*.dcm\",recursive=True)\n",
    "src_png=glob(DATA_ROOT+f\"train/**/*.png\",recursive=True)\n",
    "src_f=Dict(**{\n",
    "    y_kw:list(zip(filt(x_kw,src_dcm),filt(y_kw,src_png)))\n",
    "    for x_kw,y_kw in [('CT','CT'),('InPhase','T1DUAL'),('OutPhase','OutPhase'),('T2SPIR','T2SPIR')]\n",
    "})\n",
    "tgt_dcm=glob(DATA_ROOT+f\"test/**/*.dcm\",recursive=True)\n",
    "tgt_f=Dict(**{\n",
    "    x_kw:filt(x_kw,tgt_dcm)\n",
    "    for x_kw in ['CT','T1DUAL','T2SPIR']\n",
    "})"
   ]
  },
  {
   "cell_type": "code",
   "execution_count": 9,
   "id": "0976ab37",
   "metadata": {},
   "outputs": [],
   "source": [
    "import cv2\n",
    "def load_patient(patient_files):\n",
    "    slices = [dcmread(s[0]) for s in patient_files]\n",
    "    masks = np.stack([(cv2.imread(m[1])[...,0]==255) for m in patient_files])\n",
    "    image = np.stack([s.pixel_array for s in slices]).astype(\"float\")\n",
    "    slope = float(slices[0].RescaleSlope)\n",
    "    if slope != 1:\n",
    "        image = slope * image\n",
    "    return image,masks"
   ]
  },
  {
   "cell_type": "code",
   "execution_count": 10,
   "id": "1e337983",
   "metadata": {},
   "outputs": [],
   "source": [
    "nums=[1,2,5,6,8]\n"
   ]
  },
  {
   "cell_type": "code",
   "execution_count": 29,
   "id": "5bd516fe",
   "metadata": {},
   "outputs": [],
   "source": [
    "num=nums[3]\n",
    "patient=[*filter(lambda x: f'/{num}/' in x[0], src_f.CT)]\n",
    "image,masks=load_patient(patient)\n",
    "b=image.copy()\n",
    "# b[(b>800)&(b>1300)]=b[(b>800)&(b>1300)]*5\n",
    "# b[b>1300]=b[b>1300]*5\n",
    "b=b-b.min()\n",
    "b=b/(b.max()-b.min())"
   ]
  },
  {
   "cell_type": "code",
   "execution_count": 32,
   "id": "3ababa0b",
   "metadata": {},
   "outputs": [
    {
     "data": {
      "application/vnd.jupyter.widget-view+json": {
       "model_id": "872ce609269448768b21797f893b9002",
       "version_major": 2,
       "version_minor": 0
      },
      "text/plain": [
       "interactive(children=(IntSlider(value=43, description='slice_num', max=87), IntSlider(value=0, description='co…"
      ]
     },
     "metadata": {},
     "output_type": "display_data"
    },
    {
     "data": {
      "text/plain": [
       "<function __main__.f(slice_num, contour_num)>"
      ]
     },
     "execution_count": 32,
     "metadata": {},
     "output_type": "execute_result"
    }
   ],
   "source": [
    "%matplotlib widget\n",
    "from ipywidgets import interact\n",
    "def f(slice_num,contour_num):\n",
    "    plt.close()\n",
    "    plt.figure(figsize=(10,5))\n",
    "    ret, thresh = cv2.threshold((b[slice_num]*255).astype(\"uint8\"), 110, 255, 0)\n",
    "    contours, hierarchy = cv2.findContours(thresh, cv2.RETR_EXTERNAL, cv2.CHAIN_APPROX_SIMPLE)\n",
    "    contours=np.squeeze(sorted(contours, key=len,reverse=True)[contour_num])\n",
    "    filled_contour=cv2.fillPoly(np.zeros_like(b[slice_num],dtype=\"uint8\"), pts =[contours], color=255)\n",
    "    plt.subplot(1,3,1)\n",
    "    plt.imshow(b[slice_num],\"gray\")\n",
    "    plt.subplot(1,3,2)\n",
    "    plt.imshow(masks[slice_num],\"gray\")\n",
    "    plt.subplot(1,3,3)\n",
    "    plt.imshow(filled_contour,\"gray\")\n",
    "    \n",
    "interact(f,slice_num=(0,len(b)-1),contour_num=0)"
   ]
  },
  {
   "cell_type": "code",
   "execution_count": 22,
   "id": "573e5206",
   "metadata": {},
   "outputs": [],
   "source": [
    "slice_num=40\n",
    "contour_num=0\n",
    "ret, thresh = cv2.threshold((b[slice_num]*255).astype(\"uint8\"), 100, 110, 0)\n",
    "contours, hierarchy = cv2.findContours(thresh, cv2.RETR_EXTERNAL, cv2.CHAIN_APPROX_SIMPLE)\n",
    "contours=np.squeeze(sorted(contours, key=len,reverse=True)[contour_num])\n",
    "filled_contour=cv2.fillPoly(np.zeros_like(b[slice_num],dtype=\"uint8\"), pts =[contours], color=255)"
   ]
  },
  {
   "cell_type": "code",
   "execution_count": 271,
   "id": "3f2131ce",
   "metadata": {},
   "outputs": [
    {
     "data": {
      "text/plain": [
       "<matplotlib.image.AxesImage at 0x7f540c77fbd0>"
      ]
     },
     "execution_count": 271,
     "metadata": {},
     "output_type": "execute_result"
    },
    {
     "data": {
      "image/png": "[encoded data removed]",
      "text/plain": [
       "<Figure size 432x288 with 1 Axes>"
      ]
     },
     "metadata": {
      "needs_background": "light"
     },
     "output_type": "display_data"
    }
   ],
   "source": [
    "%matplotlib inline\n",
    "trunk=np.logical_xor(masks[slice_num],filled_contour)\n",
    "plt.imshow(trunk)"
   ]
  },
  {
   "cell_type": "code",
   "execution_count": 274,
   "id": "a1547b4c",
   "metadata": {},
   "outputs": [
    {
     "data": {
      "text/plain": [
       "True"
      ]
     },
     "execution_count": 274,
     "metadata": {},
     "output_type": "execute_result"
    }
   ],
   "source": [
    "cv2.imwrite(f\"tmp.png\",trunk*255)"
   ]
  }
 ],
 "metadata": {
  "kernelspec": {
   "display_name": "Python 3 (ipykernel)",
   "language": "python",
   "name": "python3"
  },
  "language_info": {
   "codemirror_mode": {
    "name": "ipython",
    "version": 3
   },
   "file_extension": ".py",
   "mimetype": "text/x-python",
   "name": "python",
   "nbconvert_exporter": "python",
   "pygments_lexer": "ipython3",
   "version": "3.7.10"
  }
 },
 "nbformat": 4,
 "nbformat_minor": 5
}
