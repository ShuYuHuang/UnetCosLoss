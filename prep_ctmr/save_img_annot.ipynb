{
 "cells": [
  {
   "cell_type": "code",
   "execution_count": 1,
   "id": "411050ed",
   "metadata": {},
   "outputs": [],
   "source": [
    "import numpy as np # linear algebra\n",
    "import os\n",
    "from os.path import join\n",
    "from glob import glob\n",
    "from wad import Dict\n",
    "import cv2\n",
    "from functools import partial \n",
    "from pycocotools.coco import COCO \n",
    "import json"
   ]
  },
  {
   "cell_type": "code",
   "execution_count": 2,
   "id": "562adaaa",
   "metadata": {},
   "outputs": [],
   "source": [
    "def filt(tgt,str_list):\n",
    "        return sorted([*filter(lambda x: tgt in x, str_list)])"
   ]
  },
  {
   "cell_type": "code",
   "execution_count": 5,
   "id": "7d3a04c5",
   "metadata": {},
   "outputs": [],
   "source": [
    "def save_annot(subjet_dir,save_dir,cat_dict,name_prefix=\"annotations_subj\"):\n",
    "    src_dcm=sorted(glob(join(subjet_dir,\"**/\",\"*.dcm\"),recursive=True))\n",
    "    src_png=sorted(glob(join(subjet_dir,\"**/\",\"*.png\"),recursive=True))\n",
    "    \n",
    "    src_f=Dict(img=filt(\"DICOM_anon\",src_dcm),msk=filt(\"NewGT\",src_png))\n",
    "    categories=[dict(id=v,name=k,supercategory=\"organ\") \n",
    "                for ii,(k,v) in enumerate(cat_dict.items())]\n",
    "    if src_f.msk!=[]:\n",
    "        images=[dict(id=ii,\n",
    "                     file_name=img[len(DATA_ROOT)+1:],\n",
    "                     mask_file=msk[len(DATA_ROOT)+1:]\n",
    "                    )\n",
    "                for ii,(img,msk) in enumerate(zip(src_f.img,src_f.msk))]\n",
    "    else:\n",
    "        images=[dict(id=ii,\n",
    "                     file_name=img[len(DATA_ROOT)+1:],\n",
    "                     mask_file=\"\"\n",
    "                    )\n",
    "                for ii,img in enumerate(src_f.img)]\n",
    "    annotations=[]\n",
    "    jj=0\n",
    "    for ii,fname in enumerate(src_f.msk):\n",
    "        segmap=cv2.imread(fname)\n",
    "        unique_classes=np.unique(segmap)[1:]\n",
    "        for c in unique_classes:\n",
    "            annotations.append(dict(\n",
    "                id=jj,\n",
    "                image_id=ii,\n",
    "                category_id=int(c),\n",
    "                file_name=fname[len(DATA_ROOT)+1:]))\n",
    "            jj+=1\n",
    "    info=dict(\n",
    "        root_dir=DATA_ROOT.split(\"/\")[-1]\n",
    "    )\n",
    "    coco_annt=dict(\n",
    "        info=info,\n",
    "        images=images,\n",
    "        annotations=annotations,\n",
    "        categories=categories)\n",
    "    save_fname=join(save_dir,f\"{name_prefix}{subjet_dir[len(DATA_ROOT)+1:-1]}.json\")\n",
    "    os.makedirs(save_dir,exist_ok=True)\n",
    "    with open(save_fname, \"w\") as f:\n",
    "        json.dump(coco_annt, f)\n",
    "    return save_fname"
   ]
  },
  {
   "cell_type": "markdown",
   "id": "bc8b7be5",
   "metadata": {},
   "source": [
    "## Save MRI Annotations"
   ]
  },
  {
   "cell_type": "code",
   "execution_count": 16,
   "id": "88e645b1",
   "metadata": {},
   "outputs": [],
   "source": [
    "DATA_ROOT=\"../datas/2_Domain_Adaptation_dataset/MRI/MRI_Label\"\n",
    "kwargs=dict(\n",
    "    save_dir=\"../datas/2_Domain_Adaptation_dataset/MRI/annotations/MRI_Label\",\n",
    "    name_prefix=\"annotations_subj\",\n",
    "    cat_dict=dict(\n",
    "        trunk=32,\n",
    "        liver=63,\n",
    "        kidney_r=126,\n",
    "        kidney_l=189,\n",
    "        spleen=252)\n",
    ")\n",
    "subjects=sorted(glob(join(DATA_ROOT,\"[0-9]*/\")))\n",
    "save_fnames=[*map(partial(save_annot,**kwargs),subjects)]"
   ]
  },
  {
   "cell_type": "code",
   "execution_count": 6,
   "id": "d67f0de3",
   "metadata": {},
   "outputs": [
    {
     "name": "stdout",
     "output_type": "stream",
     "text": [
      "loading annotations into memory...\n",
      "Done (t=0.00s)\n",
      "creating index...\n",
      "index created!\n"
     ]
    }
   ],
   "source": [
    "cc=COCO(save_fnames[0])"
   ]
  },
  {
   "cell_type": "code",
   "execution_count": 7,
   "id": "abb5de64",
   "metadata": {
    "collapsed": true,
    "jupyter": {
     "outputs_hidden": true
    }
   },
   "outputs": [
    {
     "data": {
      "text/plain": [
       "[{'id': 13,\n",
       "  'image_id': 12,\n",
       "  'category_id': 63,\n",
       "  'file_name': '1/T2SPIR/NewGT/IMG-0002-00013.png'},\n",
       " {'id': 16,\n",
       "  'image_id': 13,\n",
       "  'category_id': 63,\n",
       "  'file_name': '1/T2SPIR/NewGT/IMG-0002-00014.png'},\n",
       " {'id': 19,\n",
       "  'image_id': 14,\n",
       "  'category_id': 63,\n",
       "  'file_name': '1/T2SPIR/NewGT/IMG-0002-00015.png'},\n",
       " {'id': 23,\n",
       "  'image_id': 15,\n",
       "  'category_id': 63,\n",
       "  'file_name': '1/T2SPIR/NewGT/IMG-0002-00016.png'},\n",
       " {'id': 27,\n",
       "  'image_id': 16,\n",
       "  'category_id': 63,\n",
       "  'file_name': '1/T2SPIR/NewGT/IMG-0002-00017.png'},\n",
       " {'id': 31,\n",
       "  'image_id': 17,\n",
       "  'category_id': 63,\n",
       "  'file_name': '1/T2SPIR/NewGT/IMG-0002-00018.png'},\n",
       " {'id': 35,\n",
       "  'image_id': 18,\n",
       "  'category_id': 63,\n",
       "  'file_name': '1/T2SPIR/NewGT/IMG-0002-00019.png'},\n",
       " {'id': 40,\n",
       "  'image_id': 19,\n",
       "  'category_id': 63,\n",
       "  'file_name': '1/T2SPIR/NewGT/IMG-0002-00020.png'},\n",
       " {'id': 45,\n",
       "  'image_id': 20,\n",
       "  'category_id': 63,\n",
       "  'file_name': '1/T2SPIR/NewGT/IMG-0002-00021.png'},\n",
       " {'id': 50,\n",
       "  'image_id': 21,\n",
       "  'category_id': 63,\n",
       "  'file_name': '1/T2SPIR/NewGT/IMG-0002-00022.png'},\n",
       " {'id': 55,\n",
       "  'image_id': 22,\n",
       "  'category_id': 63,\n",
       "  'file_name': '1/T2SPIR/NewGT/IMG-0002-00023.png'},\n",
       " {'id': 60,\n",
       "  'image_id': 23,\n",
       "  'category_id': 63,\n",
       "  'file_name': '1/T2SPIR/NewGT/IMG-0002-00024.png'},\n",
       " {'id': 65,\n",
       "  'image_id': 24,\n",
       "  'category_id': 63,\n",
       "  'file_name': '1/T2SPIR/NewGT/IMG-0002-00025.png'},\n",
       " {'id': 70,\n",
       "  'image_id': 25,\n",
       "  'category_id': 63,\n",
       "  'file_name': '1/T2SPIR/NewGT/IMG-0002-00026.png'},\n",
       " {'id': 75,\n",
       "  'image_id': 26,\n",
       "  'category_id': 63,\n",
       "  'file_name': '1/T2SPIR/NewGT/IMG-0002-00027.png'},\n",
       " {'id': 79,\n",
       "  'image_id': 27,\n",
       "  'category_id': 63,\n",
       "  'file_name': '1/T2SPIR/NewGT/IMG-0002-00028.png'},\n",
       " {'id': 83,\n",
       "  'image_id': 28,\n",
       "  'category_id': 63,\n",
       "  'file_name': '1/T2SPIR/NewGT/IMG-0002-00029.png'},\n",
       " {'id': 87,\n",
       "  'image_id': 29,\n",
       "  'category_id': 63,\n",
       "  'file_name': '1/T2SPIR/NewGT/IMG-0002-00030.png'},\n",
       " {'id': 91,\n",
       "  'image_id': 30,\n",
       "  'category_id': 63,\n",
       "  'file_name': '1/T2SPIR/NewGT/IMG-0002-00031.png'},\n",
       " {'id': 94,\n",
       "  'image_id': 31,\n",
       "  'category_id': 63,\n",
       "  'file_name': '1/T2SPIR/NewGT/IMG-0002-00032.png'},\n",
       " {'id': 97,\n",
       "  'image_id': 32,\n",
       "  'category_id': 63,\n",
       "  'file_name': '1/T2SPIR/NewGT/IMG-0002-00033.png'},\n",
       " {'id': 99,\n",
       "  'image_id': 33,\n",
       "  'category_id': 63,\n",
       "  'file_name': '1/T2SPIR/NewGT/IMG-0002-00034.png'},\n",
       " {'id': 101,\n",
       "  'image_id': 34,\n",
       "  'category_id': 63,\n",
       "  'file_name': '1/T2SPIR/NewGT/IMG-0002-00035.png'},\n",
       " {'id': 103,\n",
       "  'image_id': 35,\n",
       "  'category_id': 63,\n",
       "  'file_name': '1/T2SPIR/NewGT/IMG-0002-00036.png'}]"
      ]
     },
     "execution_count": 7,
     "metadata": {},
     "output_type": "execute_result"
    }
   ],
   "source": [
    "cc.loadAnns(cc.getAnnIds(catIds=63))"
   ]
  },
  {
   "cell_type": "code",
   "execution_count": 17,
   "id": "d39948e4",
   "metadata": {},
   "outputs": [],
   "source": [
    "DATA_ROOT=\"../datas/2_Domain_Adaptation_dataset/MRI/MRI_nonLabel\"\n",
    "kwargs=dict(kwargs,save_dir=\"../datas/2_Domain_Adaptation_dataset/MRI/annotations/MRI_nonLabel\")\n",
    "subjects=sorted(glob(join(DATA_ROOT,f\"[0-9]*/\"),recursive=True))\n",
    "save_fnames=[*map(partial(save_annot,**kwargs),subjects)]"
   ]
  },
  {
   "cell_type": "markdown",
   "id": "c930d60c",
   "metadata": {},
   "source": [
    "## Save CT Annotations"
   ]
  },
  {
   "cell_type": "code",
   "execution_count": 11,
   "id": "570778fb",
   "metadata": {},
   "outputs": [],
   "source": [
    "DATA_ROOT=\"../datas/2_Domain_Adaptation_dataset/CT\"\n",
    "kwargs=dict(\n",
    "    save_dir=\"../datas/2_Domain_Adaptation_dataset/CT/annotations\",\n",
    "    cat_dict=dict(\n",
    "        trunk=32,\n",
    "        liver=63)\n",
    ")\n",
    "subjects=sorted(glob(join(DATA_ROOT,\"[0-9]*/\")))\n",
    "save_fnames=[*map(partial(save_annot,**kwargs),subjects)]"
   ]
  },
  {
   "cell_type": "markdown",
   "id": "6937c658",
   "metadata": {},
   "source": [
    "## All Subjects"
   ]
  },
  {
   "cell_type": "code",
   "execution_count": 18,
   "id": "b2019974",
   "metadata": {},
   "outputs": [],
   "source": [
    "DATA_ROOT=\"../datas/2_Domain_Adaptation_dataset/MRI/MRI_Label\"\n",
    "kwargs=dict(\n",
    "    save_dir=\"../datas/2_Domain_Adaptation_dataset/MRI/annotations/MRI_Label\",\n",
    "    name_prefix=\"annotations\",\n",
    "    cat_dict=dict(\n",
    "        trunk=32,\n",
    "        liver=63,\n",
    "        kidney_r=126,\n",
    "        kidney_l=189,\n",
    "        spleen=252)\n",
    ")\n",
    "fname=save_annot(DATA_ROOT,**kwargs)"
   ]
  },
  {
   "cell_type": "code",
   "execution_count": 19,
   "id": "23696ffc",
   "metadata": {},
   "outputs": [],
   "source": [
    "DATA_ROOT=\"../datas/2_Domain_Adaptation_dataset/MRI/MRI_nonLabel\"\n",
    "kwargs=dict(kwargs,\n",
    "    save_dir=\"../datas/2_Domain_Adaptation_dataset/MRI/annotations/MRI_nonLabel\",\n",
    ")\n",
    "fname=save_annot(DATA_ROOT,**kwargs)"
   ]
  },
  {
   "cell_type": "code",
   "execution_count": 5,
   "id": "300c3380",
   "metadata": {},
   "outputs": [],
   "source": [
    "DATA_ROOT=\"../datas/2_Domain_Adaptation_dataset/CT\"\n",
    "kwargs=dict(kwargs,\n",
    "    save_dir=\"../datas/2_Domain_Adaptation_dataset/CT/annotations\",\n",
    "    cat_dict=dict(\n",
    "        trunk=32,\n",
    "        liver=63)\n",
    ")\n",
    "fname=save_annot(DATA_ROOT,**kwargs)"
   ]
  },
  {
   "cell_type": "code",
   "execution_count": null,
   "id": "702647c0",
   "metadata": {},
   "outputs": [],
   "source": []
  },
  {
   "cell_type": "markdown",
   "id": "05e616b6",
   "metadata": {},
   "source": [
    "## Test Set"
   ]
  },
  {
   "cell_type": "code",
   "execution_count": 6,
   "id": "98fb3e7a",
   "metadata": {},
   "outputs": [],
   "source": [
    "DATA_ROOT=\"../UnetCosLoss/data/testset\"\n",
    "kwargs=dict(\n",
    "    save_dir=\"../UnetCosLoss/data/testset/annotations\",\n",
    "    name_prefix=\"annotations_gt\",\n",
    "    cat_dict=dict(\n",
    "        trunk=32,\n",
    "        liver=63,\n",
    "        kidney_r=126,\n",
    "        kidney_l=189,\n",
    "        spleen=252)\n",
    ")\n",
    "fname=save_annot(DATA_ROOT,**kwargs)"
   ]
  },
  {
   "cell_type": "code",
   "execution_count": null,
   "id": "eb3cf72f",
   "metadata": {},
   "outputs": [],
   "source": []
  }
 ],
 "metadata": {
  "kernelspec": {
   "display_name": "Python 3 (ipykernel)",
   "language": "python",
   "name": "python3"
  },
  "language_info": {
   "codemirror_mode": {
    "name": "ipython",
    "version": 3
   },
   "file_extension": ".py",
   "mimetype": "text/x-python",
   "name": "python",
   "nbconvert_exporter": "python",
   "pygments_lexer": "ipython3",
   "version": "3.7.10"
  }
 },
 "nbformat": 4,
 "nbformat_minor": 5
}
