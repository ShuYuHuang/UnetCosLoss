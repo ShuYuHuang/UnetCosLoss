{
 "cells": [
  {
   "cell_type": "code",
   "execution_count": 4,
   "id": "e35f70e3",
   "metadata": {},
   "outputs": [],
   "source": [
    "!pip install -q -r requirements.txt"
   ]
  },
  {
   "cell_type": "code",
   "execution_count": 7,
   "id": "fe05ba91",
   "metadata": {
    "collapsed": true,
    "jupyter": {
     "outputs_hidden": true
    }
   },
   "outputs": [
    {
     "name": "stdout",
     "output_type": "stream",
     "text": [
      "Found existing installation: opencv-python-headless 4.5.5.64\n",
      "Uninstalling opencv-python-headless-4.5.5.64:\n",
      "  Successfully uninstalled opencv-python-headless-4.5.5.64\n",
      "Collecting opencv-python-headless==4.1.2.30\n",
      "  Using cached opencv_python_headless-4.1.2.30-cp37-cp37m-manylinux1_x86_64.whl (21.8 MB)\n",
      "Requirement already satisfied: numpy>=1.14.5 in /opt/conda/lib/python3.7/site-packages (from opencv-python-headless==4.1.2.30) (1.21.2)\n",
      "Installing collected packages: opencv-python-headless\n",
      "Successfully installed opencv-python-headless-4.1.2.30\n"
     ]
    }
   ],
   "source": [
    "!pip uninstall -y opencv-python-headless\n",
    "!pip install opencv-python-headless==4.1.2.30"
   ]
  },
  {
   "cell_type": "markdown",
   "id": "d96273bf",
   "metadata": {},
   "source": [
    "## Data Loading"
   ]
  },
  {
   "cell_type": "code",
   "execution_count": 1,
   "id": "74e68025",
   "metadata": {},
   "outputs": [],
   "source": [
    "from os.path import join\n",
    "import numpy as np \n",
    "import torch\n",
    "import warnings\n",
    "warnings.filterwarnings('ignore')"
   ]
  },
  {
   "cell_type": "code",
   "execution_count": 2,
   "id": "1521feb4",
   "metadata": {},
   "outputs": [],
   "source": [
    "DATA_ROOT=\"./data/\"\n",
    "\n",
    "MRI_root_dir=join(DATA_ROOT,\"MRI\",\"MRI_Label\")\n",
    "MRI_anno_file=join(DATA_ROOT,\"MRI\",\"annotations/MRI_Label/annotations.json\")\n",
    "MRI_nonLabel_root_dir=join(DATA_ROOT,\"MRI\",\"MRI_nonLabel\")\n",
    "MRI_nonLabel_anno_file=join(DATA_ROOT,\"MRI\",\"annotations/MRI_nonLabel/annotations.json\")\n",
    "\n",
    "CT_root_dir=join(DATA_ROOT,\"CT\")\n",
    "CT_anno_file=join(DATA_ROOT,\"CT\",\"annotations/annotations.json\")"
   ]
  },
  {
   "cell_type": "code",
   "execution_count": null,
   "id": "33b29c3b",
   "metadata": {},
   "outputs": [],
   "source": [
    "import albumentations as A\n",
    "WIDTH, HEIGHT=256,256\n",
    "\n",
    "class DivMax(A.ImageOnlyTransform):\n",
    "    def __init__(self, always_apply=True, p=1.0):\n",
    "        super().__init__(always_apply, p)\n",
    "    def apply(self, img, **params):\n",
    "        img=img/np.max(img)\n",
    "#         img[img<0.25]=0\n",
    "#         img[img>0.65]=0\n",
    "        return img\n",
    "    \n",
    "transform = A.Compose([\n",
    "  A.ToFloat(always_apply=True),\n",
    "  DivMax(always_apply=True),\n",
    "  A.Resize(WIDTH, HEIGHT),\n",
    "  A.HorizontalFlip(p=0.5),\n",
    "  A.RandomBrightnessContrast(brightness_limit=[-0.05, 0.05], p=0.2),\n",
    "  A.Rotate((-30, 30), interpolation=0), \n",
    "  A.RandomContrast(limit=0.2, p=1),   \n",
    "])\n",
    "\n",
    "test_transform = A.Compose([           \n",
    "  A.ToFloat(always_apply=True),\n",
    "  DivMax(always_apply=True),\n",
    "  A.Resize(WIDTH, HEIGHT),\n",
    "])"
   ]
  },
  {
   "cell_type": "code",
   "execution_count": null,
   "id": "2832bc46",
   "metadata": {},
   "outputs": [],
   "source": [
    "from dataloaders.ctmri_multiclass import CTMRI_MultiClassDataset,CTMRI_InferenceDataset,CTMRI_SSLDataset\n",
    "\n",
    "ds_kwargs=dict(\n",
    "    transform=transform,\n",
    "    test_transform=test_transform,\n",
    "    test_split=0.2\n",
    "    )\n",
    "MRI_ds=CTMRI_MultiClassDataset(MRI_anno_file,MRI_root_dir,**ds_kwargs)\n",
    "MRI_nonLabel_ds=CTMRI_SSLDataset(MRI_nonLabel_anno_file,MRI_nonLabel_root_dir,transform=transform,test_transform=test_transform)\n",
    "\n",
    "CT_ds=CTMRI_MultiClassDataset(CT_anno_file,CT_root_dir,**ds_kwargs)"
   ]
  },
  {
   "cell_type": "code",
   "execution_count": 5,
   "id": "35885e10",
   "metadata": {},
   "outputs": [],
   "source": [
    "import torch.utils.data as tud\n",
    "ldr_kwargs=dict(\n",
    "    batch_size=8,\n",
    "    shuffle=True,\n",
    "    pin_memory=False,\n",
    "    num_workers=2,\n",
    "    drop_last=True\n",
    ")\n",
    "CT_loader=tud.DataLoader(CT_ds,**ldr_kwargs)\n",
    "MRI_loader=tud.DataLoader(MRI_ds,**ldr_kwargs)\n",
    "MRI_nonLabel_loader=tud.DataLoader(MRI_nonLabel_ds,**ldr_kwargs)"
   ]
  },
  {
   "cell_type": "code",
   "execution_count": 6,
   "id": "fa6196f5",
   "metadata": {},
   "outputs": [],
   "source": [
    "from dataloaders.ctmri_multiclass import occr_in_ds\n",
    "\n",
    "MRI_occr=occr_in_ds(MRI_ds)\n",
    "CT_occr=occr_in_ds(CT_ds)"
   ]
  },
  {
   "cell_type": "code",
   "execution_count": 7,
   "id": "dc7009a0",
   "metadata": {},
   "outputs": [
    {
     "name": "stdout",
     "output_type": "stream",
     "text": [
      "BATCHSIZE= 3\n",
      "(3, 256, 256, 3) \n",
      " (3, 256, 256)\n"
     ]
    },
    {
     "data": {
      "image/png": "[encoded data removed]",
      "text/plain": [
       "<Figure size 216x144 with 6 Axes>"
      ]
     },
     "metadata": {
      "needs_background": "light"
     },
     "output_type": "display_data"
    }
   ],
   "source": [
    "from utils.plotting import show_image_annot\n",
    "CT_ds.training=True\n",
    "x,y=next(iter(CT_loader))\n",
    "show_image_annot(x.numpy().transpose(0,2,3,1),y.numpy(),showPics=3, vmax=CT_ds.n_cats)"
   ]
  },
  {
   "cell_type": "code",
   "execution_count": 8,
   "id": "a6ab1d2b",
   "metadata": {},
   "outputs": [
    {
     "data": {
      "text/plain": [
       "{0, 1, 2}"
      ]
     },
     "execution_count": 8,
     "metadata": {},
     "output_type": "execute_result"
    }
   ],
   "source": [
    "set(y.flatten().numpy())"
   ]
  },
  {
   "cell_type": "code",
   "execution_count": 9,
   "id": "3fb178b0",
   "metadata": {},
   "outputs": [
    {
     "name": "stderr",
     "output_type": "stream",
     "text": [
      "Using cache found in /home/jovyan/.cache/torch/hub/mateuszbuda_brain-segmentation-pytorch_master\n"
     ]
    }
   ],
   "source": [
    "from models.unet import UNet\n",
    "from models.head import MetricLayer\n",
    "from models.models import SegModel\n",
    "unet_pretrain = torch.hub.load('mateuszbuda/brain-segmentation-pytorch', 'unet',\n",
    "    in_channels=3, out_channels=1, init_features=32, pretrained=True).cuda()\n",
    "backbone=UNet(unet_pretrain).cuda()\n",
    "latent_dims=32\n",
    "head=MetricLayer(n_in_features=latent_dims,n_out_features=1+CT_ds.n_cats).cuda()\n",
    "model_ct=SegModel(backbone,head,(WIDTH, HEIGHT)).cuda()"
   ]
  },
  {
   "cell_type": "code",
   "execution_count": 10,
   "id": "f618cfe6",
   "metadata": {},
   "outputs": [],
   "source": [
    "# from torchsummary import summary\n",
    "# summary(backbone.encoder, (3, 224, 224))"
   ]
  },
  {
   "cell_type": "code",
   "execution_count": 11,
   "id": "99a144aa",
   "metadata": {},
   "outputs": [],
   "source": [
    "def calc_acc(pred, y):\n",
    "    correct=(pred.argmax(1)==y).flatten()\n",
    "    return torch.sum(correct)/len(correct)\n",
    "def one_batch(i_iter,log,sample_batched,model,criterion,optimizer):\n",
    "    # Prep input\n",
    "    x,y=[_.cuda() for _ in sample_batched]\n",
    "    pred=model(x)\n",
    "    loss = criterion(pred, y)\n",
    "    if model.training:\n",
    "        #Update\n",
    "        loss.backward()\n",
    "        optimizer.step()\n",
    "        optimizer.zero_grad()\n",
    "    with torch.no_grad():\n",
    "        acc=calc_acc(pred, y).item()\n",
    "        if i_iter==0:\n",
    "            log['acc'] = acc\n",
    "        else:\n",
    "            log['acc'] = (acc+log['acc']*i_iter)/(i_iter + 1)\n",
    "    # Record\n",
    "    loss_rec = loss.item()\n",
    "    log['loss'] = (loss_rec+log['loss']*i_iter)/(i_iter + 1)\n",
    "    return pred,loss\n"
   ]
  },
  {
   "cell_type": "code",
   "execution_count": 12,
   "id": "4834bd9f",
   "metadata": {},
   "outputs": [
    {
     "name": "stdout",
     "output_type": "stream",
     "text": [
      "mkdir: cannot create directory ‘snapshots’: File exists\n"
     ]
    }
   ],
   "source": [
    "!mkdir snapshots"
   ]
  },
  {
   "cell_type": "code",
   "execution_count": 16,
   "id": "73e39983",
   "metadata": {},
   "outputs": [],
   "source": [
    "from losses.marginal import AddMarginLoss\n",
    "# w=1/torch.tensor(CT_occr,dtype=torch.float32).cuda()\n",
    "w=torch.tensor([0.2,0.2,0.6],dtype=torch.float32).cuda()\n",
    "criterion_ct = AddMarginLoss(ways=1+CT_ds.n_cats,\n",
    "                             s=10 ,m=1.4,gamma=3,\n",
    "                             weight=w)\n",
    "# optimizer_ct = torch.optim.SGD(model_ct.parameters(),lr=1e-3,momentum=0.9,weight_decay=0.0005)\n",
    "optimizer_ct = torch.optim.Adam(model_ct.parameters(),lr=1e-3)\n",
    "# \n",
    "# scheduler = MultiStepLR(optimizer, milestones=[100, 200, 300], gamma=0.1)\n",
    "# "
   ]
  },
  {
   "cell_type": "code",
   "execution_count": 17,
   "id": "d98d591c",
   "metadata": {},
   "outputs": [],
   "source": [
    "from tqdm import tqdm"
   ]
  },
  {
   "cell_type": "code",
   "execution_count": 18,
   "id": "ed641737",
   "metadata": {},
   "outputs": [
    {
     "name": "stderr",
     "output_type": "stream",
     "text": [
      "287it [00:47,  6.10it/s, epoch=0, step=285, loss=5.66, acc=0.933]\n",
      "287it [00:38,  7.47it/s, epoch=1, step=285, loss=2.71, acc=0.97] \n",
      "71it [00:03, 18.63it/s, epoch=1, step=val, loss=2.18, acc=0.983]\n",
      "287it [00:38,  7.43it/s, epoch=2, step=285, loss=2.34, acc=0.977]\n",
      "287it [00:38,  7.42it/s, epoch=3, step=285, loss=2.1, acc=0.983] \n",
      "71it [00:03, 18.47it/s, epoch=3, step=val, loss=2.08, acc=0.984]\n",
      "287it [00:38,  7.40it/s, epoch=4, step=285, loss=2.07, acc=0.984]\n",
      "287it [00:38,  7.40it/s, epoch=5, step=285, loss=2.01, acc=0.985]\n",
      "71it [00:03, 18.38it/s, epoch=5, step=val, loss=2.03, acc=0.985]\n",
      "287it [00:38,  7.40it/s, epoch=6, step=285, loss=1.99, acc=0.986]\n",
      "287it [00:38,  7.39it/s, epoch=7, step=285, loss=2.06, acc=0.984]\n",
      "71it [00:03, 18.68it/s, epoch=7, step=val, loss=2.28, acc=0.972]\n",
      "287it [00:38,  7.37it/s, epoch=8, step=285, loss=1.98, acc=0.986]\n",
      "287it [00:38,  7.37it/s, epoch=9, step=285, loss=1.97, acc=0.986]\n",
      "71it [00:03, 17.84it/s, epoch=9, step=val, loss=1.88, acc=0.988]\n",
      "287it [00:38,  7.40it/s, epoch=10, step=285, loss=1.91, acc=0.988]\n",
      "287it [00:38,  7.39it/s, epoch=11, step=285, loss=1.89, acc=0.988]\n",
      "71it [00:03, 18.50it/s, epoch=11, step=val, loss=1.84, acc=0.99] \n",
      "287it [00:38,  7.41it/s, epoch=12, step=285, loss=1.88, acc=0.989]\n",
      "287it [00:38,  7.38it/s, epoch=13, step=285, loss=1.94, acc=0.987]\n",
      "71it [00:03, 18.55it/s, epoch=13, step=val, loss=1.83, acc=0.99] \n",
      "287it [00:38,  7.39it/s, epoch=14, step=285, loss=1.88, acc=0.989]\n",
      "287it [00:38,  7.38it/s, epoch=15, step=285, loss=1.91, acc=0.988]\n",
      "71it [00:03, 18.63it/s, epoch=15, step=val, loss=1.79, acc=0.991]\n",
      "287it [00:38,  7.39it/s, epoch=16, step=285, loss=1.86, acc=0.989]\n",
      "287it [00:38,  7.41it/s, epoch=17, step=285, loss=1.85, acc=0.99] \n",
      "71it [00:03, 18.31it/s, epoch=17, step=val, loss=1.77, acc=0.992]\n",
      "287it [00:38,  7.40it/s, epoch=18, step=285, loss=1.82, acc=0.991]\n",
      "287it [00:38,  7.41it/s, epoch=19, step=285, loss=1.82, acc=0.991]\n",
      "71it [00:03, 18.14it/s, epoch=19, step=val, loss=1.77, acc=0.993]\n",
      "287it [00:38,  7.41it/s, epoch=20, step=285, loss=1.81, acc=0.991]\n",
      "287it [00:38,  7.38it/s, epoch=21, step=285, loss=1.84, acc=0.99] \n",
      "71it [00:03, 18.57it/s, epoch=21, step=val, loss=1.78, acc=0.992]\n",
      "287it [00:38,  7.38it/s, epoch=22, step=285, loss=1.85, acc=0.99]\n",
      "287it [00:38,  7.41it/s, epoch=23, step=285, loss=1.89, acc=0.989]\n",
      "71it [00:03, 18.03it/s, epoch=23, step=val, loss=1.78, acc=0.992]\n",
      "287it [00:38,  7.37it/s, epoch=24, step=285, loss=1.83, acc=0.99]\n",
      "287it [00:39,  7.35it/s, epoch=25, step=285, loss=1.8, acc=0.991] \n",
      "71it [00:04, 17.46it/s, epoch=25, step=val, loss=1.75, acc=0.992]\n",
      "287it [00:38,  7.42it/s, epoch=26, step=285, loss=1.8, acc=0.991] \n",
      "287it [00:38,  7.40it/s, epoch=27, step=285, loss=1.82, acc=0.991]\n",
      "71it [00:03, 18.00it/s, epoch=27, step=val, loss=1.75, acc=0.993]\n",
      "287it [00:38,  7.41it/s, epoch=28, step=285, loss=1.85, acc=0.99]\n",
      "287it [00:38,  7.38it/s, epoch=29, step=285, loss=1.82, acc=0.991]\n",
      "71it [00:03, 18.34it/s, epoch=29, step=val, loss=1.8, acc=0.992] \n",
      "287it [00:38,  7.42it/s, epoch=30, step=285, loss=1.84, acc=0.99] \n",
      "287it [00:38,  7.41it/s, epoch=31, step=285, loss=1.8, acc=0.991] \n",
      "71it [00:03, 17.98it/s, epoch=31, step=val, loss=1.73, acc=0.994]\n",
      "287it [00:38,  7.40it/s, epoch=32, step=285, loss=1.79, acc=0.992]\n",
      "287it [00:38,  7.40it/s, epoch=33, step=285, loss=1.85, acc=0.99] \n",
      "71it [00:03, 18.64it/s, epoch=33, step=val, loss=1.78, acc=0.992]\n",
      "287it [00:38,  7.40it/s, epoch=34, step=285, loss=1.84, acc=0.99] \n",
      "287it [00:38,  7.40it/s, epoch=35, step=285, loss=1.79, acc=0.992]\n",
      "71it [00:03, 17.82it/s, epoch=35, step=val, loss=1.72, acc=0.994]\n",
      "287it [00:38,  7.41it/s, epoch=36, step=285, loss=1.77, acc=0.992]\n",
      "287it [00:38,  7.40it/s, epoch=37, step=285, loss=1.78, acc=0.992]\n",
      "71it [00:04, 17.69it/s, epoch=37, step=val, loss=1.73, acc=0.994]\n"
     ]
    }
   ],
   "source": [
    "EPOCH=100\n",
    "model_ct.train()\n",
    "best_loss=np.inf\n",
    "PAITIENCE=5\n",
    "count=0\n",
    "try:\n",
    "    for e in range(EPOCH):\n",
    "        log= {'epoch':e,'step':0,'loss': 0, 'acc': 0}\n",
    "        model_ct.train()\n",
    "        CT_ds.training=True\n",
    "        session=tqdm(enumerate(CT_loader))\n",
    "        for i_iter, sample_batched in session:\n",
    "            pred,loss=one_batch(i_iter,log,sample_batched,model_ct,criterion_ct,optimizer_ct)\n",
    "            # print loss and take snapshots\n",
    "            if (i_iter + 1) % 5 == 0:\n",
    "                log['step']=i_iter+1\n",
    "                session.set_postfix(log)\n",
    "        # validate\n",
    "        if (e + 1) % 2 == 0:\n",
    "            log = {'epoch':e,'step':'val','loss': 0, 'acc': 0}\n",
    "            model_ct.eval()\n",
    "            CT_ds.training=False\n",
    "            session=tqdm(enumerate(CT_loader))\n",
    "            with torch.no_grad():\n",
    "                for i_iter,sample_batched in session:\n",
    "                    pred,loss=one_batch(i_iter,log,sample_batched,model_ct,criterion_ct,optimizer_ct)\n",
    "                    if (i_iter + 1) % 5 == 0:\n",
    "                        session.set_postfix(log)\n",
    "            # early stop        \n",
    "            if log[\"loss\"]<best_loss:\n",
    "                best_loss=log[\"loss\"]\n",
    "                torch.save(model_ct.state_dict(), 'snapshots/unet_arc_ct_best.pth')\n",
    "            elif count<=PAITIENCE: count+=1\n",
    "            else:\n",
    "                count=0\n",
    "                best_loss=np.inf\n",
    "                break \n",
    "            \n",
    "except KeyboardInterrupt:\n",
    "    print(\"\\nHuman Interrupted\")\n",
    "torch.save(model_ct.state_dict(), 'snapshots/unet_arc_ct_latest.pth')"
   ]
  },
  {
   "cell_type": "code",
   "execution_count": 15,
   "id": "54fc23fc",
   "metadata": {},
   "outputs": [
    {
     "data": {
      "text/plain": [
       "<All keys matched successfully>"
      ]
     },
     "execution_count": 15,
     "metadata": {},
     "output_type": "execute_result"
    }
   ],
   "source": [
    "model_ct.load_state_dict(torch.load(\"snapshots/unet_arc_ct_best.pth\"))"
   ]
  },
  {
   "cell_type": "code",
   "execution_count": 19,
   "id": "34448527",
   "metadata": {},
   "outputs": [
    {
     "name": "stderr",
     "output_type": "stream",
     "text": [
      "0it [00:00, ?it/s, epoch=1, step=test, loss=1.69, acc=0.994]\n"
     ]
    }
   ],
   "source": [
    "model_ct.eval()\n",
    "CT_ds.training=False\n",
    "session=tqdm(enumerate(CT_loader))\n",
    "with torch.no_grad():\n",
    "    log = {'epoch':1,'step':'test','loss': 0, 'acc': 0}\n",
    "    for i_iter,sample_batched in session:\n",
    "        pred,loss=one_batch(i_iter,log,sample_batched,model_ct,criterion_ct,optimizer_ct)\n",
    "        session.set_postfix(log)\n",
    "        break"
   ]
  },
  {
   "cell_type": "code",
   "execution_count": 20,
   "id": "679953c9",
   "metadata": {},
   "outputs": [
    {
     "name": "stdout",
     "output_type": "stream",
     "text": [
      "BATCHSIZE= 3\n",
      "(3, 256, 256) \n",
      " (3, 256, 256)\n"
     ]
    },
    {
     "data": {
      "image/png": "[encoded data removed]",
      "text/plain": [
       "<Figure size 216x144 with 6 Axes>"
      ]
     },
     "metadata": {
      "needs_background": "light"
     },
     "output_type": "display_data"
    }
   ],
   "source": [
    "show_image_annot(pred.cpu().detach().argmax(1).numpy(),\n",
    "                 sample_batched[1].cpu().detach().numpy(),\n",
    "                 showPics=3, vmax=CT_ds.n_cats)"
   ]
  },
  {
   "cell_type": "code",
   "execution_count": 23,
   "id": "b97c214c",
   "metadata": {},
   "outputs": [
    {
     "name": "stderr",
     "output_type": "stream",
     "text": [
      "Using cache found in /home/jovyan/.cache/torch/hub/mateuszbuda_brain-segmentation-pytorch_master\n"
     ]
    }
   ],
   "source": [
    "backbone.train()\n",
    "backbone.requires_grad_(True)\n",
    "head.eval()\n",
    "head.requires_grad_(False)\n",
    "WAYS=1+CT_ds.n_cats\n",
    "\n",
    "unet_pretrain2 = torch.hub.load('mateuszbuda/brain-segmentation-pytorch', 'unet',\n",
    "    in_channels=3, out_channels=1, init_features=32, pretrained=False).cuda()\n",
    "backbone_s=UNet(unet_pretrain2).cuda()\n",
    "head_s=MetricLayer(n_in_features=latent_dims,n_out_features=WAYS).cuda()\n",
    "\n",
    "teacher=SegModel(backbone,head,(WIDTH, HEIGHT)).cuda()\n",
    "student=SegModel(backbone_s,head_s,(WIDTH, HEIGHT)).cuda()\n",
    "\n",
    "w=1-torch.tensor(MRI_occr[:WAYS],dtype=torch.float32).cuda()/\n",
    "# w=torch.tensor([0.1,0.1,0.2,0.2,0.2,0.2],dtype=torch.float32).cuda()\n",
    "criterion_mri = AddMarginLoss(ways=WAYS,s=10 ,m=1.4,gamma=3,weight=w)\n",
    "optimizer_t = torch.optim.SGD(teacher.parameters(),lr=1e-3,momentum=0.9,weight_decay=0.0005)\n",
    "optimizer_s = torch.optim.SGD(student.parameters(),lr=1e-3,momentum=0.9,weight_decay=0.0005)"
   ]
  },
  {
   "cell_type": "code",
   "execution_count": 24,
   "id": "414df6d7",
   "metadata": {},
   "outputs": [],
   "source": [
    "from torch.nn import functional as F\n",
    "def one_batch_pseudo_label(i_iter,log,\n",
    "                           labeled_batch,nonlabeled_batch,\n",
    "                           teacher,student,\n",
    "                           criterion,\n",
    "                           optimizer_t,optimizer_s):\n",
    "    # Prep input\n",
    "    \n",
    "    x_l,y=[_.cuda() for _ in labeled_batch]\n",
    "    x_uw,x_us=[_.cuda() for _ in nonlabeled_batch]\n",
    "    batch_size=len(y)\n",
    "        \n",
    "    # Train student\n",
    "    ## Get teacher latents\n",
    "    t_logits=teacher(torch.cat((x_l,x_uw,x_us)))\n",
    "    t_logits_l,t_logits_uw, t_logits_us = t_logits.chunk(3)\n",
    "    del t_logits\n",
    "    ## For t_logits_l \n",
    "    t_loss_l=criterion(t_logits_l, y)\n",
    "    ## For t_logits_uw \n",
    "    t_y_pseudo_soft = torch.softmax(t_logits_uw.detach()/10.0, dim=1)\n",
    "    max_probs, t_y_pseudo_hard_uw = torch.max(t_y_pseudo_soft, dim=1)\n",
    "    t_mask = max_probs.ge(0.4).float()\n",
    "    ## For t_logits_us\n",
    "    t_loss_u = torch.mean(\n",
    "                -(t_y_pseudo_soft * torch.log_softmax(t_logits_us, dim=1)).sum(dim=1) * t_mask\n",
    "            )\n",
    "    weight_u = min(1., (log[\"epoch\"] + 1) / 100)\n",
    "    ## Teacher losss from labed data and soft teacher-pseudo label\n",
    "    t_loss_uda = t_loss_l + weight_u * t_loss_u\n",
    "    ## Get student latents\n",
    "    s_logits=student(torch.cat((x_l,x_us)))\n",
    "    s_logits_l, s_logits_us = s_logits.chunk(2)\n",
    "    del s_logits\n",
    "    ## Student loss from hard teacher-pseudo label\n",
    "    s_loss_l_old = criterion(s_logits_l.detach(), y)\n",
    "    s_loss_u = criterion(s_logits_us, t_y_pseudo_hard_uw)\n",
    "    ## Update student (only with teacher-pseudo label)\n",
    "    s_loss_u.backward()\n",
    "    torch.nn.utils.clip_grad_norm_(student.parameters(), 1e-9)\n",
    "    optimizer_s.step()\n",
    "    \n",
    "    \n",
    "    # Train Teacher\n",
    "    ## Get new student logits\n",
    "    with torch.no_grad():\n",
    "        s_logits_l_new = student(x_l)\n",
    "    s_loss_l_new = criterion(s_logits_l_new.detach(), y)\n",
    "    \n",
    "    ## Distance of old, new student loss (for deriving similarity of old, new student gradiet)\n",
    "    loss_distance = s_loss_l_new - s_loss_l_old\n",
    "    ## Get hard teacher-pseudo label for another augmentation\n",
    "    _, t_y_pseudo_hard_us = torch.max(t_logits_us.detach(), dim=1)\n",
    "    ## Weighted loss derived by the hard teacher-pseudo pseudo label\n",
    "    t_loss_mpl = loss_distance * criterion(t_logits_us, t_y_pseudo_hard_us)\n",
    "    t_loss = t_loss_uda + t_loss_mpl\n",
    "    ## Update student (only with teacher-pseudo label)\n",
    "    t_loss.backward()\n",
    "    torch.nn.utils.clip_grad_norm_(teacher.parameters(), 1e-9)\n",
    "    optimizer_t.step()\n",
    "    optimizer_t.zero_grad()\n",
    "    optimizer_s.zero_grad()\n",
    "    \n",
    "    \n",
    "    with torch.no_grad():\n",
    "        acc=calc_acc(pred, y).item()\n",
    "        if i_iter==0:\n",
    "            log['acc'] = acc\n",
    "        else:\n",
    "            log['acc'] = (acc+log['acc']*i_iter)/(i_iter + 1)\n",
    "    # Record\n",
    "    loss_rec = loss.item()\n",
    "    log['loss'] = (loss_rec+log['loss']*i_iter)/(i_iter + 1)\n",
    "    return pred,loss"
   ]
  },
  {
   "cell_type": "code",
   "execution_count": 25,
   "id": "0a5718da",
   "metadata": {},
   "outputs": [
    {
     "name": "stderr",
     "output_type": "stream",
     "text": [
      "15it [00:09,  1.60it/s, epoch=0, step=15, loss=1.69, acc=0.765]\n",
      "15it [00:12,  1.16it/s, epoch=1, step=15, loss=1.69, acc=0.759]\n",
      "3it [00:00, 10.11it/s, epoch=1, step=val, loss=8.4, acc=0.852] \n",
      "15it [00:09,  1.60it/s, epoch=2, step=15, loss=8.28, acc=0.825]\n",
      "15it [00:09,  1.59it/s, epoch=3, step=15, loss=8.28, acc=0.827]\n",
      "3it [00:00,  7.38it/s, epoch=3, step=val, loss=8.58, acc=0.84] \n",
      "15it [00:09,  1.57it/s, epoch=4, step=15, loss=9.48, acc=0.813]\n",
      "15it [00:09,  1.58it/s, epoch=5, step=15, loss=9.48, acc=0.812]\n",
      "3it [00:00, 10.22it/s, epoch=5, step=val, loss=8.74, acc=0.833]\n",
      "15it [00:09,  1.58it/s, epoch=6, step=15, loss=9.63, acc=0.845]\n",
      "15it [00:09,  1.57it/s, epoch=7, step=15, loss=9.63, acc=0.843]\n",
      "3it [00:00,  9.56it/s, epoch=7, step=val, loss=8.71, acc=0.831]\n",
      "15it [00:09,  1.58it/s, epoch=8, step=15, loss=8.35, acc=0.787]\n",
      "15it [00:09,  1.57it/s, epoch=9, step=15, loss=8.35, acc=0.793]\n",
      "3it [00:00, 10.10it/s, epoch=9, step=val, loss=9.1, acc=0.825] \n",
      "15it [00:09,  1.57it/s, epoch=10, step=15, loss=9.09, acc=0.784]\n",
      "15it [00:09,  1.57it/s, epoch=11, step=15, loss=9.09, acc=0.784]\n",
      "3it [00:00,  9.66it/s, epoch=11, step=val, loss=8.77, acc=0.84] \n",
      "15it [00:09,  1.56it/s, epoch=12, step=15, loss=7.37, acc=0.792]\n",
      "15it [00:09,  1.56it/s, epoch=13, step=15, loss=7.37, acc=0.796]\n",
      "3it [00:00,  9.57it/s, epoch=13, step=val, loss=9.15, acc=0.834]\n",
      "15it [00:09,  1.56it/s, epoch=14, step=15, loss=8.67, acc=0.799]\n",
      "15it [00:09,  1.56it/s, epoch=15, step=15, loss=8.67, acc=0.8]  \n",
      "3it [00:00, 10.21it/s, epoch=15, step=val, loss=8.45, acc=0.839]\n",
      "15it [00:09,  1.56it/s, epoch=16, step=15, loss=8.93, acc=0.78] \n",
      "15it [00:09,  1.57it/s, epoch=17, step=15, loss=8.93, acc=0.781]\n",
      "3it [00:00,  9.93it/s, epoch=17, step=val, loss=9.04, acc=0.833]\n",
      "15it [00:09,  1.57it/s, epoch=18, step=15, loss=9.5, acc=0.805]\n",
      "15it [00:09,  1.56it/s, epoch=19, step=15, loss=9.5, acc=0.802]\n",
      "3it [00:00,  8.45it/s, epoch=19, step=val, loss=8.62, acc=0.833]\n",
      "15it [00:09,  1.56it/s, epoch=20, step=15, loss=8.45, acc=0.772]\n",
      "15it [00:09,  1.57it/s, epoch=21, step=15, loss=8.45, acc=0.77] \n",
      "3it [00:00, 10.17it/s, epoch=21, step=val, loss=9.19, acc=0.821]\n",
      "15it [00:09,  1.57it/s, epoch=22, step=15, loss=8.62, acc=0.778]\n",
      "15it [00:09,  1.55it/s, epoch=23, step=15, loss=8.62, acc=0.784]\n",
      "3it [00:00, 10.14it/s, epoch=23, step=val, loss=9.04, acc=0.834]\n",
      "15it [00:09,  1.56it/s, epoch=24, step=15, loss=9.74, acc=0.813]\n",
      "15it [00:09,  1.56it/s, epoch=25, step=15, loss=9.74, acc=0.809]\n",
      "3it [00:00,  9.84it/s, epoch=25, step=val, loss=8.82, acc=0.829]\n",
      "15it [00:09,  1.52it/s, epoch=26, step=15, loss=9.07, acc=0.779]\n",
      "15it [00:09,  1.56it/s, epoch=27, step=15, loss=9.07, acc=0.779]\n",
      "3it [00:00, 10.06it/s, epoch=27, step=val, loss=8.47, acc=0.837]\n",
      "15it [00:09,  1.56it/s, epoch=28, step=15, loss=8.64, acc=0.783]\n",
      "15it [00:09,  1.53it/s, epoch=29, step=15, loss=8.64, acc=0.783]\n",
      "3it [00:00,  9.66it/s, epoch=29, step=val, loss=8.55, acc=0.844]\n",
      "15it [00:09,  1.56it/s, epoch=30, step=15, loss=9.04, acc=0.832]\n",
      "15it [00:09,  1.55it/s, epoch=31, step=15, loss=9.04, acc=0.831]\n",
      "3it [00:00,  9.77it/s, epoch=31, step=val, loss=8.68, acc=0.84] \n",
      "15it [00:09,  1.56it/s, epoch=32, step=15, loss=9.42, acc=0.795]\n",
      "15it [00:09,  1.56it/s, epoch=33, step=15, loss=9.42, acc=0.794]\n",
      "3it [00:00, 10.15it/s, epoch=33, step=val, loss=8.61, acc=0.838]\n",
      "15it [00:09,  1.56it/s, epoch=34, step=15, loss=8.16, acc=0.796]\n",
      "15it [00:09,  1.56it/s, epoch=35, step=15, loss=8.16, acc=0.795]\n",
      "3it [00:00,  9.45it/s, epoch=35, step=val, loss=8.92, acc=0.831]\n",
      "15it [00:09,  1.56it/s, epoch=36, step=15, loss=8.15, acc=0.76] \n",
      "15it [00:09,  1.56it/s, epoch=37, step=15, loss=8.15, acc=0.766]\n",
      "3it [00:00, 10.23it/s, epoch=37, step=val, loss=9.14, acc=0.829]\n",
      "15it [00:09,  1.56it/s, epoch=38, step=15, loss=9.82, acc=0.787]\n",
      "15it [00:09,  1.55it/s, epoch=39, step=15, loss=9.82, acc=0.786]\n",
      "3it [00:00, 10.48it/s, epoch=39, step=val, loss=8.41, acc=0.838]\n",
      "15it [00:09,  1.55it/s, epoch=40, step=15, loss=7.54, acc=0.787]\n",
      "15it [00:09,  1.54it/s, epoch=41, step=15, loss=7.54, acc=0.79] \n",
      "3it [00:00,  9.61it/s, epoch=41, step=val, loss=8.81, acc=0.834]\n",
      "15it [00:09,  1.57it/s, epoch=42, step=15, loss=8.75, acc=0.826]\n",
      "15it [00:09,  1.55it/s, epoch=43, step=15, loss=8.75, acc=0.831]\n",
      "3it [00:00,  9.67it/s, epoch=43, step=val, loss=9.18, acc=0.84] \n",
      "15it [00:09,  1.55it/s, epoch=44, step=15, loss=10.4, acc=0.796]\n",
      "15it [00:09,  1.55it/s, epoch=45, step=15, loss=10.4, acc=0.794]\n",
      "3it [00:00, 10.19it/s, epoch=45, step=val, loss=8.87, acc=0.833]\n",
      "15it [00:09,  1.56it/s, epoch=46, step=15, loss=9.35, acc=0.811]\n",
      "15it [00:09,  1.56it/s, epoch=47, step=15, loss=9.35, acc=0.81] \n",
      "3it [00:00, 10.22it/s, epoch=47, step=val, loss=8.32, acc=0.845]\n",
      "15it [00:09,  1.56it/s, epoch=48, step=15, loss=8.73, acc=0.801]\n",
      "15it [00:09,  1.55it/s, epoch=49, step=15, loss=8.73, acc=0.805]\n",
      "3it [00:00, 10.44it/s, epoch=49, step=val, loss=9.16, acc=0.831]\n",
      "15it [00:09,  1.56it/s, epoch=50, step=15, loss=8.53, acc=0.835]\n",
      "15it [00:09,  1.56it/s, epoch=51, step=15, loss=8.53, acc=0.832]\n",
      "3it [00:00, 10.18it/s, epoch=51, step=val, loss=8.7, acc=0.832] \n",
      "15it [00:09,  1.56it/s, epoch=52, step=15, loss=8.06, acc=0.793]\n",
      "15it [00:09,  1.56it/s, epoch=53, step=15, loss=8.06, acc=0.796]\n",
      "3it [00:00, 10.41it/s, epoch=53, step=val, loss=8.74, acc=0.836]\n",
      "15it [00:09,  1.56it/s, epoch=54, step=15, loss=8.95, acc=0.799]\n",
      "15it [00:09,  1.56it/s, epoch=55, step=15, loss=8.95, acc=0.8]  \n",
      "3it [00:00, 10.37it/s, epoch=55, step=val, loss=8.63, acc=0.836]\n",
      "15it [00:09,  1.56it/s, epoch=56, step=15, loss=10.2, acc=0.827]\n",
      "15it [00:09,  1.55it/s, epoch=57, step=15, loss=10.2, acc=0.833]\n",
      "3it [00:00,  8.59it/s, epoch=57, step=val, loss=8.95, acc=0.836]\n",
      "15it [00:09,  1.56it/s, epoch=58, step=15, loss=8.31, acc=0.826]\n",
      "15it [00:09,  1.55it/s, epoch=59, step=15, loss=8.31, acc=0.819]\n",
      "3it [00:00,  9.33it/s, epoch=59, step=val, loss=8.97, acc=0.833]\n",
      "15it [00:09,  1.56it/s, epoch=60, step=15, loss=8.54, acc=0.817]\n",
      "15it [00:09,  1.56it/s, epoch=61, step=15, loss=8.54, acc=0.82] \n",
      "3it [00:00, 10.36it/s, epoch=61, step=val, loss=9.11, acc=0.833]\n",
      "15it [00:09,  1.56it/s, epoch=62, step=15, loss=9.64, acc=0.806]\n",
      "15it [00:09,  1.56it/s, epoch=63, step=15, loss=9.64, acc=0.81]\n",
      "3it [00:00, 10.17it/s, epoch=63, step=val, loss=8.53, acc=0.836]\n",
      "15it [00:09,  1.56it/s, epoch=64, step=15, loss=8.79, acc=0.787]\n",
      "15it [00:09,  1.56it/s, epoch=65, step=15, loss=8.79, acc=0.791]\n",
      "3it [00:00, 10.22it/s, epoch=65, step=val, loss=8.93, acc=0.832]\n",
      "15it [00:09,  1.56it/s, epoch=66, step=15, loss=10.2, acc=0.807]\n",
      "15it [00:09,  1.55it/s, epoch=67, step=15, loss=10.2, acc=0.811]\n",
      "3it [00:00, 10.11it/s, epoch=67, step=val, loss=8.71, acc=0.831]\n",
      "15it [00:09,  1.56it/s, epoch=68, step=15, loss=7.33, acc=0.785]\n",
      "15it [00:09,  1.56it/s, epoch=69, step=15, loss=7.33, acc=0.785]\n",
      "3it [00:00,  6.21it/s, epoch=69, step=val, loss=8.47, acc=0.839]\n",
      "15it [00:09,  1.55it/s, epoch=70, step=15, loss=7.92, acc=0.799]\n",
      "15it [00:09,  1.56it/s, epoch=71, step=15, loss=7.92, acc=0.797]\n",
      "3it [00:00,  8.14it/s, epoch=71, step=val, loss=9.21, acc=0.828]\n",
      "15it [00:09,  1.56it/s, epoch=72, step=15, loss=8.68, acc=0.821]\n",
      "15it [00:09,  1.56it/s, epoch=73, step=15, loss=8.68, acc=0.815]\n",
      "3it [00:00, 10.22it/s, epoch=73, step=val, loss=8.78, acc=0.838]\n",
      "15it [00:09,  1.56it/s, epoch=74, step=15, loss=7.47, acc=0.814]\n",
      "15it [00:09,  1.56it/s, epoch=75, step=15, loss=7.47, acc=0.809]\n",
      "3it [00:00,  7.53it/s, epoch=75, step=val, loss=8.65, acc=0.834]\n",
      "15it [00:09,  1.56it/s, epoch=76, step=15, loss=7.05, acc=0.78] \n",
      "15it [00:09,  1.56it/s, epoch=77, step=15, loss=7.05, acc=0.779]\n",
      "3it [00:00,  9.80it/s, epoch=77, step=val, loss=8.23, acc=0.84] \n",
      "15it [00:09,  1.56it/s, epoch=78, step=15, loss=8.22, acc=0.794]\n",
      "15it [00:09,  1.55it/s, epoch=79, step=15, loss=8.22, acc=0.799]\n",
      "3it [00:00,  9.78it/s, epoch=79, step=val, loss=8.2, acc=0.843] \n",
      "15it [00:09,  1.56it/s, epoch=80, step=15, loss=7.54, acc=0.794]\n",
      "15it [00:09,  1.56it/s, epoch=81, step=15, loss=7.54, acc=0.793]\n",
      "3it [00:00, 10.63it/s, epoch=81, step=val, loss=8.98, acc=0.829]\n",
      "15it [00:09,  1.56it/s, epoch=82, step=15, loss=8.26, acc=0.805]\n",
      "15it [00:09,  1.55it/s, epoch=83, step=15, loss=8.26, acc=0.807]\n",
      "3it [00:00, 10.33it/s, epoch=83, step=val, loss=8.74, acc=0.831]\n",
      "15it [00:09,  1.56it/s, epoch=84, step=15, loss=8.45, acc=0.795]\n",
      "15it [00:09,  1.56it/s, epoch=85, step=15, loss=8.45, acc=0.795]\n",
      "3it [00:00, 10.23it/s, epoch=85, step=val, loss=8.26, acc=0.84] \n",
      "15it [00:09,  1.56it/s, epoch=86, step=15, loss=8.12, acc=0.786]\n",
      "15it [00:09,  1.56it/s, epoch=87, step=15, loss=8.12, acc=0.79] \n",
      "3it [00:00,  8.77it/s, epoch=87, step=val, loss=8.57, acc=0.833]\n",
      "15it [00:09,  1.56it/s, epoch=88, step=15, loss=9.2, acc=0.83] \n",
      "15it [00:09,  1.56it/s, epoch=89, step=15, loss=9.2, acc=0.824]\n",
      "3it [00:00,  9.19it/s, epoch=89, step=val, loss=8.53, acc=0.833]\n",
      "15it [00:09,  1.56it/s, epoch=90, step=15, loss=8.86, acc=0.817]\n",
      "15it [00:09,  1.56it/s, epoch=91, step=15, loss=8.86, acc=0.822]\n",
      "3it [00:00,  6.86it/s, epoch=91, step=val, loss=8.25, acc=0.844]\n",
      "15it [00:09,  1.56it/s, epoch=92, step=15, loss=8.61, acc=0.801]\n",
      "15it [00:09,  1.56it/s, epoch=93, step=15, loss=8.61, acc=0.801]\n",
      "3it [00:00, 10.23it/s, epoch=93, step=val, loss=8.71, acc=0.841]\n",
      "15it [00:09,  1.56it/s, epoch=94, step=15, loss=8.71, acc=0.797]\n",
      "15it [00:09,  1.55it/s, epoch=95, step=15, loss=8.71, acc=0.798]\n",
      "3it [00:00,  8.36it/s, epoch=95, step=val, loss=8.93, acc=0.841]\n",
      "15it [00:09,  1.56it/s, epoch=96, step=15, loss=9.07, acc=0.822]\n",
      "15it [00:09,  1.56it/s, epoch=97, step=15, loss=9.07, acc=0.825]\n",
      "3it [00:00,  9.90it/s, epoch=97, step=val, loss=9.06, acc=0.827]\n",
      "15it [00:09,  1.56it/s, epoch=98, step=15, loss=9.36, acc=0.812]\n",
      "15it [00:09,  1.55it/s, epoch=99, step=15, loss=9.36, acc=0.811]\n",
      "3it [00:00,  6.99it/s, epoch=99, step=val, loss=8.96, acc=0.835]\n",
      "15it [00:09,  1.56it/s, epoch=100, step=15, loss=9.36, acc=0.798]\n",
      "15it [00:09,  1.56it/s, epoch=101, step=15, loss=9.36, acc=0.8]  \n",
      "3it [00:00,  8.69it/s, epoch=101, step=val, loss=8.98, acc=0.832]\n",
      "15it [00:09,  1.56it/s, epoch=102, step=15, loss=9.35, acc=0.809]\n",
      "15it [00:09,  1.56it/s, epoch=103, step=15, loss=9.35, acc=0.816]\n",
      "3it [00:00,  9.56it/s, epoch=103, step=val, loss=8.89, acc=0.834]\n",
      "15it [00:09,  1.56it/s, epoch=104, step=15, loss=9.51, acc=0.803]\n",
      "15it [00:09,  1.56it/s, epoch=105, step=15, loss=9.51, acc=0.8]  \n",
      "3it [00:00, 10.15it/s, epoch=105, step=val, loss=8.88, acc=0.835]\n",
      "15it [00:09,  1.56it/s, epoch=106, step=15, loss=8.97, acc=0.793]\n",
      "15it [00:09,  1.56it/s, epoch=107, step=15, loss=8.97, acc=0.796]\n",
      "3it [00:00, 10.16it/s, epoch=107, step=val, loss=8.46, acc=0.838]\n",
      "15it [00:09,  1.56it/s, epoch=108, step=15, loss=9.46, acc=0.787]\n",
      "15it [00:09,  1.56it/s, epoch=109, step=15, loss=9.46, acc=0.788]\n",
      "3it [00:00, 10.01it/s, epoch=109, step=val, loss=8.88, acc=0.832]\n",
      "15it [00:09,  1.56it/s, epoch=110, step=15, loss=7.55, acc=0.799]\n",
      "15it [00:09,  1.55it/s, epoch=111, step=15, loss=7.55, acc=0.803]\n",
      "3it [00:00, 10.37it/s, epoch=111, step=val, loss=8.89, acc=0.836]\n",
      "15it [00:09,  1.56it/s, epoch=112, step=15, loss=9.6, acc=0.816]\n",
      "15it [00:09,  1.56it/s, epoch=113, step=15, loss=9.6, acc=0.816]\n",
      "3it [00:00, 10.27it/s, epoch=113, step=val, loss=8.53, acc=0.835]\n",
      "15it [00:09,  1.56it/s, epoch=114, step=15, loss=8.16, acc=0.788]\n",
      "15it [00:09,  1.55it/s, epoch=115, step=15, loss=8.16, acc=0.791]\n",
      "3it [00:00, 10.17it/s, epoch=115, step=val, loss=8.9, acc=0.841] \n",
      "15it [00:09,  1.55it/s, epoch=116, step=15, loss=9.29, acc=0.822]\n",
      "15it [00:09,  1.55it/s, epoch=117, step=15, loss=9.29, acc=0.82] \n",
      "3it [00:00, 10.38it/s, epoch=117, step=val, loss=8.92, acc=0.832]\n",
      "15it [00:09,  1.56it/s, epoch=118, step=15, loss=8.95, acc=0.809]\n",
      "15it [00:09,  1.56it/s, epoch=119, step=15, loss=8.95, acc=0.805]\n",
      "3it [00:00, 10.24it/s, epoch=119, step=val, loss=8.95, acc=0.837]\n",
      "15it [00:09,  1.56it/s, epoch=120, step=15, loss=9.92, acc=0.792]\n",
      "15it [00:09,  1.56it/s, epoch=121, step=15, loss=9.92, acc=0.787]\n",
      "3it [00:00, 10.45it/s, epoch=121, step=val, loss=8.29, acc=0.839]\n",
      "15it [00:09,  1.56it/s, epoch=122, step=15, loss=8.35, acc=0.813]\n",
      "15it [00:09,  1.55it/s, epoch=123, step=15, loss=8.35, acc=0.81] \n",
      "3it [00:00,  8.48it/s, epoch=123, step=val, loss=8.88, acc=0.829]\n",
      "15it [00:09,  1.56it/s, epoch=124, step=15, loss=10.4, acc=0.818]\n",
      "15it [00:09,  1.56it/s, epoch=125, step=15, loss=10.4, acc=0.819]\n",
      "3it [00:00, 10.43it/s, epoch=125, step=val, loss=9.19, acc=0.837]\n",
      "15it [00:09,  1.56it/s, epoch=126, step=15, loss=8.83, acc=0.804]\n",
      "15it [00:09,  1.56it/s, epoch=127, step=15, loss=8.83, acc=0.802]\n",
      "3it [00:00, 10.53it/s, epoch=127, step=val, loss=8.63, acc=0.838]\n",
      "15it [00:09,  1.56it/s, epoch=128, step=15, loss=9.11, acc=0.789]\n",
      "15it [00:09,  1.55it/s, epoch=129, step=15, loss=9.11, acc=0.788]\n",
      "3it [00:00, 10.10it/s, epoch=129, step=val, loss=8.64, acc=0.834]\n",
      "15it [00:09,  1.56it/s, epoch=130, step=15, loss=10.4, acc=0.797]\n",
      "15it [00:09,  1.55it/s, epoch=131, step=15, loss=10.4, acc=0.801]\n",
      "3it [00:00, 10.24it/s, epoch=131, step=val, loss=8.96, acc=0.837]\n",
      "15it [00:09,  1.56it/s, epoch=132, step=15, loss=8.29, acc=0.806]\n",
      "15it [00:09,  1.56it/s, epoch=133, step=15, loss=8.29, acc=0.796]\n",
      "3it [00:00,  9.73it/s, epoch=133, step=val, loss=8.7, acc=0.832] \n",
      "15it [00:09,  1.56it/s, epoch=134, step=15, loss=8.96, acc=0.801]\n",
      "15it [00:09,  1.56it/s, epoch=135, step=15, loss=8.96, acc=0.803]\n",
      "3it [00:00, 10.19it/s, epoch=135, step=val, loss=8.58, acc=0.839]\n",
      "15it [00:09,  1.56it/s, epoch=136, step=15, loss=8.38, acc=0.813]\n",
      "15it [00:09,  1.53it/s, epoch=137, step=15, loss=8.38, acc=0.811]\n",
      "3it [00:00, 10.29it/s, epoch=137, step=val, loss=8.52, acc=0.844]\n",
      "15it [00:09,  1.56it/s, epoch=138, step=15, loss=8.82, acc=0.816]\n",
      "15it [00:09,  1.56it/s, epoch=139, step=15, loss=8.82, acc=0.815]\n",
      "3it [00:00, 10.25it/s, epoch=139, step=val, loss=8.77, acc=0.837]\n",
      "15it [00:09,  1.56it/s, epoch=140, step=15, loss=9.75, acc=0.819]\n",
      "15it [00:09,  1.56it/s, epoch=141, step=15, loss=9.75, acc=0.815]\n",
      "3it [00:00, 10.23it/s, epoch=141, step=val, loss=8.97, acc=0.835]\n",
      "15it [00:09,  1.56it/s, epoch=142, step=15, loss=9.1, acc=0.806]\n",
      "15it [00:09,  1.55it/s, epoch=143, step=15, loss=9.1, acc=0.811]\n",
      "3it [00:00, 10.24it/s, epoch=143, step=val, loss=8.86, acc=0.832]\n",
      "15it [00:09,  1.56it/s, epoch=144, step=15, loss=8.56, acc=0.807]\n",
      "15it [00:09,  1.56it/s, epoch=145, step=15, loss=8.56, acc=0.805]\n",
      "3it [00:00, 10.58it/s, epoch=145, step=val, loss=8.64, acc=0.832]\n",
      "15it [00:09,  1.56it/s, epoch=146, step=15, loss=8.49, acc=0.825]\n",
      "15it [00:09,  1.56it/s, epoch=147, step=15, loss=8.49, acc=0.824]\n",
      "3it [00:00, 10.05it/s, epoch=147, step=val, loss=9.02, acc=0.835]\n",
      "15it [00:09,  1.56it/s, epoch=148, step=15, loss=8.97, acc=0.815]\n",
      "15it [00:09,  1.53it/s, epoch=149, step=15, loss=8.97, acc=0.812]\n",
      "3it [00:00,  8.14it/s, epoch=149, step=val, loss=9.25, acc=0.827]\n",
      "15it [00:09,  1.56it/s, epoch=150, step=15, loss=7.84, acc=0.776]\n",
      "15it [00:09,  1.56it/s, epoch=151, step=15, loss=7.84, acc=0.779]\n",
      "3it [00:00,  9.97it/s, epoch=151, step=val, loss=8.88, acc=0.831]\n",
      "15it [00:09,  1.56it/s, epoch=152, step=15, loss=9.05, acc=0.793]\n",
      "15it [00:09,  1.56it/s, epoch=153, step=15, loss=9.05, acc=0.79] \n",
      "3it [00:00,  9.92it/s, epoch=153, step=val, loss=8.83, acc=0.841]\n",
      "15it [00:09,  1.57it/s, epoch=154, step=15, loss=9.16, acc=0.824]\n",
      "15it [00:09,  1.56it/s, epoch=155, step=15, loss=9.16, acc=0.821]\n",
      "3it [00:00,  9.39it/s, epoch=155, step=val, loss=8.89, acc=0.837]\n",
      "15it [00:09,  1.57it/s, epoch=156, step=15, loss=8.26, acc=0.82] \n",
      "15it [00:09,  1.56it/s, epoch=157, step=15, loss=8.26, acc=0.817]\n",
      "3it [00:00, 10.49it/s, epoch=157, step=val, loss=8.79, acc=0.839]\n",
      "15it [00:09,  1.56it/s, epoch=158, step=15, loss=8.42, acc=0.793]\n",
      "15it [00:09,  1.56it/s, epoch=159, step=15, loss=8.42, acc=0.79] \n",
      "3it [00:00, 10.30it/s, epoch=159, step=val, loss=8.36, acc=0.842]\n",
      "15it [00:09,  1.56it/s, epoch=160, step=15, loss=7.7, acc=0.794]\n",
      "15it [00:09,  1.57it/s, epoch=161, step=15, loss=7.7, acc=0.792]\n",
      "3it [00:00, 10.34it/s, epoch=161, step=val, loss=8.56, acc=0.841]\n",
      "15it [00:09,  1.57it/s, epoch=162, step=15, loss=8.16, acc=0.811]\n",
      "15it [00:09,  1.56it/s, epoch=163, step=15, loss=8.16, acc=0.812]\n",
      "3it [00:00,  9.69it/s, epoch=163, step=val, loss=8.16, acc=0.84] \n",
      "15it [00:09,  1.57it/s, epoch=164, step=15, loss=7.64, acc=0.802]\n",
      "15it [00:09,  1.56it/s, epoch=165, step=15, loss=7.64, acc=0.802]\n",
      "3it [00:00,  9.49it/s, epoch=165, step=val, loss=8.57, acc=0.836]\n",
      "15it [00:09,  1.57it/s, epoch=166, step=15, loss=8.01, acc=0.812]\n",
      "15it [00:09,  1.56it/s, epoch=167, step=15, loss=8.01, acc=0.813]\n",
      "3it [00:00, 10.14it/s, epoch=167, step=val, loss=8.74, acc=0.835]\n",
      "15it [00:09,  1.56it/s, epoch=168, step=15, loss=8.59, acc=0.795]\n",
      "15it [00:09,  1.56it/s, epoch=169, step=15, loss=8.59, acc=0.795]\n",
      "3it [00:00, 10.59it/s, epoch=169, step=val, loss=8.74, acc=0.836]\n",
      "15it [00:09,  1.56it/s, epoch=170, step=15, loss=8.42, acc=0.796]\n",
      "15it [00:09,  1.56it/s, epoch=171, step=15, loss=8.42, acc=0.795]\n",
      "3it [00:00,  9.95it/s, epoch=171, step=val, loss=8.58, acc=0.837]\n",
      "15it [00:09,  1.57it/s, epoch=172, step=15, loss=8.83, acc=0.787]\n",
      "15it [00:09,  1.56it/s, epoch=173, step=15, loss=8.83, acc=0.788]\n",
      "3it [00:00, 10.34it/s, epoch=173, step=val, loss=8.57, acc=0.837]\n",
      "15it [00:09,  1.57it/s, epoch=174, step=15, loss=8.46, acc=0.795]\n",
      "15it [00:09,  1.56it/s, epoch=175, step=15, loss=8.46, acc=0.796]\n",
      "3it [00:00,  9.41it/s, epoch=175, step=val, loss=8.39, acc=0.846]\n",
      "15it [00:09,  1.56it/s, epoch=176, step=15, loss=8.56, acc=0.817]\n",
      "15it [00:09,  1.56it/s, epoch=177, step=15, loss=8.56, acc=0.817]\n",
      "3it [00:00, 10.45it/s, epoch=177, step=val, loss=9.1, acc=0.828]\n",
      "15it [00:09,  1.57it/s, epoch=178, step=15, loss=9.5, acc=0.806]\n",
      "15it [00:09,  1.56it/s, epoch=179, step=15, loss=9.5, acc=0.804]\n",
      "3it [00:00,  9.27it/s, epoch=179, step=val, loss=8.76, acc=0.835]\n",
      "15it [00:09,  1.56it/s, epoch=180, step=15, loss=8.51, acc=0.801]\n",
      "15it [00:09,  1.56it/s, epoch=181, step=15, loss=8.51, acc=0.799]\n",
      "3it [00:00,  8.47it/s, epoch=181, step=val, loss=8.8, acc=0.843] \n",
      "15it [00:09,  1.56it/s, epoch=182, step=15, loss=7.35, acc=0.783]\n",
      "15it [00:09,  1.56it/s, epoch=183, step=15, loss=7.35, acc=0.785]\n",
      "3it [00:00,  9.76it/s, epoch=183, step=val, loss=9.19, acc=0.828]\n",
      "15it [00:09,  1.56it/s, epoch=184, step=15, loss=8.03, acc=0.804]\n",
      "15it [00:09,  1.56it/s, epoch=185, step=15, loss=8.03, acc=0.807]\n",
      "3it [00:00, 10.02it/s, epoch=185, step=val, loss=8.86, acc=0.832]\n",
      "15it [00:09,  1.57it/s, epoch=186, step=15, loss=7.91, acc=0.758]\n",
      "15it [00:09,  1.57it/s, epoch=187, step=15, loss=7.91, acc=0.76] \n",
      "3it [00:00, 10.11it/s, epoch=187, step=val, loss=8.6, acc=0.835] \n",
      "15it [00:09,  1.57it/s, epoch=188, step=15, loss=10.4, acc=0.781]\n",
      "15it [00:09,  1.57it/s, epoch=189, step=15, loss=10.4, acc=0.786]\n",
      "3it [00:00, 10.07it/s, epoch=189, step=val, loss=8.72, acc=0.824]\n",
      "15it [00:09,  1.56it/s, epoch=190, step=15, loss=9.72, acc=0.789]\n",
      "15it [00:09,  1.55it/s, epoch=191, step=15, loss=9.72, acc=0.784]\n",
      "3it [00:00, 10.39it/s, epoch=191, step=val, loss=9.02, acc=0.835]\n",
      "15it [00:09,  1.56it/s, epoch=192, step=15, loss=10.2, acc=0.791]\n",
      "15it [00:09,  1.56it/s, epoch=193, step=15, loss=10.2, acc=0.795]\n",
      "3it [00:00, 10.13it/s, epoch=193, step=val, loss=8.73, acc=0.836]\n",
      "15it [00:09,  1.56it/s, epoch=194, step=15, loss=7.94, acc=0.809]\n",
      "15it [00:09,  1.56it/s, epoch=195, step=15, loss=7.94, acc=0.81] \n",
      "3it [00:00,  7.98it/s, epoch=195, step=val, loss=8.58, acc=0.844]\n",
      "15it [00:09,  1.57it/s, epoch=196, step=15, loss=8.31, acc=0.826]\n",
      "15it [00:09,  1.56it/s, epoch=197, step=15, loss=8.31, acc=0.827]\n",
      "3it [00:00,  9.66it/s, epoch=197, step=val, loss=8.86, acc=0.841]\n",
      "15it [00:09,  1.57it/s, epoch=198, step=15, loss=10.6, acc=0.817]\n",
      "15it [00:09,  1.56it/s, epoch=199, step=15, loss=10.6, acc=0.815]\n",
      "3it [00:00,  9.95it/s, epoch=199, step=val, loss=8.7, acc=0.839] \n",
      "15it [00:09,  1.56it/s, epoch=200, step=15, loss=8.94, acc=0.81] \n",
      "15it [00:09,  1.56it/s, epoch=201, step=15, loss=8.94, acc=0.811]\n",
      "3it [00:00,  9.11it/s, epoch=201, step=val, loss=8.84, acc=0.833]\n",
      "15it [00:09,  1.56it/s, epoch=202, step=15, loss=9.02, acc=0.803]\n",
      "15it [00:09,  1.56it/s, epoch=203, step=15, loss=9.02, acc=0.804]\n",
      "3it [00:00,  8.22it/s, epoch=203, step=val, loss=8.77, acc=0.835]\n",
      "15it [00:09,  1.56it/s, epoch=204, step=15, loss=8.84, acc=0.791]\n",
      "15it [00:09,  1.56it/s, epoch=205, step=15, loss=8.84, acc=0.79] \n",
      "3it [00:00,  9.77it/s, epoch=205, step=val, loss=9.12, acc=0.835]\n",
      "15it [00:09,  1.56it/s, epoch=206, step=15, loss=7.79, acc=0.787]\n",
      "15it [00:09,  1.56it/s, epoch=207, step=15, loss=7.79, acc=0.79] \n",
      "3it [00:00,  8.92it/s, epoch=207, step=val, loss=9.22, acc=0.832]\n",
      "15it [00:09,  1.57it/s, epoch=208, step=15, loss=9.36, acc=0.802]\n",
      "15it [00:09,  1.55it/s, epoch=209, step=15, loss=9.36, acc=0.803]\n",
      "3it [00:00, 10.37it/s, epoch=209, step=val, loss=8.79, acc=0.832]\n",
      "15it [00:09,  1.57it/s, epoch=210, step=15, loss=8.27, acc=0.787]\n",
      "15it [00:09,  1.55it/s, epoch=211, step=15, loss=8.27, acc=0.788]\n",
      "3it [00:00,  9.67it/s, epoch=211, step=val, loss=8.44, acc=0.838]\n",
      "15it [00:09,  1.56it/s, epoch=212, step=15, loss=8.4, acc=0.813]\n",
      "15it [00:09,  1.56it/s, epoch=213, step=15, loss=8.4, acc=0.804]\n",
      "3it [00:00,  9.28it/s, epoch=213, step=val, loss=8.68, acc=0.834]\n"
     ]
    }
   ],
   "source": [
    "from tqdm import tqdm\n",
    "from torch.cuda import amp\n",
    "\n",
    "EPOCH=1000\n",
    "teacher.train()\n",
    "best_loss=np.inf\n",
    "PAITIENCE=100\n",
    "count=0\n",
    "try:\n",
    "    with amp.autocast():\n",
    "        for e in range(EPOCH):\n",
    "            log= {'epoch':e,'step':0,'loss': 0, 'acc': 0}\n",
    "            teacher.train()\n",
    "            MRI_ds.training=True\n",
    "            session=tqdm(enumerate(zip(MRI_loader,MRI_nonLabel_loader)))\n",
    "            for i_iter, sample_batched in session:\n",
    "\n",
    "                labeled_batch,nonlabeled_batch=sample_batched\n",
    "                pred,loss=one_batch_pseudo_label(i_iter,\n",
    "                                                 log,\n",
    "                                                 labeled_batch,nonlabeled_batch,\n",
    "                                                 teacher,student,\n",
    "                                                 criterion_mri,\n",
    "                                                 optimizer_t,optimizer_s)\n",
    "                # print loss and take snapshots\n",
    "                if (i_iter + 1) % 5 == 0:\n",
    "                    log['step']=i_iter+1\n",
    "                    session.set_postfix(log)\n",
    "            # validate\n",
    "            if (e + 1) % 2 == 0:\n",
    "                log = {'epoch':e,'step':'val','loss': 0, 'acc': 0}\n",
    "                teacher.eval()\n",
    "                MRI_ds.training=False\n",
    "                session=tqdm(enumerate(MRI_loader))\n",
    "                with torch.no_grad():\n",
    "                    for i_iter,sample_batched in session:\n",
    "                        pred,loss=one_batch(i_iter,log,sample_batched,teacher,criterion_mri,optimizer_t)\n",
    "                        session.set_postfix(log)\n",
    "\n",
    "                # early stop        \n",
    "                if log[\"loss\"]<best_loss:\n",
    "                    best_loss=log[\"loss\"]\n",
    "                    torch.save(teacher.state_dict(), 'snapshots/unet_arc_mri_best.pth')\n",
    "                elif count<=PAITIENCE: count+=1\n",
    "                else:\n",
    "                    count=0\n",
    "                    best_loss=np.inf\n",
    "                    break \n",
    "            \n",
    "except KeyboardInterrupt:\n",
    "    print(\"\\nHuman Interrupted\")\n",
    "torch.save(teacher.state_dict(), 'snapshots/unet_arc_mri_latest.pth')"
   ]
  },
  {
   "cell_type": "code",
   "execution_count": 20,
   "id": "a23d55b0",
   "metadata": {},
   "outputs": [
    {
     "data": {
      "text/plain": [
       "<All keys matched successfully>"
      ]
     },
     "execution_count": 20,
     "metadata": {},
     "output_type": "execute_result"
    }
   ],
   "source": [
    "teacher.load_state_dict(torch.load(\"snapshots/unet_arc_mri_best.pth\"))"
   ]
  },
  {
   "cell_type": "code",
   "execution_count": 42,
   "id": "c641c25a",
   "metadata": {},
   "outputs": [
    {
     "name": "stderr",
     "output_type": "stream",
     "text": [
      "0it [00:00, ?it/s, epoch=1, step=val, loss=2.7, acc=0.988]\n"
     ]
    }
   ],
   "source": [
    "teacher.eval()\n",
    "MRI_ds.training=False\n",
    "session=tqdm(enumerate(MRI_loader))\n",
    "with torch.no_grad():\n",
    "    log = {'epoch':1,'step':'val','loss': 0, 'acc': 0}\n",
    "    for i_iter,sample_batched in session:\n",
    "        pred,loss=one_batch(i_iter,log,sample_batched,teacher,criterion_mri,optimizer_t)\n",
    "        session.set_postfix(log)\n",
    "        break"
   ]
  },
  {
   "cell_type": "code",
   "execution_count": 43,
   "id": "1724c4d9",
   "metadata": {},
   "outputs": [
    {
     "name": "stdout",
     "output_type": "stream",
     "text": [
      "BATCHSIZE= 8\n",
      "(8, 256, 256) \n",
      " (8, 256, 256)\n"
     ]
    },
    {
     "data": {
      "image/png": "[encoded data removed]",
      "text/plain": [
       "<Figure size 576x144 with 16 Axes>"
      ]
     },
     "metadata": {
      "needs_background": "light"
     },
     "output_type": "display_data"
    }
   ],
   "source": [
    "show_image_annot((pred.cpu().detach()[:,2]>=0.5).numpy(),\n",
    "# show_image_annot((pred.cpu().detach().argmax(1)).numpy(),\n",
    "                 (sample_batched[1]==2).cpu().detach().numpy(),\n",
    "                 showPics=8, vmax=1)"
   ]
  },
  {
   "cell_type": "code",
   "execution_count": 44,
   "id": "9e836c60",
   "metadata": {},
   "outputs": [
    {
     "data": {
      "text/plain": [
       "{0, 1, 2}"
      ]
     },
     "execution_count": 44,
     "metadata": {},
     "output_type": "execute_result"
    }
   ],
   "source": [
    "set(sample_batched[1].flatten().numpy())"
   ]
  },
  {
   "cell_type": "code",
   "execution_count": 45,
   "id": "cad2f9b8",
   "metadata": {},
   "outputs": [
    {
     "name": "stdout",
     "output_type": "stream",
     "text": [
      "loading annotations into memory...\n",
      "Done (t=0.00s)\n",
      "creating index...\n",
      "index created!\n"
     ]
    }
   ],
   "source": [
    "ds_kwargs=dict(\n",
    "    transform=transform,\n",
    "    test_transform=None,\n",
    "    test_split=None\n",
    "    )\n",
    "MRI_ds=CTMRI_MultiClassDataset(MRI_anno_file,MRI_root_dir,**ds_kwargs)\n",
    "MRI_loader=tud.DataLoader(MRI_ds,**ldr_kwargs)"
   ]
  },
  {
   "cell_type": "code",
   "execution_count": 26,
   "id": "960d9295",
   "metadata": {},
   "outputs": [
    {
     "name": "stderr",
     "output_type": "stream",
     "text": [
      "19it [00:02,  7.23it/s, epoch=0, step=15, loss=2.86, acc=0.982]\n",
      "19it [00:02,  7.38it/s, epoch=1, step=15, loss=2.81, acc=0.984]\n",
      "19it [00:02,  7.40it/s, epoch=2, step=15, loss=2.82, acc=0.983]\n"
     ]
    }
   ],
   "source": [
    "teacher.train()\n",
    "MRI_ds.training=True\n",
    "for e in range(3):\n",
    "    log= {'epoch':e,'step':0,'loss': 0, 'acc': 0}\n",
    "    session=tqdm(enumerate(MRI_loader))\n",
    "    for i_iter, sample_batched in session:\n",
    "        pred,loss=one_batch(i_iter,log,sample_batched,teacher,criterion_mri,optimizer_t)\n",
    "        # print loss and take snapshots\n",
    "        if (i_iter + 1) % 5 == 0:\n",
    "            log['step']=i_iter+1\n",
    "            session.set_postfix(log)"
   ]
  },
  {
   "cell_type": "code",
   "execution_count": 46,
   "id": "325add62",
   "metadata": {},
   "outputs": [
    {
     "name": "stdout",
     "output_type": "stream",
     "text": [
      "loading annotations into memory...\n",
      "Done (t=0.00s)\n",
      "creating index...\n",
      "index created!\n"
     ]
    }
   ],
   "source": [
    "from dataloaders.ctmri_multiclass import CTMRI_InferenceDataset\n",
    "ds_kwargs=dict(\n",
    "    transform=test_transform,\n",
    "    test_split=None\n",
    "    )\n",
    "ldr_kwargs=dict(\n",
    "    batch_size=8,\n",
    "    shuffle=False,\n",
    "    pin_memory=False,\n",
    "    num_workers=2\n",
    ")\n",
    "test_root_dir=join(DATA_ROOT,\"testset\")\n",
    "test_anno_file=join(DATA_ROOT,\"testset\",\"annotations/annotations_gt.json\")\n",
    "test_ds=CTMRI_MultiClassDataset(test_anno_file,test_root_dir,**ds_kwargs)\n",
    "# test_ds=CTMRI_InferenceDataset(test_anno_file,test_root_dir,test_transform=test_transform)\n",
    "test_loader=tud.DataLoader(test_ds,**ldr_kwargs)"
   ]
  },
  {
   "cell_type": "code",
   "execution_count": 47,
   "id": "7f8b5ef4",
   "metadata": {},
   "outputs": [
    {
     "name": "stderr",
     "output_type": "stream",
     "text": [
      "0it [00:01, ?it/s, epoch=1, step=val, loss=8.65, acc=0.741]\n"
     ]
    }
   ],
   "source": [
    "teacher.eval()\n",
    "test_ds.training=True\n",
    "session=tqdm(enumerate(test_loader))\n",
    "with torch.no_grad():\n",
    "    for i_iter,sample_batched in session:\n",
    "        pred,loss=one_batch(i_iter,log,sample_batched,teacher,criterion_mri,optimizer_t)\n",
    "        session.set_postfix(log)\n",
    "        break"
   ]
  },
  {
   "cell_type": "code",
   "execution_count": 48,
   "id": "672ddd07",
   "metadata": {},
   "outputs": [
    {
     "name": "stdout",
     "output_type": "stream",
     "text": [
      "loading annotations into memory...\n",
      "Done (t=0.00s)\n",
      "creating index...\n",
      "index created!\n"
     ]
    }
   ],
   "source": [
    "test_ds=CTMRI_InferenceDataset(test_anno_file,test_root_dir,test_transform=test_transform)\n",
    "test_loader=tud.DataLoader(test_ds,**ldr_kwargs)\n",
    "teacher.eval()\n",
    "pred=[]\n",
    "with torch.no_grad():\n",
    "    for xx in test_loader:\n",
    "        pred.append(teacher(xx.cuda()))\n",
    "pred=torch.cat(pred)"
   ]
  },
  {
   "cell_type": "code",
   "execution_count": 49,
   "id": "660ec1fb",
   "metadata": {},
   "outputs": [],
   "source": [
    "predictions=pred.cpu().detach().numpy()"
   ]
  },
  {
   "cell_type": "code",
   "execution_count": 50,
   "id": "443a3f28",
   "metadata": {},
   "outputs": [],
   "source": [
    "np.savez(\"prediction.npz\",predictions)"
   ]
  },
  {
   "cell_type": "code",
   "execution_count": 51,
   "id": "b6b44f69",
   "metadata": {},
   "outputs": [],
   "source": [
    "def mask2rle(img):\n",
    "    \"\"\"\n",
    "    img: numpy array, 1 - mask, 0 - background\n",
    "    Returns run length as string formatted\n",
    "    \"\"\"\n",
    "    pixels = img.flatten()\n",
    "    pixels = np.concatenate([[0], pixels, [0]])\n",
    "    runs = np.where(pixels[1:] != pixels[:-1])[0] + 1\n",
    "    runs[1::2] -= runs[::2]\n",
    "    return ' '.join(str(x) for x in runs)\n",
    "output=[*map(mask2rle,(predictions.argmax(1)==2).astype(\"int8\"))]\n",
    "# output=[*map(mask2rle,(predictions[:,2]>0.5).astype(\"int8\"))]"
   ]
  },
  {
   "cell_type": "code",
   "execution_count": 52,
   "id": "e70292fd",
   "metadata": {},
   "outputs": [],
   "source": [
    "import pandas as pd\n",
    "df=pd.read_csv(\"sample_submission.csv\")\n",
    "df[\"rle\"]=output\n",
    "df.to_csv(\"submission_pretrain_plabel_argmax.csv\",index=False)"
   ]
  },
  {
   "cell_type": "code",
   "execution_count": null,
   "id": "ced02e51",
   "metadata": {},
   "outputs": [],
   "source": []
  }
 ],
 "metadata": {
  "kernelspec": {
   "display_name": "Python 3 (ipykernel)",
   "language": "python",
   "name": "python3"
  },
  "language_info": {
   "codemirror_mode": {
    "name": "ipython",
    "version": 3
   },
   "file_extension": ".py",
   "mimetype": "text/x-python",
   "name": "python",
   "nbconvert_exporter": "python",
   "pygments_lexer": "ipython3",
   "version": "3.7.10"
  }
 },
 "nbformat": 4,
 "nbformat_minor": 5
}
