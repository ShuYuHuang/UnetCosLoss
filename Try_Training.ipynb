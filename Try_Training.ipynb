{
 "cells": [
  {
   "cell_type": "code",
   "execution_count": 2,
   "id": "4caff282",
   "metadata": {},
   "outputs": [],
   "source": [
    "!pip install -q -r requirements.txt"
   ]
  },
  {
   "cell_type": "code",
   "execution_count": null,
   "id": "cdc7b6c5",
   "metadata": {},
   "outputs": [],
   "source": [
    "# !pip uninstall -y opencv-python-headless\n",
    "# !pip install opencv-python-headless==4.1.2.30"
   ]
  },
  {
   "cell_type": "markdown",
   "id": "b3ec113b",
   "metadata": {},
   "source": [
    "## Data Loading"
   ]
  },
  {
   "cell_type": "code",
   "execution_count": null,
   "id": "f45eeaed",
   "metadata": {},
   "outputs": [],
   "source": [
    "from os.path import join\n",
    "import numpy as np \n",
    "import torch\n",
    "import warnings\n",
    "warnings.filterwarnings('ignore')"
   ]
  },
  {
   "cell_type": "code",
   "execution_count": null,
   "id": "f02b59b4",
   "metadata": {},
   "outputs": [],
   "source": [
    "DATA_ROOT=\"../datas/2_Domain_Adaptation_dataset/\"\n",
    "\n",
    "MRI_root_dir=join(DATA_ROOT,\"MRI\",\"MRI_Label\")\n",
    "MRI_anno_file=join(DATA_ROOT,\"MRI\",\"annotations/MRI_Label/annotations.json\")\n",
    "\n",
    "CT_root_dir=join(DATA_ROOT,\"CT\")\n",
    "CT_anno_file=join(DATA_ROOT,\"CT\",\"annotations/annotations.json\")"
   ]
  },
  {
   "cell_type": "code",
   "execution_count": null,
   "id": "6e0ddd9d",
   "metadata": {},
   "outputs": [],
   "source": [
    "from dataloaders.ctmri_multiclass import CTMRI_MultiClassDataset\n",
    "import albumentations as A\n",
    "WIDTH, HEIGHT=256,256\n",
    "\n",
    "class DivMax(A.ImageOnlyTransform):\n",
    "    def __init__(self, always_apply=True, p=1.0):\n",
    "        super().__init__(always_apply, p)\n",
    "    def apply(self, img, **params):\n",
    "        img=img/np.max(img)\n",
    "#         img[img<0.25]=0\n",
    "#         img[img>0.65]=0\n",
    "        return img\n",
    "    \n",
    "transform = A.Compose([\n",
    "  A.ToFloat(always_apply=True),\n",
    "  DivMax(always_apply=True),\n",
    "  A.Resize(WIDTH, HEIGHT),\n",
    "  A.HorizontalFlip(p=0.5),\n",
    "  A.RandomBrightnessContrast(brightness_limit=[-0.05, 0.05], p=0.2),\n",
    "  A.Rotate((-30, 30), interpolation=0), \n",
    "  A.RandomContrast(limit=0.2, p=1),   \n",
    "])\n",
    "\n",
    "test_transform = A.Compose([           \n",
    "  A.ToFloat(always_apply=True),\n",
    "  DivMax(always_apply=True),\n",
    "  A.Resize(WIDTH, HEIGHT),\n",
    "])"
   ]
  },
  {
   "cell_type": "code",
   "execution_count": 4,
   "id": "a98a2876",
   "metadata": {},
   "outputs": [
    {
     "name": "stdout",
     "output_type": "stream",
     "text": [
      "loading annotations into memory...\n",
      "Done (t=0.00s)\n",
      "creating index...\n",
      "index created!\n",
      "loading annotations into memory...\n",
      "Done (t=0.01s)\n",
      "creating index...\n",
      "index created!\n"
     ]
    }
   ],
   "source": [
    "ds_kwargs=dict(\n",
    "    transform=transform,\n",
    "    test_transform=test_transform,\n",
    "    test_split=0.2\n",
    "    )\n",
    "MRI_ds=CTMRI_MultiClassDataset(MRI_anno_file,MRI_root_dir,**ds_kwargs)\n",
    "CT_ds=CTMRI_MultiClassDataset(CT_anno_file,CT_root_dir,**ds_kwargs)"
   ]
  },
  {
   "cell_type": "code",
   "execution_count": 5,
   "id": "a9c8e778",
   "metadata": {},
   "outputs": [],
   "source": [
    "import torch.utils.data as tud\n",
    "ldr_kwargs=dict(\n",
    "    batch_size=8,\n",
    "    shuffle=True,\n",
    "    pin_memory=False,\n",
    "    num_workers=2\n",
    ")\n",
    "CT_loader=tud.DataLoader(CT_ds,**ldr_kwargs)\n",
    "MRI_loader=tud.DataLoader(MRI_ds,**ldr_kwargs)"
   ]
  },
  {
   "cell_type": "code",
   "execution_count": 9,
   "id": "5b3400c8",
   "metadata": {},
   "outputs": [],
   "source": [
    "from dataloaders.ctmri_multiclass import occr_in_ds\n",
    "\n",
    "MRI_occr=occr_in_ds(MRI_ds)\n",
    "CT_occr=occr_in_ds(CT_ds)"
   ]
  },
  {
   "cell_type": "code",
   "execution_count": 11,
   "id": "9d8260a3",
   "metadata": {},
   "outputs": [
    {
     "name": "stdout",
     "output_type": "stream",
     "text": [
      "BATCHSIZE= 3\n",
      "(3, 256, 256, 3) \n",
      " (3, 256, 256)\n"
     ]
    },
    {
     "data": {
      "image/png": "[encoded data removed]",
      "text/plain": [
       "<Figure size 216x144 with 6 Axes>"
      ]
     },
     "metadata": {
      "needs_background": "light"
     },
     "output_type": "display_data"
    }
   ],
   "source": [
    "from utils.plotting import show_image_annot\n",
    "CT_ds.training=True\n",
    "x,y=next(iter(CT_loader))\n",
    "show_image_annot(x.numpy().transpose(0,2,3,1),y.numpy(),showPics=3, vmax=CT_ds.n_cats)"
   ]
  },
  {
   "cell_type": "code",
   "execution_count": 8,
   "id": "dec59b53",
   "metadata": {},
   "outputs": [
    {
     "data": {
      "text/plain": [
       "{0, 1, 2}"
      ]
     },
     "execution_count": 8,
     "metadata": {},
     "output_type": "execute_result"
    }
   ],
   "source": [
    "set(y.flatten().numpy())"
   ]
  },
  {
   "cell_type": "code",
   "execution_count": 12,
   "id": "36ba9fd7",
   "metadata": {},
   "outputs": [],
   "source": [
    "# from torch import nn\n",
    "\n",
    "from models.backbone import UNet\n",
    "from models.head import MetricLayer\n",
    "from models.models import SegModel\n",
    "backbone=UNet(decoder_chs=(512, 256, 128)).cuda()\n",
    "latent_dims=128\n",
    "head_ct=MetricLayer(n_in_features=latent_dims,n_out_features=1+CT_ds.n_cats).cuda()\n",
    "model_ct=SegModel(backbone,head_ct,(WIDTH, HEIGHT)).cuda()"
   ]
  },
  {
   "cell_type": "code",
   "execution_count": 51,
   "id": "6ac9f04e",
   "metadata": {},
   "outputs": [],
   "source": [
    "# from torchsummary import summary\n",
    "# summary(backbone.encoder, (3, 224, 224))"
   ]
  },
  {
   "cell_type": "code",
   "execution_count": 27,
   "id": "41751581",
   "metadata": {},
   "outputs": [],
   "source": [
    "def calc_acc(pred, y):\n",
    "    correct=(pred.argmax(1)==y).flatten()\n",
    "    return torch.sum(correct)/len(correct)\n",
    "def one_batch(i_iter,log,sample_batched,model,criterion,optimizer):\n",
    "    # Prep input\n",
    "    x,y=[_.cuda() for _ in sample_batched]\n",
    "    pred=model(x)\n",
    "    loss = criterion(pred, y)\n",
    "    if model.training:\n",
    "        #Update\n",
    "        loss.backward()\n",
    "        optimizer.step()\n",
    "        optimizer.zero_grad()\n",
    "    with torch.no_grad():\n",
    "        acc=calc_acc(pred, y).item()\n",
    "        if i_iter==0:\n",
    "            log['acc'] = acc\n",
    "        else:\n",
    "            log['acc'] = (acc+log['acc']*i_iter)/(i_iter + 1)\n",
    "    # Record\n",
    "    loss_rec = loss.item()\n",
    "    log['loss'] = (loss_rec+log['loss']*i_iter)/(i_iter + 1)\n",
    "    return pred,loss"
   ]
  },
  {
   "cell_type": "code",
   "execution_count": 14,
   "id": "a6436159",
   "metadata": {},
   "outputs": [
    {
     "name": "stdout",
     "output_type": "stream",
     "text": [
      "mkdir: cannot create directory ‘snapshots’: File exists\n"
     ]
    }
   ],
   "source": [
    "!mkdir snapshots"
   ]
  },
  {
   "cell_type": "code",
   "execution_count": 21,
   "id": "ea0711bf",
   "metadata": {},
   "outputs": [],
   "source": [
    "from losses.marginal import AddMarginLoss\n",
    "w=1/torch.tensor(CT_occr,dtype=torch.float32).cuda()\n",
    "criterion_ct = AddMarginLoss(ways=1+CT_ds.n_cats,s=3,m=0.4,weight=w)\n",
    "optimizer_ct = torch.optim.SGD(model_ct.parameters(),lr=1e-3,momentum=0.9,weight_decay=0.0005)\n",
    "# optimizer = torch.optim.Adam(model.parameters(),lr=1e-3)\n",
    "# \n",
    "# scheduler = MultiStepLR(optimizer, milestones=[100, 200, 300], gamma=0.1)\n",
    "# "
   ]
  },
  {
   "cell_type": "code",
   "execution_count": 22,
   "id": "ba77efef",
   "metadata": {},
   "outputs": [
    {
     "name": "stderr",
     "output_type": "stream",
     "text": [
      "288it [01:07,  4.27it/s, epoch=0, step=285, loss=0.258, acc=0.892]\n",
      "288it [01:08,  4.22it/s, epoch=1, step=285, loss=0.0605, acc=0.948]\n",
      "72it [00:07, 10.00it/s, epoch=1, step=val, loss=0.0435, acc=0.958]\n",
      "288it [01:08,  4.20it/s, epoch=2, step=285, loss=0.0416, acc=0.957]\n",
      "288it [01:08,  4.20it/s, epoch=3, step=285, loss=0.0328, acc=0.962]\n",
      "72it [00:07,  9.87it/s, epoch=3, step=val, loss=0.0265, acc=0.968]\n",
      "288it [01:08,  4.19it/s, epoch=4, step=285, loss=0.027, acc=0.967] \n",
      "288it [01:08,  4.19it/s, epoch=5, step=285, loss=0.0231, acc=0.97] \n",
      "72it [00:07,  9.84it/s, epoch=5, step=val, loss=0.02, acc=0.973]  \n",
      "288it [01:08,  4.20it/s, epoch=6, step=285, loss=0.0207, acc=0.972]\n",
      "10it [00:02,  3.51it/s, epoch=7, step=10, loss=0.0211, acc=0.971]"
     ]
    },
    {
     "name": "stdout",
     "output_type": "stream",
     "text": [
      "\n",
      "Human Interrupted\n"
     ]
    },
    {
     "name": "stderr",
     "output_type": "stream",
     "text": [
      "\n"
     ]
    }
   ],
   "source": [
    "from tqdm import tqdm\n",
    "\n",
    "EPOCH=100\n",
    "model_ct.train()\n",
    "best_loss=np.inf\n",
    "PAITIENCE=5\n",
    "count=0\n",
    "try:\n",
    "    for e in range(EPOCH):\n",
    "        log= {'epoch':e,'step':0,'loss': 0, 'acc': 0}\n",
    "        model_ct.train()\n",
    "        CT_ds.training=True\n",
    "        session=tqdm(enumerate(CT_loader))\n",
    "        for i_iter, sample_batched in session:\n",
    "            pred,loss=one_batch(i_iter,log,sample_batched,model_ct,criterion_ct,optimizer_ct)\n",
    "            # print loss and take snapshots\n",
    "            if (i_iter + 1) % 5 == 0:\n",
    "                log['step']=i_iter+1\n",
    "                session.set_postfix(log)\n",
    "        # validate\n",
    "        if (e + 1) % 2 == 0:\n",
    "            log = {'epoch':e,'step':'val','loss': 0, 'acc': 0}\n",
    "            model_ct.eval()\n",
    "            CT_ds.training=False\n",
    "            session=tqdm(enumerate(CT_loader))\n",
    "            with torch.no_grad():\n",
    "                for i_iter,sample_batched in session:\n",
    "                    pred,loss=one_batch(i_iter,log,sample_batched,model_ct,criterion_ct,optimizer_ct)\n",
    "                    if (i_iter + 1) % 5 == 0:\n",
    "                        session.set_postfix(log)\n",
    "            # early stop        \n",
    "            if log[\"loss\"]<best_loss:\n",
    "                best_loss=log[\"loss\"]\n",
    "                torch.save(model.state_dict(), 'snapshots/unet_arc_best.pth')\n",
    "            elif count<=PAITIENCE: count+=1\n",
    "            else:\n",
    "                count=0\n",
    "                best_loss=np.inf\n",
    "                break \n",
    "            \n",
    "except KeyboardInterrupt:\n",
    "    print(\"\\nHuman Interrupted\")\n",
    "torch.save(model.state_dict(), 'snapshots/unet_arc_latest.pth')"
   ]
  },
  {
   "cell_type": "code",
   "execution_count": 23,
   "id": "c26038df",
   "metadata": {},
   "outputs": [
    {
     "name": "stdout",
     "output_type": "stream",
     "text": [
      "BATCHSIZE= 3\n",
      "(3, 256, 256) \n",
      " (3, 256, 256)\n"
     ]
    },
    {
     "data": {
      "image/png": "[encoded data removed]",
      "text/plain": [
       "<Figure size 216x144 with 6 Axes>"
      ]
     },
     "metadata": {
      "needs_background": "light"
     },
     "output_type": "display_data"
    }
   ],
   "source": [
    "show_image_annot(pred.cpu().detach().argmax(1).numpy(),\n",
    "                 sample_batched[1].cpu().detach().numpy(),\n",
    "                 showPics=3, vmax=CT_ds.n_cats)"
   ]
  },
  {
   "cell_type": "code",
   "execution_count": 29,
   "id": "163e2b1e",
   "metadata": {},
   "outputs": [
    {
     "ename": "RuntimeError",
     "evalue": "CUDA error: device-side assert triggered\nCUDA kernel errors might be asynchronously reported at some other API call,so the stacktrace below might be incorrect.\nFor debugging consider passing CUDA_LAUNCH_BLOCKING=1.",
     "output_type": "error",
     "traceback": [
      "\u001b[0;31m---------------------------------------------------------------------------\u001b[0m",
      "\u001b[0;31mRuntimeError\u001b[0m                              Traceback (most recent call last)",
      "\u001b[0;32m/tmp/ipykernel_87771/849245264.py\u001b[0m in \u001b[0;36m<module>\u001b[0;34m\u001b[0m\n\u001b[0;32m----> 1\u001b[0;31m \u001b[0mmri_head\u001b[0m\u001b[0;34m=\u001b[0m\u001b[0mMetricLayer\u001b[0m\u001b[0;34m(\u001b[0m\u001b[0mn_in_features\u001b[0m\u001b[0;34m=\u001b[0m\u001b[0mlatent_dims\u001b[0m\u001b[0;34m,\u001b[0m\u001b[0mn_out_features\u001b[0m\u001b[0;34m=\u001b[0m\u001b[0;36m1\u001b[0m\u001b[0;34m+\u001b[0m\u001b[0mMRI_ds\u001b[0m\u001b[0;34m.\u001b[0m\u001b[0mn_cats\u001b[0m\u001b[0;34m)\u001b[0m\u001b[0;34m.\u001b[0m\u001b[0mcuda\u001b[0m\u001b[0;34m(\u001b[0m\u001b[0;34m)\u001b[0m\u001b[0;34m\u001b[0m\u001b[0;34m\u001b[0m\u001b[0m\n\u001b[0m\u001b[1;32m      2\u001b[0m \u001b[0mmodel_mri\u001b[0m\u001b[0;34m=\u001b[0m\u001b[0mSegModel\u001b[0m\u001b[0;34m(\u001b[0m\u001b[0mbackbone\u001b[0m\u001b[0;34m,\u001b[0m\u001b[0mmri_head\u001b[0m\u001b[0;34m,\u001b[0m\u001b[0;34m(\u001b[0m\u001b[0mWIDTH\u001b[0m\u001b[0;34m,\u001b[0m \u001b[0mHEIGHT\u001b[0m\u001b[0;34m)\u001b[0m\u001b[0;34m)\u001b[0m\u001b[0;34m.\u001b[0m\u001b[0mcuda\u001b[0m\u001b[0;34m(\u001b[0m\u001b[0;34m)\u001b[0m\u001b[0;34m\u001b[0m\u001b[0;34m\u001b[0m\u001b[0m\n\u001b[1;32m      3\u001b[0m \u001b[0mcriterion_mri\u001b[0m \u001b[0;34m=\u001b[0m \u001b[0mAddMarginLoss\u001b[0m\u001b[0;34m(\u001b[0m\u001b[0mways\u001b[0m\u001b[0;34m=\u001b[0m\u001b[0;36m1\u001b[0m\u001b[0;34m+\u001b[0m\u001b[0mMRI_ds\u001b[0m\u001b[0;34m.\u001b[0m\u001b[0mn_cats\u001b[0m\u001b[0;34m,\u001b[0m\u001b[0ms\u001b[0m\u001b[0;34m=\u001b[0m\u001b[0;36m3\u001b[0m\u001b[0;34m,\u001b[0m\u001b[0mm\u001b[0m\u001b[0;34m=\u001b[0m\u001b[0;36m0.4\u001b[0m\u001b[0;34m,\u001b[0m\u001b[0mweight\u001b[0m\u001b[0;34m=\u001b[0m\u001b[0mw\u001b[0m\u001b[0;34m)\u001b[0m\u001b[0;34m\u001b[0m\u001b[0;34m\u001b[0m\u001b[0m\n\u001b[1;32m      4\u001b[0m \u001b[0moptimizer_mri\u001b[0m \u001b[0;34m=\u001b[0m \u001b[0mtorch\u001b[0m\u001b[0;34m.\u001b[0m\u001b[0moptim\u001b[0m\u001b[0;34m.\u001b[0m\u001b[0mSGD\u001b[0m\u001b[0;34m(\u001b[0m\u001b[0mmodel_mri\u001b[0m\u001b[0;34m.\u001b[0m\u001b[0mparameters\u001b[0m\u001b[0;34m(\u001b[0m\u001b[0;34m)\u001b[0m\u001b[0;34m,\u001b[0m\u001b[0mlr\u001b[0m\u001b[0;34m=\u001b[0m\u001b[0;36m1e-3\u001b[0m\u001b[0;34m,\u001b[0m\u001b[0mmomentum\u001b[0m\u001b[0;34m=\u001b[0m\u001b[0;36m0.9\u001b[0m\u001b[0;34m,\u001b[0m\u001b[0mweight_decay\u001b[0m\u001b[0;34m=\u001b[0m\u001b[0;36m0.0005\u001b[0m\u001b[0;34m)\u001b[0m\u001b[0;34m\u001b[0m\u001b[0;34m\u001b[0m\u001b[0m\n",
      "\u001b[0;32m/opt/conda/lib/python3.7/site-packages/torch/nn/modules/module.py\u001b[0m in \u001b[0;36mcuda\u001b[0;34m(self, device)\u001b[0m\n\u001b[1;32m    635\u001b[0m             \u001b[0mModule\u001b[0m\u001b[0;34m:\u001b[0m \u001b[0mself\u001b[0m\u001b[0;34m\u001b[0m\u001b[0;34m\u001b[0m\u001b[0m\n\u001b[1;32m    636\u001b[0m         \"\"\"\n\u001b[0;32m--> 637\u001b[0;31m         \u001b[0;32mreturn\u001b[0m \u001b[0mself\u001b[0m\u001b[0;34m.\u001b[0m\u001b[0m_apply\u001b[0m\u001b[0;34m(\u001b[0m\u001b[0;32mlambda\u001b[0m \u001b[0mt\u001b[0m\u001b[0;34m:\u001b[0m \u001b[0mt\u001b[0m\u001b[0;34m.\u001b[0m\u001b[0mcuda\u001b[0m\u001b[0;34m(\u001b[0m\u001b[0mdevice\u001b[0m\u001b[0;34m)\u001b[0m\u001b[0;34m)\u001b[0m\u001b[0;34m\u001b[0m\u001b[0;34m\u001b[0m\u001b[0m\n\u001b[0m\u001b[1;32m    638\u001b[0m \u001b[0;34m\u001b[0m\u001b[0m\n\u001b[1;32m    639\u001b[0m     \u001b[0;32mdef\u001b[0m \u001b[0mxpu\u001b[0m\u001b[0;34m(\u001b[0m\u001b[0mself\u001b[0m\u001b[0;34m:\u001b[0m \u001b[0mT\u001b[0m\u001b[0;34m,\u001b[0m \u001b[0mdevice\u001b[0m\u001b[0;34m:\u001b[0m \u001b[0mOptional\u001b[0m\u001b[0;34m[\u001b[0m\u001b[0mUnion\u001b[0m\u001b[0;34m[\u001b[0m\u001b[0mint\u001b[0m\u001b[0;34m,\u001b[0m \u001b[0mdevice\u001b[0m\u001b[0;34m]\u001b[0m\u001b[0;34m]\u001b[0m \u001b[0;34m=\u001b[0m \u001b[0;32mNone\u001b[0m\u001b[0;34m)\u001b[0m \u001b[0;34m->\u001b[0m \u001b[0mT\u001b[0m\u001b[0;34m:\u001b[0m\u001b[0;34m\u001b[0m\u001b[0;34m\u001b[0m\u001b[0m\n",
      "\u001b[0;32m/opt/conda/lib/python3.7/site-packages/torch/nn/modules/module.py\u001b[0m in \u001b[0;36m_apply\u001b[0;34m(self, fn)\u001b[0m\n\u001b[1;32m    550\u001b[0m                 \u001b[0;31m# `with torch.no_grad():`\u001b[0m\u001b[0;34m\u001b[0m\u001b[0;34m\u001b[0m\u001b[0;34m\u001b[0m\u001b[0m\n\u001b[1;32m    551\u001b[0m                 \u001b[0;32mwith\u001b[0m \u001b[0mtorch\u001b[0m\u001b[0;34m.\u001b[0m\u001b[0mno_grad\u001b[0m\u001b[0;34m(\u001b[0m\u001b[0;34m)\u001b[0m\u001b[0;34m:\u001b[0m\u001b[0;34m\u001b[0m\u001b[0;34m\u001b[0m\u001b[0m\n\u001b[0;32m--> 552\u001b[0;31m                     \u001b[0mparam_applied\u001b[0m \u001b[0;34m=\u001b[0m \u001b[0mfn\u001b[0m\u001b[0;34m(\u001b[0m\u001b[0mparam\u001b[0m\u001b[0;34m)\u001b[0m\u001b[0;34m\u001b[0m\u001b[0;34m\u001b[0m\u001b[0m\n\u001b[0m\u001b[1;32m    553\u001b[0m                 \u001b[0mshould_use_set_data\u001b[0m \u001b[0;34m=\u001b[0m \u001b[0mcompute_should_use_set_data\u001b[0m\u001b[0;34m(\u001b[0m\u001b[0mparam\u001b[0m\u001b[0;34m,\u001b[0m \u001b[0mparam_applied\u001b[0m\u001b[0;34m)\u001b[0m\u001b[0;34m\u001b[0m\u001b[0;34m\u001b[0m\u001b[0m\n\u001b[1;32m    554\u001b[0m                 \u001b[0;32mif\u001b[0m \u001b[0mshould_use_set_data\u001b[0m\u001b[0;34m:\u001b[0m\u001b[0;34m\u001b[0m\u001b[0;34m\u001b[0m\u001b[0m\n",
      "\u001b[0;32m/opt/conda/lib/python3.7/site-packages/torch/nn/modules/module.py\u001b[0m in \u001b[0;36m<lambda>\u001b[0;34m(t)\u001b[0m\n\u001b[1;32m    635\u001b[0m             \u001b[0mModule\u001b[0m\u001b[0;34m:\u001b[0m \u001b[0mself\u001b[0m\u001b[0;34m\u001b[0m\u001b[0;34m\u001b[0m\u001b[0m\n\u001b[1;32m    636\u001b[0m         \"\"\"\n\u001b[0;32m--> 637\u001b[0;31m         \u001b[0;32mreturn\u001b[0m \u001b[0mself\u001b[0m\u001b[0;34m.\u001b[0m\u001b[0m_apply\u001b[0m\u001b[0;34m(\u001b[0m\u001b[0;32mlambda\u001b[0m \u001b[0mt\u001b[0m\u001b[0;34m:\u001b[0m \u001b[0mt\u001b[0m\u001b[0;34m.\u001b[0m\u001b[0mcuda\u001b[0m\u001b[0;34m(\u001b[0m\u001b[0mdevice\u001b[0m\u001b[0;34m)\u001b[0m\u001b[0;34m)\u001b[0m\u001b[0;34m\u001b[0m\u001b[0;34m\u001b[0m\u001b[0m\n\u001b[0m\u001b[1;32m    638\u001b[0m \u001b[0;34m\u001b[0m\u001b[0m\n\u001b[1;32m    639\u001b[0m     \u001b[0;32mdef\u001b[0m \u001b[0mxpu\u001b[0m\u001b[0;34m(\u001b[0m\u001b[0mself\u001b[0m\u001b[0;34m:\u001b[0m \u001b[0mT\u001b[0m\u001b[0;34m,\u001b[0m \u001b[0mdevice\u001b[0m\u001b[0;34m:\u001b[0m \u001b[0mOptional\u001b[0m\u001b[0;34m[\u001b[0m\u001b[0mUnion\u001b[0m\u001b[0;34m[\u001b[0m\u001b[0mint\u001b[0m\u001b[0;34m,\u001b[0m \u001b[0mdevice\u001b[0m\u001b[0;34m]\u001b[0m\u001b[0;34m]\u001b[0m \u001b[0;34m=\u001b[0m \u001b[0;32mNone\u001b[0m\u001b[0;34m)\u001b[0m \u001b[0;34m->\u001b[0m \u001b[0mT\u001b[0m\u001b[0;34m:\u001b[0m\u001b[0;34m\u001b[0m\u001b[0;34m\u001b[0m\u001b[0m\n",
      "\u001b[0;31mRuntimeError\u001b[0m: CUDA error: device-side assert triggered\nCUDA kernel errors might be asynchronously reported at some other API call,so the stacktrace below might be incorrect.\nFor debugging consider passing CUDA_LAUNCH_BLOCKING=1."
     ]
    }
   ],
   "source": [
    "mri_head=MetricLayer(n_in_features=latent_dims,n_out_features=1+MRI_ds.n_cats).cuda()\n",
    "model_mri=SegModel(backbone,mri_head,(WIDTH, HEIGHT)).cuda()\n",
    "criterion_mri = AddMarginLoss(ways=1+MRI_ds.n_cats,s=3,m=0.4,weight=w)\n",
    "optimizer_mri = torch.optim.SGD(model_mri.parameters(),lr=1e-3,momentum=0.9,weight_decay=0.0005)"
   ]
  },
  {
   "cell_type": "code",
   "execution_count": 25,
   "id": "c5ac1521",
   "metadata": {},
   "outputs": [
    {
     "name": "stderr",
     "output_type": "stream",
     "text": [
      "0it [00:00, ?it/s]\n"
     ]
    },
    {
     "ename": "RuntimeError",
     "evalue": "The size of tensor a (3) must match the size of tensor b (6) at non-singleton dimension 1",
     "output_type": "error",
     "traceback": [
      "\u001b[0;31m---------------------------------------------------------------------------\u001b[0m",
      "\u001b[0;31mRuntimeError\u001b[0m                              Traceback (most recent call last)",
      "\u001b[0;32m/tmp/ipykernel_87771/1004475375.py\u001b[0m in \u001b[0;36m<module>\u001b[0;34m\u001b[0m\n\u001b[1;32m      5\u001b[0m \u001b[0;32mwith\u001b[0m \u001b[0mtorch\u001b[0m\u001b[0;34m.\u001b[0m\u001b[0mno_grad\u001b[0m\u001b[0;34m(\u001b[0m\u001b[0;34m)\u001b[0m\u001b[0;34m:\u001b[0m\u001b[0;34m\u001b[0m\u001b[0;34m\u001b[0m\u001b[0m\n\u001b[1;32m      6\u001b[0m     \u001b[0;32mfor\u001b[0m \u001b[0mi_iter\u001b[0m\u001b[0;34m,\u001b[0m\u001b[0msample_batched\u001b[0m \u001b[0;32min\u001b[0m \u001b[0msession\u001b[0m\u001b[0;34m:\u001b[0m\u001b[0;34m\u001b[0m\u001b[0;34m\u001b[0m\u001b[0m\n\u001b[0;32m----> 7\u001b[0;31m         \u001b[0mpred\u001b[0m\u001b[0;34m,\u001b[0m\u001b[0mloss\u001b[0m\u001b[0;34m=\u001b[0m\u001b[0mone_batch\u001b[0m\u001b[0;34m(\u001b[0m\u001b[0mi_iter\u001b[0m\u001b[0;34m,\u001b[0m\u001b[0msample_batched\u001b[0m\u001b[0;34m,\u001b[0m\u001b[0mmodel\u001b[0m\u001b[0;34m,\u001b[0m\u001b[0mlog\u001b[0m\u001b[0;34m)\u001b[0m\u001b[0;34m\u001b[0m\u001b[0;34m\u001b[0m\u001b[0m\n\u001b[0m\u001b[1;32m      8\u001b[0m         \u001b[0;32mif\u001b[0m \u001b[0;34m(\u001b[0m\u001b[0mi_iter\u001b[0m \u001b[0;34m+\u001b[0m \u001b[0;36m1\u001b[0m\u001b[0;34m)\u001b[0m \u001b[0;34m%\u001b[0m \u001b[0;36m5\u001b[0m \u001b[0;34m==\u001b[0m \u001b[0;36m0\u001b[0m\u001b[0;34m:\u001b[0m\u001b[0;34m\u001b[0m\u001b[0;34m\u001b[0m\u001b[0m\n\u001b[1;32m      9\u001b[0m             \u001b[0msession\u001b[0m\u001b[0;34m.\u001b[0m\u001b[0mset_postfix\u001b[0m\u001b[0;34m(\u001b[0m\u001b[0mlog\u001b[0m\u001b[0;34m)\u001b[0m\u001b[0;34m\u001b[0m\u001b[0;34m\u001b[0m\u001b[0m\n",
      "\u001b[0;32m/tmp/ipykernel_87771/2695316494.py\u001b[0m in \u001b[0;36mone_batch\u001b[0;34m(i_iter, sample_batched, model, log)\u001b[0m\n\u001b[1;32m      6\u001b[0m     \u001b[0mx\u001b[0m\u001b[0;34m,\u001b[0m\u001b[0my\u001b[0m\u001b[0;34m=\u001b[0m\u001b[0;34m[\u001b[0m\u001b[0m_\u001b[0m\u001b[0;34m.\u001b[0m\u001b[0mcuda\u001b[0m\u001b[0;34m(\u001b[0m\u001b[0;34m)\u001b[0m \u001b[0;32mfor\u001b[0m \u001b[0m_\u001b[0m \u001b[0;32min\u001b[0m \u001b[0msample_batched\u001b[0m\u001b[0;34m]\u001b[0m\u001b[0;34m\u001b[0m\u001b[0;34m\u001b[0m\u001b[0m\n\u001b[1;32m      7\u001b[0m     \u001b[0mpred\u001b[0m\u001b[0;34m=\u001b[0m\u001b[0mmodel\u001b[0m\u001b[0;34m(\u001b[0m\u001b[0mx\u001b[0m\u001b[0;34m)\u001b[0m\u001b[0;34m\u001b[0m\u001b[0;34m\u001b[0m\u001b[0m\n\u001b[0;32m----> 8\u001b[0;31m     \u001b[0mloss\u001b[0m \u001b[0;34m=\u001b[0m \u001b[0mcriterion\u001b[0m\u001b[0;34m(\u001b[0m\u001b[0mpred\u001b[0m\u001b[0;34m,\u001b[0m \u001b[0my\u001b[0m\u001b[0;34m)\u001b[0m\u001b[0;34m\u001b[0m\u001b[0;34m\u001b[0m\u001b[0m\n\u001b[0m\u001b[1;32m      9\u001b[0m     \u001b[0;32mif\u001b[0m \u001b[0mmodel\u001b[0m\u001b[0;34m.\u001b[0m\u001b[0mtraining\u001b[0m\u001b[0;34m:\u001b[0m\u001b[0;34m\u001b[0m\u001b[0;34m\u001b[0m\u001b[0m\n\u001b[1;32m     10\u001b[0m         \u001b[0;31m#Update\u001b[0m\u001b[0;34m\u001b[0m\u001b[0;34m\u001b[0m\u001b[0;34m\u001b[0m\u001b[0m\n",
      "\u001b[0;32m/opt/conda/lib/python3.7/site-packages/torch/nn/modules/module.py\u001b[0m in \u001b[0;36m_call_impl\u001b[0;34m(self, *input, **kwargs)\u001b[0m\n\u001b[1;32m   1049\u001b[0m         if not (self._backward_hooks or self._forward_hooks or self._forward_pre_hooks or _global_backward_hooks\n\u001b[1;32m   1050\u001b[0m                 or _global_forward_hooks or _global_forward_pre_hooks):\n\u001b[0;32m-> 1051\u001b[0;31m             \u001b[0;32mreturn\u001b[0m \u001b[0mforward_call\u001b[0m\u001b[0;34m(\u001b[0m\u001b[0;34m*\u001b[0m\u001b[0minput\u001b[0m\u001b[0;34m,\u001b[0m \u001b[0;34m**\u001b[0m\u001b[0mkwargs\u001b[0m\u001b[0;34m)\u001b[0m\u001b[0;34m\u001b[0m\u001b[0;34m\u001b[0m\u001b[0m\n\u001b[0m\u001b[1;32m   1052\u001b[0m         \u001b[0;31m# Do not call functions when jit is used\u001b[0m\u001b[0;34m\u001b[0m\u001b[0;34m\u001b[0m\u001b[0;34m\u001b[0m\u001b[0m\n\u001b[1;32m   1053\u001b[0m         \u001b[0mfull_backward_hooks\u001b[0m\u001b[0;34m,\u001b[0m \u001b[0mnon_full_backward_hooks\u001b[0m \u001b[0;34m=\u001b[0m \u001b[0;34m[\u001b[0m\u001b[0;34m]\u001b[0m\u001b[0;34m,\u001b[0m \u001b[0;34m[\u001b[0m\u001b[0;34m]\u001b[0m\u001b[0;34m\u001b[0m\u001b[0;34m\u001b[0m\u001b[0m\n",
      "\u001b[0;32m~/clone/Unet_Pix2Pix/losses/marginal.py\u001b[0m in \u001b[0;36mforward\u001b[0;34m(self, cosine, label)\u001b[0m\n",
      "\u001b[0;31mRuntimeError\u001b[0m: The size of tensor a (3) must match the size of tensor b (6) at non-singleton dimension 1"
     ]
    }
   ],
   "source": [
    "log = {'epoch':e,'step':'val','loss': 0, 'acc': 0}\n",
    "model.eval()\n",
    "MRI_ds.training=False\n",
    "session=tqdm(enumerate(MRI_loader))\n",
    "with torch.no_grad():\n",
    "    for i_iter,sample_batched in session:\n",
    "        pred,loss=one_batch(i_iter,log,sample_batched,model,criterion,optimizer)\n",
    "        if (i_iter + 1) % 5 == 0:\n",
    "            session.set_postfix(log)"
   ]
  },
  {
   "cell_type": "code",
   "execution_count": null,
   "id": "789a36e5",
   "metadata": {},
   "outputs": [],
   "source": []
  }
 ],
 "metadata": {
  "kernelspec": {
   "display_name": "Python 3 (ipykernel)",
   "language": "python",
   "name": "python3"
  },
  "language_info": {
   "codemirror_mode": {
    "name": "ipython",
    "version": 3
   },
   "file_extension": ".py",
   "mimetype": "text/x-python",
   "name": "python",
   "nbconvert_exporter": "python",
   "pygments_lexer": "ipython3",
   "version": "3.7.10"
  }
 },
 "nbformat": 4,
 "nbformat_minor": 5
}
