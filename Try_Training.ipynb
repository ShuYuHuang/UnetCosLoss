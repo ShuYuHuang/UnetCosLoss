{
 "cells": [
  {
   "cell_type": "code",
   "execution_count": 1,
   "id": "b86eadc2",
   "metadata": {},
   "outputs": [],
   "source": [
    "!pip install -q -r requirements.txt"
   ]
  },
  {
   "cell_type": "code",
   "execution_count": 2,
   "id": "6629c35a",
   "metadata": {
    "collapsed": true,
    "jupyter": {
     "outputs_hidden": true
    }
   },
   "outputs": [
    {
     "name": "stdout",
     "output_type": "stream",
     "text": [
      "Found existing installation: opencv-python-headless 4.5.5.64\n",
      "Uninstalling opencv-python-headless-4.5.5.64:\n",
      "  Successfully uninstalled opencv-python-headless-4.5.5.64\n",
      "Collecting opencv-python-headless==4.1.2.30\n",
      "  Using cached opencv_python_headless-4.1.2.30-cp37-cp37m-manylinux1_x86_64.whl (21.8 MB)\n",
      "Requirement already satisfied: numpy>=1.14.5 in /opt/conda/lib/python3.7/site-packages (from opencv-python-headless==4.1.2.30) (1.21.2)\n",
      "Installing collected packages: opencv-python-headless\n",
      "Successfully installed opencv-python-headless-4.1.2.30\n"
     ]
    }
   ],
   "source": [
    "# !pip uninstall -y opencv-python-headless\n",
    "# !pip install opencv-python-headless==4.1.2.30"
   ]
  },
  {
   "cell_type": "markdown",
   "id": "273b36ae",
   "metadata": {},
   "source": [
    "## Data Loading"
   ]
  },
  {
   "cell_type": "code",
   "execution_count": 1,
   "id": "e06d4e6a",
   "metadata": {},
   "outputs": [],
   "source": [
    "from os.path import join\n",
    "import numpy as np \n",
    "import torch\n",
    "import warnings\n",
    "warnings.filterwarnings('ignore')"
   ]
  },
  {
   "cell_type": "code",
   "execution_count": 2,
   "id": "e67f2e9d",
   "metadata": {},
   "outputs": [],
   "source": [
    "DATA_ROOT=\"./data/\"\n",
    "\n",
    "MRI_root_dir=join(DATA_ROOT,\"MRI\",\"MRI_Label\")\n",
    "MRI_anno_file=join(DATA_ROOT,\"MRI\",\"annotations/MRI_Label/annotations.json\")\n",
    "\n",
    "CT_root_dir=join(DATA_ROOT,\"CT\")\n",
    "CT_anno_file=join(DATA_ROOT,\"CT\",\"annotations/annotations.json\")"
   ]
  },
  {
   "cell_type": "code",
   "execution_count": 3,
   "id": "d6fc35b1",
   "metadata": {},
   "outputs": [],
   "source": [
    "from dataloaders.ctmri_multiclass import CTMRI_MultiClassDataset\n",
    "import albumentations as A\n",
    "WIDTH, HEIGHT=256,256\n",
    "\n",
    "class DivMax(A.ImageOnlyTransform):\n",
    "    def __init__(self, always_apply=True, p=1.0):\n",
    "        super().__init__(always_apply, p)\n",
    "    def apply(self, img, **params):\n",
    "        img=img/np.max(img)\n",
    "#         img[img<0.25]=0\n",
    "#         img[img>0.65]=0\n",
    "        return img\n",
    "    \n",
    "transform = A.Compose([\n",
    "  A.ToFloat(always_apply=True),\n",
    "  DivMax(always_apply=True),\n",
    "  A.Resize(WIDTH, HEIGHT),\n",
    "  A.HorizontalFlip(p=0.5),\n",
    "  A.RandomBrightnessContrast(brightness_limit=[-0.05, 0.05], p=0.2),\n",
    "  A.Rotate((-30, 30), interpolation=0), \n",
    "  A.RandomContrast(limit=0.2, p=1),   \n",
    "])\n",
    "\n",
    "test_transform = A.Compose([           \n",
    "  A.ToFloat(always_apply=True),\n",
    "  DivMax(always_apply=True),\n",
    "  A.Resize(WIDTH, HEIGHT),\n",
    "])"
   ]
  },
  {
   "cell_type": "code",
   "execution_count": 4,
   "id": "61a49cbb",
   "metadata": {},
   "outputs": [
    {
     "name": "stdout",
     "output_type": "stream",
     "text": [
      "loading annotations into memory...\n",
      "Done (t=0.00s)\n",
      "creating index...\n",
      "index created!\n",
      "loading annotations into memory...\n",
      "Done (t=0.01s)\n",
      "creating index...\n",
      "index created!\n"
     ]
    }
   ],
   "source": [
    "ds_kwargs=dict(\n",
    "    transform=transform,\n",
    "    test_transform=test_transform,\n",
    "    test_split=0.2\n",
    "    )\n",
    "MRI_ds=CTMRI_MultiClassDataset(MRI_anno_file,MRI_root_dir,**ds_kwargs)\n",
    "CT_ds=CTMRI_MultiClassDataset(CT_anno_file,CT_root_dir,**ds_kwargs)"
   ]
  },
  {
   "cell_type": "code",
   "execution_count": 5,
   "id": "0162cbfe",
   "metadata": {},
   "outputs": [],
   "source": [
    "import torch.utils.data as tud\n",
    "ldr_kwargs=dict(\n",
    "    batch_size=8,\n",
    "    shuffle=True,\n",
    "    pin_memory=False,\n",
    "    num_workers=2\n",
    ")\n",
    "CT_loader=tud.DataLoader(CT_ds,**ldr_kwargs)\n",
    "MRI_loader=tud.DataLoader(MRI_ds,**ldr_kwargs)"
   ]
  },
  {
   "cell_type": "code",
   "execution_count": 6,
   "id": "12412d7e",
   "metadata": {},
   "outputs": [],
   "source": [
    "from dataloaders.ctmri_multiclass import occr_in_ds\n",
    "\n",
    "MRI_occr=occr_in_ds(MRI_ds)\n",
    "CT_occr=occr_in_ds(CT_ds)"
   ]
  },
  {
   "cell_type": "code",
   "execution_count": 7,
   "id": "32f6d787",
   "metadata": {},
   "outputs": [
    {
     "name": "stdout",
     "output_type": "stream",
     "text": [
      "BATCHSIZE= 3\n",
      "(3, 256, 256, 3) \n",
      " (3, 256, 256)\n"
     ]
    },
    {
     "data": {
      "image/png": "[encoded data removed]",
      "text/plain": [
       "<Figure size 216x144 with 6 Axes>"
      ]
     },
     "metadata": {
      "needs_background": "light"
     },
     "output_type": "display_data"
    }
   ],
   "source": [
    "from utils.plotting import show_image_annot\n",
    "CT_ds.training=True\n",
    "x,y=next(iter(CT_loader))\n",
    "show_image_annot(x.numpy().transpose(0,2,3,1),y.numpy(),showPics=3, vmax=CT_ds.n_cats)"
   ]
  },
  {
   "cell_type": "code",
   "execution_count": 8,
   "id": "a2d2d6ac",
   "metadata": {},
   "outputs": [
    {
     "data": {
      "text/plain": [
       "{0, 1, 2}"
      ]
     },
     "execution_count": 8,
     "metadata": {},
     "output_type": "execute_result"
    }
   ],
   "source": [
    "set(y.flatten().numpy())"
   ]
  },
  {
   "cell_type": "code",
   "execution_count": 9,
   "id": "d9aa6203",
   "metadata": {},
   "outputs": [],
   "source": [
    "# from torch import nn\n",
    "\n",
    "from models.backbone import UNet\n",
    "from models.head import MetricLayer\n",
    "from models.models import SegModel\n",
    "backbone=UNet(decoder_chs=(512, 256, 128)).cuda()\n",
    "latent_dims=128\n",
    "head_ct=MetricLayer(n_in_features=latent_dims,n_out_features=1+CT_ds.n_cats).cuda()\n",
    "model_ct=SegModel(backbone,head_ct,(WIDTH, HEIGHT)).cuda()"
   ]
  },
  {
   "cell_type": "code",
   "execution_count": 88,
   "id": "cefa6bad",
   "metadata": {},
   "outputs": [],
   "source": [
    "# from torchsummary import summary\n",
    "# summary(backbone.encoder, (3, 224, 224))"
   ]
  },
  {
   "cell_type": "code",
   "execution_count": 10,
   "id": "228e6082",
   "metadata": {},
   "outputs": [],
   "source": [
    "def calc_acc(pred, y):\n",
    "    correct=(pred.argmax(1)==y).flatten()\n",
    "    return torch.sum(correct)/len(correct)\n",
    "def one_batch(i_iter,log,sample_batched,model,criterion,optimizer):\n",
    "    # Prep input\n",
    "    x,y=[_.cuda() for _ in sample_batched]\n",
    "    pred=model(x)\n",
    "    loss = criterion(pred, y)\n",
    "    if model.training:\n",
    "        #Update\n",
    "        loss.backward()\n",
    "        optimizer.step()\n",
    "        optimizer.zero_grad()\n",
    "    with torch.no_grad():\n",
    "        acc=calc_acc(pred, y).item()\n",
    "        if i_iter==0:\n",
    "            log['acc'] = acc\n",
    "        else:\n",
    "            log['acc'] = (acc+log['acc']*i_iter)/(i_iter + 1)\n",
    "    # Record\n",
    "    loss_rec = loss.item()\n",
    "    log['loss'] = (loss_rec+log['loss']*i_iter)/(i_iter + 1)\n",
    "    return pred,loss"
   ]
  },
  {
   "cell_type": "code",
   "execution_count": 13,
   "id": "a72fe8c1",
   "metadata": {},
   "outputs": [
    {
     "name": "stdout",
     "output_type": "stream",
     "text": [
      "mkdir: cannot create directory ‘snapshots’: File exists\n"
     ]
    }
   ],
   "source": [
    "!mkdir snapshots"
   ]
  },
  {
   "cell_type": "code",
   "execution_count": 11,
   "id": "d64895c6",
   "metadata": {},
   "outputs": [],
   "source": [
    "from losses.marginal import AddMarginLoss\n",
    "w=1/torch.tensor(CT_occr,dtype=torch.float32).cuda()\n",
    "criterion_ct = AddMarginLoss(ways=1+CT_ds.n_cats,s=10 ,m=1.4,weight=w)\n",
    "optimizer_ct = torch.optim.SGD(model_ct.parameters(),lr=1e-3,momentum=0.9,weight_decay=0.0005)\n",
    "# optimizer = torch.optim.Adam(model.parameters(),lr=1e-3)\n",
    "# \n",
    "# scheduler = MultiStepLR(optimizer, milestones=[100, 200, 300], gamma=0.1)\n",
    "# "
   ]
  },
  {
   "cell_type": "code",
   "execution_count": 12,
   "id": "c34eee7f",
   "metadata": {},
   "outputs": [
    {
     "name": "stderr",
     "output_type": "stream",
     "text": [
      "288it [01:08,  4.17it/s, epoch=0, step=285, loss=3.86, acc=0.929]\n",
      "288it [01:09,  4.13it/s, epoch=1, step=285, loss=1.79, acc=0.977]\n",
      "72it [00:07,  9.99it/s, epoch=1, step=val, loss=1.6, acc=0.982] \n",
      "288it [01:09,  4.12it/s, epoch=2, step=285, loss=1.61, acc=0.982]\n",
      "288it [01:10,  4.11it/s, epoch=3, step=285, loss=1.53, acc=0.985]\n",
      "72it [00:07,  9.94it/s, epoch=3, step=val, loss=1.45, acc=0.988]\n",
      "288it [01:10,  4.11it/s, epoch=4, step=285, loss=1.49, acc=0.987]\n",
      "288it [01:10,  4.11it/s, epoch=5, step=285, loss=1.47, acc=0.988]\n",
      "72it [00:07,  9.61it/s, epoch=5, step=val, loss=1.4, acc=0.989] \n",
      "288it [01:10,  4.11it/s, epoch=6, step=285, loss=1.44, acc=0.989]\n",
      "288it [01:10,  4.11it/s, epoch=7, step=285, loss=1.43, acc=0.989]\n",
      "72it [00:07,  9.93it/s, epoch=7, step=val, loss=1.38, acc=0.99]\n",
      "288it [01:10,  4.11it/s, epoch=8, step=285, loss=1.42, acc=0.989]\n",
      "288it [01:10,  4.11it/s, epoch=9, step=285, loss=1.42, acc=0.99] \n",
      "72it [00:07, 10.01it/s, epoch=9, step=val, loss=1.36, acc=0.991]\n",
      "288it [01:09,  4.12it/s, epoch=10, step=285, loss=1.41, acc=0.99]\n",
      "288it [01:10,  4.11it/s, epoch=11, step=285, loss=1.4, acc=0.99] \n",
      "72it [00:07, 10.01it/s, epoch=11, step=val, loss=1.35, acc=0.991]\n",
      "288it [01:10,  4.10it/s, epoch=12, step=285, loss=1.4, acc=0.99] \n",
      "288it [01:10,  4.11it/s, epoch=13, step=285, loss=1.4, acc=0.99] \n",
      "72it [00:07,  9.96it/s, epoch=13, step=val, loss=1.37, acc=0.991]\n",
      "288it [01:10,  4.11it/s, epoch=14, step=285, loss=1.39, acc=0.99]\n",
      "288it [01:10,  4.11it/s, epoch=15, step=285, loss=1.4, acc=0.99] \n",
      "72it [00:07, 10.03it/s, epoch=15, step=val, loss=1.36, acc=0.99]\n",
      "288it [01:10,  4.11it/s, epoch=16, step=285, loss=1.39, acc=0.99]\n",
      "288it [01:10,  4.11it/s, epoch=17, step=285, loss=1.39, acc=0.991]\n",
      "72it [00:07,  9.99it/s, epoch=17, step=val, loss=1.36, acc=0.991]\n",
      "288it [01:10,  4.11it/s, epoch=18, step=285, loss=1.39, acc=0.99] \n",
      "288it [01:09,  4.12it/s, epoch=19, step=285, loss=1.38, acc=0.991]\n",
      "72it [00:07, 10.10it/s, epoch=19, step=val, loss=1.35, acc=0.991]\n",
      "288it [01:09,  4.12it/s, epoch=20, step=285, loss=1.38, acc=0.991]\n",
      "288it [01:09,  4.12it/s, epoch=21, step=285, loss=1.38, acc=0.991]\n",
      "53it [00:05,  9.95it/s, epoch=21, step=val, loss=1.3, acc=0.991] "
     ]
    },
    {
     "name": "stdout",
     "output_type": "stream",
     "text": [
      "\n",
      "Human Interrupted\n"
     ]
    },
    {
     "name": "stderr",
     "output_type": "stream",
     "text": [
      "\n"
     ]
    }
   ],
   "source": [
    "from tqdm import tqdm\n",
    "\n",
    "EPOCH=100\n",
    "model_ct.train()\n",
    "best_loss=np.inf\n",
    "PAITIENCE=5\n",
    "count=0\n",
    "try:\n",
    "    for e in range(EPOCH):\n",
    "        log= {'epoch':e,'step':0,'loss': 0, 'acc': 0}\n",
    "        model_ct.train()\n",
    "        CT_ds.training=True\n",
    "        session=tqdm(enumerate(CT_loader))\n",
    "        for i_iter, sample_batched in session:\n",
    "            pred,loss=one_batch(i_iter,log,sample_batched,model_ct,criterion_ct,optimizer_ct)\n",
    "            # print loss and take snapshots\n",
    "            if (i_iter + 1) % 5 == 0:\n",
    "                log['step']=i_iter+1\n",
    "                session.set_postfix(log)\n",
    "        # validate\n",
    "        if (e + 1) % 2 == 0:\n",
    "            log = {'epoch':e,'step':'val','loss': 0, 'acc': 0}\n",
    "            model_ct.eval()\n",
    "            CT_ds.training=False\n",
    "            session=tqdm(enumerate(CT_loader))\n",
    "            with torch.no_grad():\n",
    "                for i_iter,sample_batched in session:\n",
    "                    pred,loss=one_batch(i_iter,log,sample_batched,model_ct,criterion_ct,optimizer_ct)\n",
    "                    if (i_iter + 1) % 5 == 0:\n",
    "                        session.set_postfix(log)\n",
    "            # early stop        \n",
    "            if log[\"loss\"]<best_loss:\n",
    "                best_loss=log[\"loss\"]\n",
    "                torch.save(model_ct.state_dict(), 'snapshots/unet_arc_best.pth')\n",
    "            elif count<=PAITIENCE: count+=1\n",
    "            else:\n",
    "                count=0\n",
    "                best_loss=np.inf\n",
    "                break \n",
    "            \n",
    "except KeyboardInterrupt:\n",
    "    print(\"\\nHuman Interrupted\")\n",
    "torch.save(model_ct.state_dict(), 'snapshots/unet_arc_latest.pth')"
   ]
  },
  {
   "cell_type": "code",
   "execution_count": 18,
   "id": "647abf5b",
   "metadata": {},
   "outputs": [
    {
     "name": "stdout",
     "output_type": "stream",
     "text": [
      "BATCHSIZE= 3\n",
      "(3, 256, 256) \n",
      " (3, 256, 256)\n"
     ]
    },
    {
     "data": {
      "image/png": "[encoded data removed]",
      "text/plain": [
       "<Figure size 216x144 with 6 Axes>"
      ]
     },
     "metadata": {
      "needs_background": "light"
     },
     "output_type": "display_data"
    }
   ],
   "source": [
    "show_image_annot(pred.cpu().detach().argmax(1).numpy(),\n",
    "                 sample_batched[1].cpu().detach().numpy(),\n",
    "                 showPics=3, vmax=CT_ds.n_cats)"
   ]
  },
  {
   "cell_type": "code",
   "execution_count": 14,
   "id": "8fe6158d",
   "metadata": {},
   "outputs": [],
   "source": [
    "backbone.eval()\n",
    "backbone.encoder.train()\n",
    "backbone.requires_grad_(True)\n",
    "# backbone.requires_grad_(False)\n",
    "# for layer_id,p in enumerate(backbone.parameters()):\n",
    "#     if layer_id <2:\n",
    "#         p.requires_grad=True\n",
    "        \n",
    "#     else:\n",
    "#         break\n",
    "mri_head=MetricLayer(n_in_features=latent_dims,n_out_features=1+MRI_ds.n_cats).cuda()\n",
    "model_mri=SegModel(backbone,mri_head,(WIDTH, HEIGHT)).cuda()\n",
    "\n",
    "w=1/torch.tensor(MRI_occr,dtype=torch.float32).cuda()\n",
    "criterion_mri = AddMarginLoss(ways=1+MRI_ds.n_cats,s=10 ,m=1.4,weight=w)\n",
    "optimizer_mri = torch.optim.SGD(model_mri.parameters(),lr=1e-3,momentum=0.9,weight_decay=0.0005)"
   ]
  },
  {
   "cell_type": "code",
   "execution_count": 15,
   "id": "e5ae64c7",
   "metadata": {},
   "outputs": [
    {
     "name": "stderr",
     "output_type": "stream",
     "text": [
      "16it [00:04,  3.80it/s, epoch=0, step=15, loss=13.9, acc=0.517]\n",
      "16it [00:04,  3.79it/s, epoch=1, step=15, loss=10.1, acc=0.871]\n",
      "4it [00:00,  6.68it/s, epoch=1, step=val, loss=8.82, acc=0.905]\n",
      "16it [00:04,  3.78it/s, epoch=2, step=15, loss=8.65, acc=0.905]\n",
      "16it [00:04,  3.78it/s, epoch=3, step=15, loss=7.74, acc=0.91] \n",
      "4it [00:00,  6.90it/s, epoch=3, step=val, loss=7, acc=0.925]   \n",
      "16it [00:04,  3.78it/s, epoch=4, step=15, loss=7.25, acc=0.912]\n",
      "16it [00:04,  3.78it/s, epoch=5, step=15, loss=6.71, acc=0.913]\n",
      "4it [00:00,  7.05it/s, epoch=5, step=val, loss=6.01, acc=0.926]\n",
      "16it [00:04,  3.81it/s, epoch=6, step=15, loss=6.4, acc=0.913] \n",
      "16it [00:04,  3.79it/s, epoch=7, step=15, loss=5.99, acc=0.915]\n",
      "4it [00:00,  6.74it/s, epoch=7, step=val, loss=5.55, acc=0.934]\n",
      "16it [00:04,  3.76it/s, epoch=8, step=15, loss=5.81, acc=0.924]\n",
      "16it [00:04,  3.80it/s, epoch=9, step=15, loss=5.64, acc=0.927]\n",
      "4it [00:00,  6.96it/s, epoch=9, step=val, loss=5.3, acc=0.933] \n",
      "16it [00:04,  3.79it/s, epoch=10, step=15, loss=5.47, acc=0.928]\n",
      "16it [00:04,  3.77it/s, epoch=11, step=15, loss=5.29, acc=0.932]\n",
      "4it [00:00,  7.10it/s, epoch=11, step=val, loss=4.83, acc=0.939]\n",
      "16it [00:04,  3.80it/s, epoch=12, step=15, loss=5.08, acc=0.935]\n",
      "16it [00:04,  3.78it/s, epoch=13, step=15, loss=4.96, acc=0.938]\n",
      "4it [00:00,  6.81it/s, epoch=13, step=val, loss=4.79, acc=0.923]\n",
      "16it [00:04,  3.75it/s, epoch=14, step=15, loss=4.74, acc=0.939]\n",
      "16it [00:04,  3.79it/s, epoch=15, step=15, loss=4.72, acc=0.941]\n",
      "4it [00:00,  6.92it/s, epoch=15, step=val, loss=4.67, acc=0.933]\n",
      "16it [00:04,  3.76it/s, epoch=16, step=15, loss=4.68, acc=0.941]\n",
      "16it [00:04,  3.80it/s, epoch=17, step=15, loss=4.55, acc=0.944]\n",
      "4it [00:00,  6.80it/s, epoch=17, step=val, loss=4.29, acc=0.941]\n",
      "16it [00:04,  3.80it/s, epoch=18, step=15, loss=4.44, acc=0.945]\n",
      "16it [00:04,  3.78it/s, epoch=19, step=15, loss=4.42, acc=0.944]\n",
      "4it [00:00,  7.12it/s, epoch=19, step=val, loss=4.39, acc=0.937]\n",
      "16it [00:04,  3.77it/s, epoch=20, step=15, loss=4.39, acc=0.944]\n",
      "16it [00:04,  3.77it/s, epoch=21, step=15, loss=4.31, acc=0.947]\n",
      "4it [00:00,  6.82it/s, epoch=21, step=val, loss=4.07, acc=0.944]\n",
      "16it [00:04,  3.80it/s, epoch=22, step=15, loss=4.15, acc=0.948]\n",
      "16it [00:04,  3.78it/s, epoch=23, step=15, loss=4.13, acc=0.953]\n",
      "4it [00:00,  7.06it/s, epoch=23, step=val, loss=3.88, acc=0.95] \n",
      "16it [00:04,  3.77it/s, epoch=24, step=15, loss=3.98, acc=0.952]\n",
      "16it [00:04,  3.80it/s, epoch=25, step=15, loss=3.88, acc=0.954]\n",
      "4it [00:00,  7.08it/s, epoch=25, step=val, loss=4.12, acc=0.944]\n",
      "16it [00:04,  3.78it/s, epoch=26, step=15, loss=4.01, acc=0.952]\n",
      "16it [00:04,  3.80it/s, epoch=27, step=15, loss=4.01, acc=0.951]\n",
      "4it [00:00,  6.96it/s, epoch=27, step=val, loss=3.9, acc=0.942] \n",
      "16it [00:04,  3.79it/s, epoch=28, step=15, loss=3.97, acc=0.949]\n",
      "16it [00:04,  3.78it/s, epoch=29, step=15, loss=3.82, acc=0.954]\n",
      "4it [00:00,  7.25it/s, epoch=29, step=val, loss=3.66, acc=0.952]\n",
      "16it [00:04,  3.77it/s, epoch=30, step=15, loss=3.64, acc=0.958]\n",
      "16it [00:04,  3.74it/s, epoch=31, step=15, loss=3.65, acc=0.959]\n",
      "4it [00:00,  6.94it/s, epoch=31, step=val, loss=3.63, acc=0.95] \n",
      "16it [00:04,  3.78it/s, epoch=32, step=15, loss=3.57, acc=0.957]\n",
      "16it [00:04,  3.76it/s, epoch=33, step=15, loss=3.53, acc=0.96]\n",
      "4it [00:00,  6.78it/s, epoch=33, step=val, loss=3.51, acc=0.957]\n",
      "16it [00:04,  3.78it/s, epoch=34, step=15, loss=3.44, acc=0.96]\n",
      "16it [00:04,  3.80it/s, epoch=35, step=15, loss=3.44, acc=0.959]\n",
      "4it [00:00,  6.88it/s, epoch=35, step=val, loss=3.51, acc=0.955]\n",
      "16it [00:04,  3.78it/s, epoch=36, step=15, loss=3.53, acc=0.96] \n",
      "16it [00:04,  3.79it/s, epoch=37, step=15, loss=3.54, acc=0.958]\n",
      "4it [00:00,  6.97it/s, epoch=37, step=val, loss=3.58, acc=0.954]\n",
      "16it [00:04,  3.78it/s, epoch=38, step=15, loss=3.5, acc=0.957] \n",
      "16it [00:04,  3.78it/s, epoch=39, step=15, loss=3.61, acc=0.956]\n",
      "4it [00:00,  7.02it/s, epoch=39, step=val, loss=3.68, acc=0.951]\n",
      "16it [00:04,  3.75it/s, epoch=40, step=15, loss=3.43, acc=0.959]\n",
      "16it [00:04,  3.61it/s, epoch=41, step=15, loss=3.35, acc=0.96] \n",
      "4it [00:00,  6.79it/s, epoch=41, step=val, loss=3.44, acc=0.959]\n",
      "16it [00:04,  3.80it/s, epoch=42, step=15, loss=3.31, acc=0.963]\n",
      "16it [00:04,  3.78it/s, epoch=43, step=15, loss=3.26, acc=0.963]\n",
      "4it [00:00,  6.94it/s, epoch=43, step=val, loss=3.42, acc=0.958]\n",
      "16it [00:04,  3.81it/s, epoch=44, step=15, loss=3.2, acc=0.964] \n",
      "16it [00:04,  3.76it/s, epoch=45, step=15, loss=3.26, acc=0.964]\n",
      "4it [00:00,  6.94it/s, epoch=45, step=val, loss=3.43, acc=0.953]\n",
      "16it [00:04,  3.80it/s, epoch=46, step=15, loss=3.3, acc=0.962] \n",
      "16it [00:04,  3.79it/s, epoch=47, step=15, loss=3.37, acc=0.961]\n",
      "4it [00:00,  7.30it/s, epoch=47, step=val, loss=3.69, acc=0.951]\n"
     ]
    }
   ],
   "source": [
    "from tqdm import tqdm\n",
    "\n",
    "EPOCH=300\n",
    "model_mri.train()\n",
    "best_loss=np.inf\n",
    "PAITIENCE=5\n",
    "count=0\n",
    "try:\n",
    "    for e in range(EPOCH):\n",
    "        log= {'epoch':e,'step':0,'loss': 0, 'acc': 0}\n",
    "        model_mri.train()\n",
    "        MRI_ds.training=True\n",
    "        session=tqdm(enumerate(MRI_loader))\n",
    "        for i_iter, sample_batched in session:\n",
    "            pred,loss=one_batch(i_iter,log,sample_batched,model_mri,criterion_mri,optimizer_mri)\n",
    "            # print loss and take snapshots\n",
    "            if (i_iter + 1) % 5 == 0:\n",
    "                log['step']=i_iter+1\n",
    "                session.set_postfix(log)\n",
    "        # validate\n",
    "        if (e + 1) % 2 == 0:\n",
    "            log = {'epoch':e,'step':'val','loss': 0, 'acc': 0}\n",
    "            model_mri.eval()\n",
    "            MRI_ds.training=False\n",
    "            session=tqdm(enumerate(MRI_loader))\n",
    "            with torch.no_grad():\n",
    "                for i_iter,sample_batched in session:\n",
    "                    pred,loss=one_batch(i_iter,log,sample_batched,model_mri,criterion_mri,optimizer_mri)\n",
    "                    session.set_postfix(log)\n",
    "                        \n",
    "            # early stop        \n",
    "            if log[\"loss\"]<best_loss:\n",
    "                best_loss=log[\"loss\"]\n",
    "                torch.save(model_mri.state_dict(), 'snapshots/unet_arc_mri_best.pth')\n",
    "            elif count<=PAITIENCE: count+=1\n",
    "            else:\n",
    "                count=0\n",
    "                best_loss=np.inf\n",
    "                break \n",
    "            \n",
    "except KeyboardInterrupt:\n",
    "    print(\"\\nHuman Interrupted\")\n",
    "torch.save(model_mri.state_dict(), 'snapshots/unet_arc_mri_latest.pth')"
   ]
  },
  {
   "cell_type": "code",
   "execution_count": 26,
   "id": "ed60ae95",
   "metadata": {},
   "outputs": [
    {
     "name": "stderr",
     "output_type": "stream",
     "text": [
      "0it [00:00, ?it/s, epoch=47, step=val, loss=2.93, acc=0.959]\n"
     ]
    }
   ],
   "source": [
    "model_mri.eval()\n",
    "MRI_ds.training=False\n",
    "session=tqdm(enumerate(MRI_loader))\n",
    "with torch.no_grad():\n",
    "    for i_iter,sample_batched in session:\n",
    "        pred,loss=one_batch(i_iter,log,sample_batched,model_mri,criterion_mri,optimizer_mri)\n",
    "        session.set_postfix(log)\n",
    "        break"
   ]
  },
  {
   "cell_type": "code",
   "execution_count": 31,
   "id": "5cb8134c",
   "metadata": {},
   "outputs": [
    {
     "name": "stdout",
     "output_type": "stream",
     "text": [
      "BATCHSIZE= 8\n",
      "(8, 256, 256) \n",
      " (8, 256, 256)\n"
     ]
    },
    {
     "data": {
      "image/png": "[encoded data removed]",
      "text/plain": [
       "<Figure size 576x144 with 16 Axes>"
      ]
     },
     "metadata": {
      "needs_background": "light"
     },
     "output_type": "display_data"
    }
   ],
   "source": [
    "show_image_annot((pred.cpu().detach()[:,2]>=0.3).numpy(),\n",
    "                 (sample_batched[1]==2).cpu().detach().numpy(),\n",
    "                 showPics=8, vmax=1)"
   ]
  },
  {
   "cell_type": "code",
   "execution_count": 95,
   "id": "51651688",
   "metadata": {},
   "outputs": [
    {
     "data": {
      "text/plain": [
       "{0, 1, 2, 3, 4, 5}"
      ]
     },
     "execution_count": 95,
     "metadata": {},
     "output_type": "execute_result"
    }
   ],
   "source": [
    "set(sample_batched[1].flatten().numpy())"
   ]
  },
  {
   "cell_type": "code",
   "execution_count": 42,
   "id": "f6e5d17c",
   "metadata": {},
   "outputs": [],
   "source": [
    "# from dataloaders.ctmri_multiclass import CTMRI_InferenceDataset\n",
    "from pycocotools.coco import COCO\n",
    "from pydicom import dcmread\n",
    "def load_dcm(fname):\n",
    "    ds=dcmread(fname).pixel_array\n",
    "    # 調整格式以配合albumentation套件需求\n",
    "    return ds.astype('uint8')\n",
    "class CTMRI_InferenceDataset(tud.Dataset):\n",
    "    def __init__(self,anno_file,\n",
    "                 root_dir,\n",
    "                 test_transform=None):\n",
    "        \n",
    "        self.root_dir=root_dir\n",
    "        self.test_transform=test_transform\n",
    "        self.coco_obj=COCO(anno_file)\n",
    "        self.element=self.coco_obj.imgs\n",
    "        self.n_cats=len(self.coco_obj.cats)\n",
    "        self.cat_ids=list(self.coco_obj.cats.keys())\n",
    "    def __len__(self) -> int:\n",
    "        return len(self.element)\n",
    "    def __getitem__(self,id):\n",
    "        img_obj=self.element[id]\n",
    "        transform=self.test_transform\n",
    "        # Read dcm to image\n",
    "        image = load_dcm(join(self.root_dir,img_obj['file_name']))\n",
    "        # Albumentation\n",
    "        if transform:\n",
    "            transformed = transform(image=image)\n",
    "            image= transformed['image']\n",
    "        # Image preparation    \n",
    "        image = image[np.newaxis,...].repeat(3,axis=0)\n",
    "        return image"
   ]
  },
  {
   "cell_type": "code",
   "execution_count": 61,
   "id": "09f4e511",
   "metadata": {},
   "outputs": [
    {
     "name": "stdout",
     "output_type": "stream",
     "text": [
      "loading annotations into memory...\n",
      "Done (t=0.00s)\n",
      "creating index...\n",
      "index created!\n"
     ]
    }
   ],
   "source": [
    "ldr_kwargs=dict(\n",
    "    batch_size=8,\n",
    "    shuffle=False,\n",
    "    pin_memory=False,\n",
    "    num_workers=2\n",
    ")\n",
    "test_root_dir=join(DATA_ROOT,\"testset\")\n",
    "test_anno_file=join(DATA_ROOT,\"testset\",\"annotations/annotations.json\")\n",
    "test_ds=CTMRI_InferenceDataset(test_anno_file,test_root_dir,test_transform=test_transform)\n",
    "MRI_loader=tud.DataLoader(test_ds,**ldr_kwargs)"
   ]
  },
  {
   "cell_type": "code",
   "execution_count": 69,
   "id": "460160d4",
   "metadata": {},
   "outputs": [],
   "source": [
    "model_mri.eval()\n",
    "pred=[]\n",
    "with torch.no_grad():\n",
    "    for xx in MRI_loader:\n",
    "        pred.append(model_mri(xx.cuda()))\n",
    "pred=torch.cat(pred)"
   ]
  },
  {
   "cell_type": "code",
   "execution_count": 70,
   "id": "b4142b43",
   "metadata": {},
   "outputs": [
    {
     "data": {
      "text/plain": [
       "torch.Size([160, 6, 256, 256])"
      ]
     },
     "execution_count": 70,
     "metadata": {},
     "output_type": "execute_result"
    }
   ],
   "source": [
    "pred.shape"
   ]
  },
  {
   "cell_type": "code",
   "execution_count": 73,
   "id": "19badffe",
   "metadata": {},
   "outputs": [],
   "source": [
    "predictions=pred.cpu().detach().numpy()"
   ]
  },
  {
   "cell_type": "code",
   "execution_count": 75,
   "id": "015f7761",
   "metadata": {},
   "outputs": [],
   "source": [
    "np.savez(\"prediction.npz\",predictions)"
   ]
  },
  {
   "cell_type": "code",
   "execution_count": null,
   "id": "6852a01e",
   "metadata": {},
   "outputs": [],
   "source": [
    "def mask2rle(img):\n",
    "    \"\"\"\n",
    "    img: numpy array, 1 - mask, 0 - background\n",
    "    Returns run length as string formatted\n",
    "    \"\"\"\n",
    "    pixels = img.flatten()\n",
    "    pixels = np.concatenate([[0], pixels, [0]])\n",
    "    runs = np.where(pixels[1:] != pixels[:-1])[0] + 1\n",
    "    runs[1::2] -= runs[::2]\n",
    "    return ' '.join(str(x) for x in runs)\n",
    "# output=[*map(mask2rle,(pred.argmax(1)==2).astype(\"int8\"))]\n",
    "output=[*map(mask2rle,(predictions[:,2]>0.55).astype(\"int8\"))]"
   ]
  }
 ],
 "metadata": {
  "kernelspec": {
   "display_name": "Python 3 (ipykernel)",
   "language": "python",
   "name": "python3"
  },
  "language_info": {
   "codemirror_mode": {
    "name": "ipython",
    "version": 3
   },
   "file_extension": ".py",
   "mimetype": "text/x-python",
   "name": "python",
   "nbconvert_exporter": "python",
   "pygments_lexer": "ipython3",
   "version": "3.7.10"
  }
 },
 "nbformat": 4,
 "nbformat_minor": 5
}
