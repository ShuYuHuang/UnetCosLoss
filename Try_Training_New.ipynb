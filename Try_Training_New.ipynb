{
 "cells": [
  {
   "cell_type": "code",
   "execution_count": 4,
   "id": "e2bd1ee9",
   "metadata": {},
   "outputs": [],
   "source": [
    "!pip install -q -r requirements.txt"
   ]
  },
  {
   "cell_type": "code",
   "execution_count": 7,
   "id": "3d9e990f",
   "metadata": {
    "collapsed": true,
    "jupyter": {
     "outputs_hidden": true
    }
   },
   "outputs": [
    {
     "name": "stdout",
     "output_type": "stream",
     "text": [
      "Found existing installation: opencv-python-headless 4.5.5.64\n",
      "Uninstalling opencv-python-headless-4.5.5.64:\n",
      "  Successfully uninstalled opencv-python-headless-4.5.5.64\n",
      "Collecting opencv-python-headless==4.1.2.30\n",
      "  Using cached opencv_python_headless-4.1.2.30-cp37-cp37m-manylinux1_x86_64.whl (21.8 MB)\n",
      "Requirement already satisfied: numpy>=1.14.5 in /opt/conda/lib/python3.7/site-packages (from opencv-python-headless==4.1.2.30) (1.21.2)\n",
      "Installing collected packages: opencv-python-headless\n",
      "Successfully installed opencv-python-headless-4.1.2.30\n"
     ]
    }
   ],
   "source": [
    "!pip uninstall -y opencv-python-headless\n",
    "!pip install opencv-python-headless==4.1.2.30"
   ]
  },
  {
   "cell_type": "markdown",
   "id": "49e70eca",
   "metadata": {},
   "source": [
    "## Data Loading"
   ]
  },
  {
   "cell_type": "code",
   "execution_count": 1,
   "id": "6f86065e",
   "metadata": {},
   "outputs": [],
   "source": [
    "from os.path import join\n",
    "import numpy as np \n",
    "import torch\n",
    "import warnings\n",
    "warnings.filterwarnings('ignore')"
   ]
  },
  {
   "cell_type": "code",
   "execution_count": 2,
   "id": "62218372",
   "metadata": {},
   "outputs": [],
   "source": [
    "DATA_ROOT=\"./data/\"\n",
    "\n",
    "MRI_root_dir=join(DATA_ROOT,\"MRI\",\"MRI_Label\")\n",
    "MRI_anno_file=join(DATA_ROOT,\"MRI\",\"annotations/MRI_Label/annotations.json\")\n",
    "\n",
    "CT_root_dir=join(DATA_ROOT,\"CT\")\n",
    "CT_anno_file=join(DATA_ROOT,\"CT\",\"annotations/annotations.json\")"
   ]
  },
  {
   "cell_type": "code",
   "execution_count": 3,
   "id": "c95006b7",
   "metadata": {},
   "outputs": [],
   "source": [
    "from dataloaders.ctmri_multiclass import CTMRI_MultiClassDataset\n",
    "import albumentations as A\n",
    "WIDTH, HEIGHT=256,256\n",
    "\n",
    "class DivMax(A.ImageOnlyTransform):\n",
    "    def __init__(self, always_apply=True, p=1.0):\n",
    "        super().__init__(always_apply, p)\n",
    "    def apply(self, img, **params):\n",
    "        img=img/np.max(img)\n",
    "#         img[img<0.25]=0\n",
    "#         img[img>0.65]=0\n",
    "        return img\n",
    "    \n",
    "transform = A.Compose([\n",
    "  A.ToFloat(always_apply=True),\n",
    "  DivMax(always_apply=True),\n",
    "  A.Resize(WIDTH, HEIGHT),\n",
    "  A.HorizontalFlip(p=0.5),\n",
    "  A.RandomBrightnessContrast(brightness_limit=[-0.05, 0.05], p=0.2),\n",
    "  A.Rotate((-30, 30), interpolation=0), \n",
    "  A.RandomContrast(limit=0.2, p=1),   \n",
    "])\n",
    "\n",
    "test_transform = A.Compose([           \n",
    "  A.ToFloat(always_apply=True),\n",
    "  DivMax(always_apply=True),\n",
    "  A.Resize(WIDTH, HEIGHT),\n",
    "])"
   ]
  },
  {
   "cell_type": "code",
   "execution_count": 4,
   "id": "289685c2",
   "metadata": {},
   "outputs": [
    {
     "name": "stdout",
     "output_type": "stream",
     "text": [
      "loading annotations into memory...\n",
      "Done (t=0.00s)\n",
      "creating index...\n",
      "index created!\n",
      "loading annotations into memory...\n",
      "Done (t=0.01s)\n",
      "creating index...\n",
      "index created!\n"
     ]
    }
   ],
   "source": [
    "ds_kwargs=dict(\n",
    "    transform=transform,\n",
    "    test_transform=test_transform,\n",
    "    test_split=0.2\n",
    "    )\n",
    "MRI_ds=CTMRI_MultiClassDataset(MRI_anno_file,MRI_root_dir,**ds_kwargs)\n",
    "CT_ds=CTMRI_MultiClassDataset(CT_anno_file,CT_root_dir,**ds_kwargs)"
   ]
  },
  {
   "cell_type": "code",
   "execution_count": 5,
   "id": "a23ace1c",
   "metadata": {},
   "outputs": [],
   "source": [
    "import torch.utils.data as tud\n",
    "ldr_kwargs=dict(\n",
    "    batch_size=8,\n",
    "    shuffle=True,\n",
    "    pin_memory=False,\n",
    "    num_workers=2\n",
    ")\n",
    "CT_loader=tud.DataLoader(CT_ds,**ldr_kwargs)\n",
    "MRI_loader=tud.DataLoader(MRI_ds,**ldr_kwargs)"
   ]
  },
  {
   "cell_type": "code",
   "execution_count": 6,
   "id": "a10c83d4",
   "metadata": {},
   "outputs": [],
   "source": [
    "from dataloaders.ctmri_multiclass import occr_in_ds\n",
    "\n",
    "MRI_occr=occr_in_ds(MRI_ds)\n",
    "CT_occr=occr_in_ds(CT_ds)"
   ]
  },
  {
   "cell_type": "code",
   "execution_count": 7,
   "id": "57a52b1c",
   "metadata": {},
   "outputs": [
    {
     "name": "stdout",
     "output_type": "stream",
     "text": [
      "BATCHSIZE= 3\n",
      "(3, 256, 256, 3) \n",
      " (3, 256, 256)\n"
     ]
    },
    {
     "data": {
      "image/png": "[encoded data removed]",
      "text/plain": [
       "<Figure size 216x144 with 6 Axes>"
      ]
     },
     "metadata": {
      "needs_background": "light"
     },
     "output_type": "display_data"
    }
   ],
   "source": [
    "from utils.plotting import show_image_annot\n",
    "CT_ds.training=True\n",
    "x,y=next(iter(CT_loader))\n",
    "show_image_annot(x.numpy().transpose(0,2,3,1),y.numpy(),showPics=3, vmax=CT_ds.n_cats)"
   ]
  },
  {
   "cell_type": "code",
   "execution_count": 8,
   "id": "05602216",
   "metadata": {},
   "outputs": [
    {
     "data": {
      "text/plain": [
       "{0, 1, 2}"
      ]
     },
     "execution_count": 8,
     "metadata": {},
     "output_type": "execute_result"
    }
   ],
   "source": [
    "set(y.flatten().numpy())"
   ]
  },
  {
   "cell_type": "code",
   "execution_count": 9,
   "id": "db572342",
   "metadata": {},
   "outputs": [
    {
     "name": "stderr",
     "output_type": "stream",
     "text": [
      "Using cache found in /home/jovyan/.cache/torch/hub/mateuszbuda_brain-segmentation-pytorch_master\n"
     ]
    }
   ],
   "source": [
    "# from torch import nn\n",
    "\n",
    "# from models.backbone import UNet\n",
    "from models.unet import UNet\n",
    "from models.head import MetricLayer\n",
    "from models.models import SegModel\n",
    "# backbone=UNet(decoder_chs=(512, 256, 128)).cuda()\n",
    "# latent_dims=128\n",
    "\n",
    "unet_pretrain = torch.hub.load('mateuszbuda/brain-segmentation-pytorch', 'unet',\n",
    "    in_channels=3, out_channels=1, init_features=32, pretrained=True).cuda()\n",
    "backbone=UNet(unet_pretrain).cuda()\n",
    "latent_dims=32\n",
    "head_ct=MetricLayer(n_in_features=latent_dims,n_out_features=1+CT_ds.n_cats).cuda()\n",
    "model_ct=SegModel(backbone,head_ct,(WIDTH, HEIGHT)).cuda()"
   ]
  },
  {
   "cell_type": "code",
   "execution_count": 10,
   "id": "2aa32ac7",
   "metadata": {},
   "outputs": [],
   "source": [
    "# from torchsummary import summary\n",
    "# summary(backbone.encoder, (3, 224, 224))"
   ]
  },
  {
   "cell_type": "code",
   "execution_count": 11,
   "id": "606b4c6f",
   "metadata": {},
   "outputs": [],
   "source": [
    "def calc_acc(pred, y):\n",
    "    correct=(pred.argmax(1)==y).flatten()\n",
    "    return torch.sum(correct)/len(correct)\n",
    "def one_batch(i_iter,log,sample_batched,model,criterion,optimizer):\n",
    "    # Prep input\n",
    "    x,y=[_.cuda() for _ in sample_batched]\n",
    "    pred=model(x)\n",
    "    loss = criterion(pred, y)\n",
    "    if model.training:\n",
    "        #Update\n",
    "        loss.backward()\n",
    "        optimizer.step()\n",
    "        optimizer.zero_grad()\n",
    "    with torch.no_grad():\n",
    "        acc=calc_acc(pred, y).item()\n",
    "        if i_iter==0:\n",
    "            log['acc'] = acc\n",
    "        else:\n",
    "            log['acc'] = (acc+log['acc']*i_iter)/(i_iter + 1)\n",
    "    # Record\n",
    "    loss_rec = loss.item()\n",
    "    log['loss'] = (loss_rec+log['loss']*i_iter)/(i_iter + 1)\n",
    "    return pred,loss"
   ]
  },
  {
   "cell_type": "code",
   "execution_count": 12,
   "id": "7ed26304",
   "metadata": {},
   "outputs": [
    {
     "name": "stdout",
     "output_type": "stream",
     "text": [
      "mkdir: cannot create directory ‘snapshots’: File exists\n"
     ]
    }
   ],
   "source": [
    "!mkdir snapshots"
   ]
  },
  {
   "cell_type": "code",
   "execution_count": 13,
   "id": "f18f48f8",
   "metadata": {},
   "outputs": [],
   "source": [
    "from losses.marginal import AddMarginLoss\n",
    "# w=1/torch.tensor(CT_occr,dtype=torch.float32).cuda()\n",
    "w=torch.tensor([0.1,0.1,0.8],dtype=torch.float32).cuda()\n",
    "criterion_ct = AddMarginLoss(ways=1+CT_ds.n_cats,s=10 ,m=1.4,weight=w)\n",
    "optimizer_ct = torch.optim.SGD(model_ct.parameters(),lr=1e-3,momentum=0.9,weight_decay=0.0005)\n",
    "# optimizer = torch.optim.Adam(model.parameters(),lr=1e-3)\n",
    "# \n",
    "# scheduler = MultiStepLR(optimizer, milestones=[100, 200, 300], gamma=0.1)\n",
    "# "
   ]
  },
  {
   "cell_type": "code",
   "execution_count": 14,
   "id": "7f91a111",
   "metadata": {},
   "outputs": [],
   "source": [
    "from tqdm import tqdm"
   ]
  },
  {
   "cell_type": "code",
   "execution_count": 15,
   "id": "73aabbd5",
   "metadata": {},
   "outputs": [
    {
     "name": "stderr",
     "output_type": "stream",
     "text": [
      "288it [00:35,  8.21it/s, epoch=0, step=285, loss=5.54, acc=0.892]\n",
      "288it [00:35,  8.16it/s, epoch=1, step=285, loss=3.33, acc=0.956]\n",
      "72it [00:03, 18.89it/s, epoch=1, step=val, loss=3.17, acc=0.964]\n",
      "288it [00:35,  8.11it/s, epoch=2, step=285, loss=3.04, acc=0.967]\n",
      "288it [00:35,  8.09it/s, epoch=3, step=285, loss=2.93, acc=0.971]\n",
      "72it [00:03, 18.60it/s, epoch=3, step=val, loss=2.74, acc=0.98] \n",
      "288it [00:35,  8.07it/s, epoch=4, step=285, loss=2.82, acc=0.975]\n",
      "288it [00:35,  8.07it/s, epoch=5, step=285, loss=2.68, acc=0.979]\n",
      "72it [00:03, 18.84it/s, epoch=5, step=val, loss=2.58, acc=0.985]\n",
      "288it [00:35,  8.07it/s, epoch=6, step=285, loss=2.61, acc=0.982]\n",
      "288it [00:35,  8.04it/s, epoch=7, step=285, loss=2.61, acc=0.982]\n",
      "72it [00:03, 18.19it/s, epoch=7, step=val, loss=2.52, acc=0.986]\n",
      "288it [00:35,  8.06it/s, epoch=8, step=285, loss=2.56, acc=0.984]\n",
      "288it [00:35,  8.05it/s, epoch=9, step=285, loss=2.55, acc=0.984]\n",
      "72it [00:03, 18.85it/s, epoch=9, step=val, loss=2.47, acc=0.986]\n",
      "288it [00:35,  8.05it/s, epoch=10, step=285, loss=2.52, acc=0.985]\n",
      "288it [00:35,  8.05it/s, epoch=11, step=285, loss=2.51, acc=0.985]\n",
      "72it [00:03, 18.60it/s, epoch=11, step=val, loss=2.53, acc=0.983]\n",
      "288it [00:35,  8.06it/s, epoch=12, step=285, loss=2.54, acc=0.984]\n",
      "288it [00:35,  8.05it/s, epoch=13, step=285, loss=2.52, acc=0.985]\n",
      "72it [00:03, 18.89it/s, epoch=13, step=val, loss=2.45, acc=0.987]\n",
      "288it [00:35,  8.04it/s, epoch=14, step=285, loss=2.48, acc=0.986]\n",
      "288it [00:35,  8.05it/s, epoch=15, step=285, loss=2.51, acc=0.985]\n",
      "72it [00:03, 18.58it/s, epoch=15, step=val, loss=2.53, acc=0.986]\n",
      "288it [00:35,  8.02it/s, epoch=16, step=285, loss=2.48, acc=0.986]\n",
      "288it [00:36,  7.99it/s, epoch=17, step=285, loss=2.46, acc=0.987]\n",
      "72it [00:03, 18.79it/s, epoch=17, step=val, loss=2.41, acc=0.989]\n",
      "288it [00:36,  7.99it/s, epoch=18, step=285, loss=2.45, acc=0.987]\n",
      "288it [00:36,  7.98it/s, epoch=19, step=285, loss=2.44, acc=0.987]\n",
      "72it [00:03, 18.64it/s, epoch=19, step=val, loss=2.4, acc=0.989]\n",
      "288it [00:35,  8.03it/s, epoch=20, step=285, loss=2.44, acc=0.988]\n",
      "288it [00:35,  8.02it/s, epoch=21, step=285, loss=2.44, acc=0.988]\n",
      "72it [00:03, 18.26it/s, epoch=21, step=val, loss=2.42, acc=0.987]\n",
      "288it [00:35,  8.01it/s, epoch=22, step=285, loss=2.46, acc=0.987]\n",
      "288it [00:35,  8.01it/s, epoch=23, step=285, loss=2.43, acc=0.988]\n",
      "72it [00:03, 18.86it/s, epoch=23, step=val, loss=2.4, acc=0.99]  \n",
      "288it [00:35,  8.01it/s, epoch=24, step=285, loss=2.45, acc=0.987]\n",
      "288it [00:35,  8.01it/s, epoch=25, step=285, loss=2.42, acc=0.988]\n",
      "72it [00:03, 18.57it/s, epoch=25, step=val, loss=2.38, acc=0.99] \n",
      "288it [00:35,  8.01it/s, epoch=26, step=285, loss=2.43, acc=0.988]\n",
      "288it [00:35,  8.02it/s, epoch=27, step=285, loss=2.41, acc=0.989]\n",
      "72it [00:04, 17.73it/s, epoch=27, step=val, loss=2.37, acc=0.99]\n",
      "288it [00:35,  8.04it/s, epoch=28, step=285, loss=2.41, acc=0.989]\n",
      "288it [00:36,  7.99it/s, epoch=29, step=285, loss=2.41, acc=0.989]\n",
      "72it [00:03, 18.69it/s, epoch=29, step=val, loss=2.38, acc=0.989]\n",
      "288it [00:36,  8.00it/s, epoch=30, step=285, loss=2.41, acc=0.989]\n",
      "288it [00:35,  8.02it/s, epoch=31, step=285, loss=2.41, acc=0.989]\n",
      "72it [00:03, 18.61it/s, epoch=31, step=val, loss=2.4, acc=0.989] \n",
      "288it [00:35,  8.00it/s, epoch=32, step=285, loss=2.41, acc=0.989]\n",
      "288it [00:35,  8.01it/s, epoch=33, step=285, loss=2.4, acc=0.989] \n",
      "72it [00:03, 18.42it/s, epoch=33, step=val, loss=2.37, acc=0.991]\n",
      "288it [00:35,  8.01it/s, epoch=34, step=285, loss=2.4, acc=0.989]\n",
      "288it [00:35,  8.01it/s, epoch=35, step=285, loss=2.4, acc=0.989]\n",
      "72it [00:03, 18.61it/s, epoch=35, step=val, loss=2.36, acc=0.991]\n",
      "288it [00:35,  8.01it/s, epoch=36, step=285, loss=2.4, acc=0.989] \n",
      "288it [00:35,  8.04it/s, epoch=37, step=285, loss=2.43, acc=0.988]\n",
      "72it [00:03, 18.47it/s, epoch=37, step=val, loss=2.39, acc=0.991]\n"
     ]
    }
   ],
   "source": [
    "EPOCH=100\n",
    "model_ct.train()\n",
    "best_loss=np.inf\n",
    "PAITIENCE=5\n",
    "count=0\n",
    "try:\n",
    "    for e in range(EPOCH):\n",
    "        log= {'epoch':e,'step':0,'loss': 0, 'acc': 0}\n",
    "        model_ct.train()\n",
    "        CT_ds.training=True\n",
    "        session=tqdm(enumerate(CT_loader))\n",
    "        for i_iter, sample_batched in session:\n",
    "            pred,loss=one_batch(i_iter,log,sample_batched,model_ct,criterion_ct,optimizer_ct)\n",
    "            # print loss and take snapshots\n",
    "            if (i_iter + 1) % 5 == 0:\n",
    "                log['step']=i_iter+1\n",
    "                session.set_postfix(log)\n",
    "        # validate\n",
    "        if (e + 1) % 2 == 0:\n",
    "            log = {'epoch':e,'step':'val','loss': 0, 'acc': 0}\n",
    "            model_ct.eval()\n",
    "            CT_ds.training=False\n",
    "            session=tqdm(enumerate(CT_loader))\n",
    "            with torch.no_grad():\n",
    "                for i_iter,sample_batched in session:\n",
    "                    pred,loss=one_batch(i_iter,log,sample_batched,model_ct,criterion_ct,optimizer_ct)\n",
    "                    if (i_iter + 1) % 5 == 0:\n",
    "                        session.set_postfix(log)\n",
    "            # early stop        \n",
    "            if log[\"loss\"]<best_loss:\n",
    "                best_loss=log[\"loss\"]\n",
    "                torch.save(model_ct.state_dict(), 'snapshots/unet_arc_ct_best.pth')\n",
    "            elif count<=PAITIENCE: count+=1\n",
    "            else:\n",
    "                count=0\n",
    "                best_loss=np.inf\n",
    "                break \n",
    "            \n",
    "except KeyboardInterrupt:\n",
    "    print(\"\\nHuman Interrupted\")\n",
    "torch.save(model_ct.state_dict(), 'snapshots/unet_arc_ct_latest.pth')"
   ]
  },
  {
   "cell_type": "code",
   "execution_count": 47,
   "id": "1d18497d",
   "metadata": {},
   "outputs": [
    {
     "data": {
      "text/plain": [
       "<All keys matched successfully>"
      ]
     },
     "execution_count": 47,
     "metadata": {},
     "output_type": "execute_result"
    }
   ],
   "source": [
    "model_ct.load_state_dict(torch.load(\"snapshots/unet_arc_ct_best.pth\"))"
   ]
  },
  {
   "cell_type": "code",
   "execution_count": 16,
   "id": "5f47ddfe",
   "metadata": {},
   "outputs": [
    {
     "name": "stderr",
     "output_type": "stream",
     "text": [
      "0it [00:00, ?it/s, epoch=1, step=test, loss=2.42, acc=0.991]\n"
     ]
    }
   ],
   "source": [
    "model_ct.eval()\n",
    "CT_ds.training=False\n",
    "session=tqdm(enumerate(CT_loader))\n",
    "with torch.no_grad():\n",
    "    log = {'epoch':1,'step':'test','loss': 0, 'acc': 0}\n",
    "    for i_iter,sample_batched in session:\n",
    "        pred,loss=one_batch(i_iter,log,sample_batched,model_ct,criterion_ct,optimizer_ct)\n",
    "        session.set_postfix(log)\n",
    "        break"
   ]
  },
  {
   "cell_type": "code",
   "execution_count": 17,
   "id": "3dedc570",
   "metadata": {},
   "outputs": [
    {
     "name": "stdout",
     "output_type": "stream",
     "text": [
      "BATCHSIZE= 3\n",
      "(3, 256, 256) \n",
      " (3, 256, 256)\n"
     ]
    },
    {
     "data": {
      "image/png": "[encoded data removed]",
      "text/plain": [
       "<Figure size 216x144 with 6 Axes>"
      ]
     },
     "metadata": {
      "needs_background": "light"
     },
     "output_type": "display_data"
    }
   ],
   "source": [
    "show_image_annot(pred.cpu().detach().argmax(1).numpy(),\n",
    "                 sample_batched[1].cpu().detach().numpy(),\n",
    "                 showPics=3, vmax=CT_ds.n_cats)"
   ]
  },
  {
   "cell_type": "code",
   "execution_count": 18,
   "id": "3b54d66e",
   "metadata": {},
   "outputs": [],
   "source": [
    "backbone.train()\n",
    "backbone.requires_grad_(True)\n",
    "head_ct.eval()\n",
    "head_ct.requires_grad_(False)\n",
    "# backbone.encoder.train()\n",
    "# backbone.encoder.requires_grad_(True)\n",
    "# backbone.requires_grad_(False)\n",
    "# for layer_id,p in enumerate(backbone.parameters()):\n",
    "#     if layer_id <2:\n",
    "#         p.requires_grad=True\n",
    "        \n",
    "#     else:\n",
    "#         break\n",
    "\n",
    "WAYS=1+CT_ds.n_cats\n",
    "# mri_head=MetricLayer(n_in_features=latent_dims,n_out_features=WAYS).cuda()\n",
    "model_mri=SegModel(backbone,head_ct,(WIDTH, HEIGHT)).cuda()\n",
    "\n",
    "w=1/torch.tensor(MRI_occr[:WAYS],dtype=torch.float32).cuda()\n",
    "# w=torch.tensor([0.1,0.1,0.2,0.2,0.2,0.2],dtype=torch.float32).cuda()\n",
    "criterion_mri = AddMarginLoss(ways=WAYS,s=10 ,m=1.4,weight=w)\n",
    "optimizer_mri = torch.optim.SGD(model_mri.parameters(),lr=1e-3,momentum=0.9,weight_decay=0.0005)"
   ]
  },
  {
   "cell_type": "code",
   "execution_count": 19,
   "id": "800f7381",
   "metadata": {},
   "outputs": [
    {
     "name": "stderr",
     "output_type": "stream",
     "text": [
      "16it [00:02,  7.84it/s, epoch=0, step=15, loss=5.74, acc=0.904]\n",
      "16it [00:02,  7.85it/s, epoch=1, step=15, loss=4.6, acc=0.946] \n",
      "4it [00:00, 11.57it/s, epoch=1, step=val, loss=4.54, acc=0.952]\n",
      "16it [00:01,  8.04it/s, epoch=2, step=15, loss=4.14, acc=0.957]\n",
      "16it [00:01,  8.02it/s, epoch=3, step=15, loss=4.02, acc=0.959]\n",
      "4it [00:00, 11.89it/s, epoch=3, step=val, loss=3.98, acc=0.96] \n",
      "16it [00:02,  7.96it/s, epoch=4, step=15, loss=3.86, acc=0.964]\n",
      "16it [00:02,  7.94it/s, epoch=5, step=15, loss=3.78, acc=0.964]\n",
      "4it [00:00, 12.17it/s, epoch=5, step=val, loss=3.68, acc=0.968]\n",
      "16it [00:02,  7.96it/s, epoch=6, step=15, loss=3.64, acc=0.964]\n",
      "16it [00:02,  7.91it/s, epoch=7, step=15, loss=3.56, acc=0.968]\n",
      "4it [00:00, 12.57it/s, epoch=7, step=val, loss=3.57, acc=0.969]\n",
      "16it [00:02,  7.82it/s, epoch=8, step=15, loss=3.5, acc=0.97]  \n",
      "16it [00:02,  7.94it/s, epoch=9, step=15, loss=3.62, acc=0.967]\n",
      "4it [00:00, 11.34it/s, epoch=9, step=val, loss=3.51, acc=0.968]\n",
      "16it [00:02,  7.96it/s, epoch=10, step=15, loss=3.49, acc=0.969]\n",
      "16it [00:02,  7.86it/s, epoch=11, step=15, loss=3.41, acc=0.972]\n",
      "4it [00:00, 12.29it/s, epoch=11, step=val, loss=3.62, acc=0.967]\n",
      "16it [00:02,  7.98it/s, epoch=12, step=15, loss=3.44, acc=0.969]\n",
      "16it [00:02,  7.81it/s, epoch=13, step=15, loss=3.35, acc=0.972]\n",
      "4it [00:00, 12.17it/s, epoch=13, step=val, loss=3.53, acc=0.972]\n",
      "16it [00:02,  7.84it/s, epoch=14, step=15, loss=3.4, acc=0.969] \n",
      "16it [00:02,  7.92it/s, epoch=15, step=15, loss=3.37, acc=0.972]\n",
      "4it [00:00, 12.08it/s, epoch=15, step=val, loss=3.3, acc=0.974] \n",
      "16it [00:02,  7.92it/s, epoch=16, step=15, loss=3.29, acc=0.974]\n",
      "16it [00:02,  7.92it/s, epoch=17, step=15, loss=3.22, acc=0.973]\n",
      "4it [00:00, 11.90it/s, epoch=17, step=val, loss=3.39, acc=0.975]\n",
      "16it [00:02,  7.91it/s, epoch=18, step=15, loss=3.19, acc=0.976]\n",
      "16it [00:02,  7.90it/s, epoch=19, step=15, loss=3.16, acc=0.975]\n",
      "4it [00:00, 12.41it/s, epoch=19, step=val, loss=3.27, acc=0.976]\n",
      "16it [00:02,  7.88it/s, epoch=20, step=15, loss=3.12, acc=0.976]\n",
      "16it [00:02,  7.94it/s, epoch=21, step=15, loss=3.22, acc=0.973]\n",
      "4it [00:00, 12.16it/s, epoch=21, step=val, loss=3.16, acc=0.978]\n",
      "16it [00:02,  7.88it/s, epoch=22, step=15, loss=3.08, acc=0.976]\n",
      "16it [00:02,  7.89it/s, epoch=23, step=15, loss=3.19, acc=0.976]\n",
      "4it [00:00, 11.77it/s, epoch=23, step=val, loss=3.13, acc=0.979]\n",
      "16it [00:02,  7.90it/s, epoch=24, step=15, loss=3.13, acc=0.974]\n",
      "16it [00:02,  7.60it/s, epoch=25, step=15, loss=3.31, acc=0.959]\n",
      "4it [00:00, 10.82it/s, epoch=25, step=val, loss=3.53, acc=0.967]\n",
      "16it [00:02,  7.89it/s, epoch=26, step=15, loss=3.14, acc=0.976]\n",
      "16it [00:02,  7.89it/s, epoch=27, step=15, loss=3.11, acc=0.976]\n",
      "4it [00:00, 11.68it/s, epoch=27, step=val, loss=3.18, acc=0.98] \n",
      "16it [00:02,  7.85it/s, epoch=28, step=15, loss=3.15, acc=0.976]\n",
      "16it [00:02,  7.88it/s, epoch=29, step=15, loss=3.11, acc=0.977]\n",
      "4it [00:00, 11.41it/s, epoch=29, step=val, loss=3.14, acc=0.977]\n",
      "16it [00:02,  7.88it/s, epoch=30, step=15, loss=3, acc=0.978]   \n",
      "16it [00:02,  7.75it/s, epoch=31, step=15, loss=3.09, acc=0.976]\n",
      "4it [00:00, 11.79it/s, epoch=31, step=val, loss=3.07, acc=0.981]\n",
      "16it [00:02,  7.84it/s, epoch=32, step=15, loss=2.97, acc=0.979]\n",
      "16it [00:02,  7.86it/s, epoch=33, step=15, loss=2.96, acc=0.978]\n",
      "4it [00:00, 12.13it/s, epoch=33, step=val, loss=3.06, acc=0.98] \n",
      "16it [00:02,  7.85it/s, epoch=34, step=15, loss=3.04, acc=0.978]\n",
      "16it [00:02,  7.94it/s, epoch=35, step=15, loss=3, acc=0.98]   \n",
      "4it [00:00, 12.01it/s, epoch=35, step=val, loss=4.48, acc=0.951]\n"
     ]
    }
   ],
   "source": [
    "from tqdm import tqdm\n",
    "\n",
    "EPOCH=300\n",
    "model_mri.train()\n",
    "best_loss=np.inf\n",
    "PAITIENCE=5\n",
    "count=0\n",
    "try:\n",
    "    for e in range(EPOCH):\n",
    "        log= {'epoch':e,'step':0,'loss': 0, 'acc': 0}\n",
    "        model_mri.train()\n",
    "        MRI_ds.training=True\n",
    "        session=tqdm(enumerate(MRI_loader))\n",
    "        for i_iter, sample_batched in session:\n",
    "            pred,loss=one_batch(i_iter,log,sample_batched,model_mri,criterion_mri,optimizer_mri)\n",
    "            # print loss and take snapshots\n",
    "            if (i_iter + 1) % 5 == 0:\n",
    "                log['step']=i_iter+1\n",
    "                session.set_postfix(log)\n",
    "        # validate\n",
    "        if (e + 1) % 2 == 0:\n",
    "            log = {'epoch':e,'step':'val','loss': 0, 'acc': 0}\n",
    "            model_mri.eval()\n",
    "            MRI_ds.training=False\n",
    "            session=tqdm(enumerate(MRI_loader))\n",
    "            with torch.no_grad():\n",
    "                for i_iter,sample_batched in session:\n",
    "                    pred,loss=one_batch(i_iter,log,sample_batched,model_mri,criterion_mri,optimizer_mri)\n",
    "                    session.set_postfix(log)\n",
    "                        \n",
    "            # early stop        \n",
    "            if log[\"loss\"]<best_loss:\n",
    "                best_loss=log[\"loss\"]\n",
    "                torch.save(model_mri.state_dict(), 'snapshots/unet_arc_mri_best.pth')\n",
    "            elif count<=PAITIENCE: count+=1\n",
    "            else:\n",
    "                count=0\n",
    "                best_loss=np.inf\n",
    "                break \n",
    "            \n",
    "except KeyboardInterrupt:\n",
    "    print(\"\\nHuman Interrupted\")\n",
    "torch.save(model_mri.state_dict(), 'snapshots/unet_arc_mri_latest.pth')"
   ]
  },
  {
   "cell_type": "code",
   "execution_count": 20,
   "id": "367e13f8",
   "metadata": {},
   "outputs": [
    {
     "data": {
      "text/plain": [
       "<All keys matched successfully>"
      ]
     },
     "execution_count": 20,
     "metadata": {},
     "output_type": "execute_result"
    }
   ],
   "source": [
    "model_mri.load_state_dict(torch.load(\"snapshots/unet_arc_mri_best.pth\"))"
   ]
  },
  {
   "cell_type": "code",
   "execution_count": 21,
   "id": "ab4ec80f",
   "metadata": {},
   "outputs": [
    {
     "name": "stderr",
     "output_type": "stream",
     "text": [
      "0it [00:00, ?it/s, epoch=35, step=val, loss=3.06, acc=0.98]\n"
     ]
    }
   ],
   "source": [
    "model_mri.eval()\n",
    "MRI_ds.training=False\n",
    "session=tqdm(enumerate(MRI_loader))\n",
    "with torch.no_grad():\n",
    "    for i_iter,sample_batched in session:\n",
    "        pred,loss=one_batch(i_iter,log,sample_batched,model_mri,criterion_mri,optimizer_mri)\n",
    "        session.set_postfix(log)\n",
    "        break"
   ]
  },
  {
   "cell_type": "code",
   "execution_count": 22,
   "id": "159190d0",
   "metadata": {},
   "outputs": [
    {
     "name": "stdout",
     "output_type": "stream",
     "text": [
      "BATCHSIZE= 8\n",
      "(8, 256, 256) \n",
      " (8, 256, 256)\n"
     ]
    },
    {
     "data": {
      "image/png": "[encoded data removed]",
      "text/plain": [
       "<Figure size 576x144 with 16 Axes>"
      ]
     },
     "metadata": {
      "needs_background": "light"
     },
     "output_type": "display_data"
    }
   ],
   "source": [
    "show_image_annot((pred.cpu().detach().argmax(1)).numpy(),\n",
    "# show_image_annot((pred.cpu().detach().argmax(1)).numpy(),\n",
    "                 (sample_batched[1]).cpu().detach().numpy(),\n",
    "                 showPics=8, vmax=2)"
   ]
  },
  {
   "cell_type": "code",
   "execution_count": 57,
   "id": "fc21f0f3",
   "metadata": {},
   "outputs": [
    {
     "data": {
      "text/plain": [
       "{0, 1, 2}"
      ]
     },
     "execution_count": 57,
     "metadata": {},
     "output_type": "execute_result"
    }
   ],
   "source": [
    "set(sample_batched[1].flatten().numpy())"
   ]
  },
  {
   "cell_type": "code",
   "execution_count": 89,
   "id": "e7cdb5be",
   "metadata": {},
   "outputs": [
    {
     "name": "stdout",
     "output_type": "stream",
     "text": [
      "loading annotations into memory...\n",
      "Done (t=0.00s)\n",
      "creating index...\n",
      "index created!\n"
     ]
    }
   ],
   "source": [
    "ds_kwargs=dict(\n",
    "    transform=transform,\n",
    "    test_transform=None,\n",
    "    test_split=None\n",
    "    )\n",
    "MRI_ds=CTMRI_MultiClassDataset(MRI_anno_file,MRI_root_dir,**ds_kwargs)\n",
    "MRI_loader=tud.DataLoader(MRI_ds,**ldr_kwargs)"
   ]
  },
  {
   "cell_type": "code",
   "execution_count": 92,
   "id": "06c9f844",
   "metadata": {},
   "outputs": [
    {
     "name": "stderr",
     "output_type": "stream",
     "text": [
      "20it [00:02,  7.50it/s, epoch=0, step=20, loss=3.26, acc=0.96] \n",
      "20it [00:02,  7.63it/s, epoch=1, step=20, loss=3.24, acc=0.96] \n",
      "20it [00:02,  7.64it/s, epoch=2, step=20, loss=3.33, acc=0.963]\n"
     ]
    }
   ],
   "source": [
    "model_mri.train()\n",
    "MRI_ds.training=True\n",
    "for e in range(3):\n",
    "    log= {'epoch':e,'step':0,'loss': 0, 'acc': 0}\n",
    "    session=tqdm(enumerate(MRI_loader))\n",
    "    for i_iter, sample_batched in session:\n",
    "        pred,loss=one_batch(i_iter,log,sample_batched,model_mri,criterion_mri,optimizer_mri)\n",
    "        # print loss and take snapshots\n",
    "        if (i_iter + 1) % 5 == 0:\n",
    "            log['step']=i_iter+1\n",
    "            session.set_postfix(log)"
   ]
  },
  {
   "cell_type": "code",
   "execution_count": 96,
   "id": "9b81d63c",
   "metadata": {},
   "outputs": [
    {
     "name": "stdout",
     "output_type": "stream",
     "text": [
      "loading annotations into memory...\n",
      "Done (t=0.00s)\n",
      "creating index...\n",
      "index created!\n"
     ]
    }
   ],
   "source": [
    "from dataloaders.ctmri_multiclass import CTMRI_InferenceDataset\n",
    "ds_kwargs=dict(\n",
    "    transform=test_transform,\n",
    "    test_split=None\n",
    "    )\n",
    "ldr_kwargs=dict(\n",
    "    batch_size=8,\n",
    "    shuffle=False,\n",
    "    pin_memory=False,\n",
    "    num_workers=2\n",
    ")\n",
    "test_root_dir=join(DATA_ROOT,\"testset\")\n",
    "test_anno_file=join(DATA_ROOT,\"testset\",\"annotations/annotations_gt.json\")\n",
    "test_ds=CTMRI_MultiClassDataset(test_anno_file,test_root_dir,**ds_kwargs)\n",
    "# test_ds=CTMRI_InferenceDataset(test_anno_file,test_root_dir,test_transform=test_transform)\n",
    "test_loader=tud.DataLoader(test_ds,**ldr_kwargs)"
   ]
  },
  {
   "cell_type": "code",
   "execution_count": 97,
   "id": "5e69580b",
   "metadata": {},
   "outputs": [
    {
     "name": "stderr",
     "output_type": "stream",
     "text": [
      "0it [00:00, ?it/s, epoch=2, step=20, loss=8.66, acc=0.732]\n"
     ]
    }
   ],
   "source": [
    "model_mri.eval()\n",
    "test_ds.training=True\n",
    "session=tqdm(enumerate(test_loader))\n",
    "with torch.no_grad():\n",
    "    for i_iter,sample_batched in session:\n",
    "        pred,loss=one_batch(i_iter,log,sample_batched,model_mri,criterion_mri,optimizer_mri)\n",
    "        session.set_postfix(log)\n",
    "        break"
   ]
  },
  {
   "cell_type": "code",
   "execution_count": 98,
   "id": "4644d7bc",
   "metadata": {},
   "outputs": [
    {
     "name": "stdout",
     "output_type": "stream",
     "text": [
      "loading annotations into memory...\n",
      "Done (t=0.00s)\n",
      "creating index...\n",
      "index created!\n"
     ]
    }
   ],
   "source": [
    "test_ds=CTMRI_InferenceDataset(test_anno_file,test_root_dir,test_transform=test_transform)\n",
    "test_loader=tud.DataLoader(test_ds,**ldr_kwargs)\n",
    "model_mri.eval()\n",
    "pred=[]\n",
    "with torch.no_grad():\n",
    "    for xx in test_loader:\n",
    "        pred.append(model_mri(xx.cuda()))\n",
    "pred=torch.cat(pred)"
   ]
  },
  {
   "cell_type": "code",
   "execution_count": 99,
   "id": "edd97cff",
   "metadata": {},
   "outputs": [],
   "source": [
    "predictions=pred.cpu().detach().numpy()"
   ]
  },
  {
   "cell_type": "code",
   "execution_count": 100,
   "id": "fa80e993",
   "metadata": {},
   "outputs": [],
   "source": [
    "np.savez(\"prediction.npz\",predictions)"
   ]
  },
  {
   "cell_type": "code",
   "execution_count": 101,
   "id": "9b747179",
   "metadata": {},
   "outputs": [],
   "source": [
    "def mask2rle(img):\n",
    "    \"\"\"\n",
    "    img: numpy array, 1 - mask, 0 - background\n",
    "    Returns run length as string formatted\n",
    "    \"\"\"\n",
    "    pixels = img.flatten()\n",
    "    pixels = np.concatenate([[0], pixels, [0]])\n",
    "    runs = np.where(pixels[1:] != pixels[:-1])[0] + 1\n",
    "    runs[1::2] -= runs[::2]\n",
    "    return ' '.join(str(x) for x in runs)\n",
    "output=[*map(mask2rle,(predictions.argmax(1)==2).astype(\"int8\"))]\n",
    "# output=[*map(mask2rle,(predictions[:,2]>0.5).astype(\"int8\"))]"
   ]
  },
  {
   "cell_type": "code",
   "execution_count": 102,
   "id": "a3370a1d",
   "metadata": {},
   "outputs": [],
   "source": [
    "import pandas as pd\n",
    "df=pd.read_csv(\"sample_submission.csv\")\n",
    "df[\"rle\"]=output\n",
    "df.to_csv(\"submission_pretrain_argmax.csv\",index=False)"
   ]
  },
  {
   "cell_type": "code",
   "execution_count": null,
   "id": "a2ceef1f",
   "metadata": {},
   "outputs": [],
   "source": []
  }
 ],
 "metadata": {
  "kernelspec": {
   "display_name": "Python 3 (ipykernel)",
   "language": "python",
   "name": "python3"
  },
  "language_info": {
   "codemirror_mode": {
    "name": "ipython",
    "version": 3
   },
   "file_extension": ".py",
   "mimetype": "text/x-python",
   "name": "python",
   "nbconvert_exporter": "python",
   "pygments_lexer": "ipython3",
   "version": "3.7.10"
  }
 },
 "nbformat": 4,
 "nbformat_minor": 5
}
